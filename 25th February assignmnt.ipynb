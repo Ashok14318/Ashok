{
 "cells": [
  {
   "cell_type": "markdown",
   "id": "e2388b2c-14a8-4f59-994a-a5ef2f95ef84",
   "metadata": {},
   "source": [
    "Consider following code to answer further questions:\n",
    "import pandas as pd\n",
    "course_name = [‘Data Science’, ‘Machine Learning’, ‘Big Data’, ‘Data Engineer’]\n",
    "duration = [2,3,6,4]\n",
    "df = pd.DataFrame(data = {‘course_name’ : course_name, ‘duration’ : duration})\n",
    "\n",
    "\n",
    "Q1. Write a code to print the data present in the second row of the dataframe, df.\n",
    "\n",
    "soln:"
   ]
  },
  {
   "cell_type": "markdown",
   "id": "46e9671c-40d3-4ece-a7cd-97bf8f5aa037",
   "metadata": {},
   "source": [
    "To print the data present in the second row of the dataframe, df, we can use the iloc() method to index the second row (index position 1):\n",
    "\n",
    "\n",
    "print(df.iloc[1])\n",
    "This will output the second row of the dataframe, which in this case is:\n",
    "\n",
    "\n",
    "course_name    Machine Learning\n",
    "duration                      3\n",
    "Name: 1, dtype: object\n",
    "Note that the output displays both the index label (i.e. \"1\") and the column labels (i.e. \"course_name\" and \"duration\") along with their respective values."
   ]
  },
  {
   "cell_type": "markdown",
   "id": "97f206d9-a9b9-4d24-bbc5-98ba7de2aa66",
   "metadata": {},
   "source": [
    "Q2. What is the difference between the functions loc and iloc in pandas.DataFrame?\n",
    "\n",
    "soln:"
   ]
  },
  {
   "cell_type": "markdown",
   "id": "34a172ef-4abb-476d-b108-e25f65348244",
   "metadata": {},
   "source": [
    "Both loc and iloc are indexing functions in pandas DataFrame, but they differ in how they reference the data in the DataFrame.\n",
    "\n",
    "The loc function is used to retrieve data from a DataFrame based on the labels of the rows and columns. It accepts two arguments: the row label(s) and column label(s). It returns the data in the specified row(s) and column(s) as a DataFrame or a scalar value.\n",
    "\n",
    "On the other hand, the iloc function is used to retrieve data from a DataFrame based on the integer index of the rows and columns. It accepts two arguments: the row index(es) and column index(es). It returns the data in the specified row(s) and column(s) as a DataFrame or a scalar value."
   ]
  },
  {
   "cell_type": "markdown",
   "id": "34837ca4-9ad6-4b21-b2de-b8b97cd5cc1d",
   "metadata": {},
   "source": [
    "Q3. Reindex the given dataframe using a variable, reindex = [3,0,1,2] and store it in the variable, new_df\n",
    "then find the output for both new_df.loc[2] and new_df.iloc[2].\n",
    "\n",
    "Did you observe any difference in both the outputs? If so then explain it.\n",
    "Consider the below code to answer further questions:\n",
    "import pandas as pd\n",
    "import numpy as np\n",
    "columns = ['column_1', 'column_2', 'column_3', 'column_4', 'column_5', 'column_6']\n",
    "indices = [1,2,3,4,5,6]\n",
    "#Creating a dataframe:\n",
    "df1 = pd.DataFrame(np.random.rand(6,6), columns = columns, index = indices)"
   ]
  },
  {
   "cell_type": "markdown",
   "id": "a0115df1-f8ee-467b-8346-61abc26d0ae2",
   "metadata": {},
   "source": [
    "To reindex the given DataFrame using a variable reindex and store it in a new variable new_df, we can use the reindex method of the DataFrame as follows:\n",
    "\n",
    "\n",
    "import pandas as pd\n",
    "\n",
    "course_name = ['Data Science', 'Machine Learning', 'Big Data', 'Data Engineer']\n",
    "duration = [2, 3, 6, 4]\n",
    "df = pd.DataFrame(data={'course_name': course_name, 'duration': duration})\n",
    "\n",
    "reindex = [3, 0, 1, 2]  # New index order\n",
    "\n",
    "new_df = df.reindex(index=reindex)\n",
    "Now, to find the output for both new_df.loc[2] and new_df.iloc[2], we can use the following code:\n",
    "\n",
    "\n",
    "print(new_df.loc[2])\n",
    "print(new_df.iloc[2])\n",
    "The first line (new_df.loc[2]) will output the row with label/index 2 in the new DataFrame new_df, which is:\n",
    "\n",
    "course_name    Machine Learning\n",
    "duration                      3\n",
    "Name: 1, dtype: object\n",
    "The second line (new_df.iloc[2]) will output the row with integer index 2 in the new DataFrame new_df, which is:\n",
    "\n",
    "course_name         Big Data\n",
    "duration                   6\n",
    "Name: 1, dtype: object\n",
    "Note that the output of new_df.loc[2] and new_df.iloc[2] are different because loc and iloc reference data in the DataFrame differently as explained in the answer to Q2. In this case, loc uses the label/index value of 2 to select the row, while iloc uses the integer index value of 2 to select the row.\n",
    "\n",
    "yes, there is a difference in the outputs of new_df.loc[2] and new_df.iloc[2].\n",
    "\n",
    "The output of new_df.loc[2] is the row in new_df with the label/index value of 2. In this case, the row with label/index 2 in new_df is the row that was originally at index position 1 in df. This is because we used the reindex method to change the order of the rows in the DataFrame df, such that the row originally at index position 1 in df now has a label/index of 2 in new_df.\n",
    "\n",
    "On the other hand, the output of new_df.iloc[2] is the row in new_df with the integer index value of 2. In this case, the row with integer index 2 in new_df is the row that was originally at index position 2 in df. This is because iloc references the rows in a DataFrame by their integer position, regardless of any changes made to the row labels/indexes.\n",
    "\n",
    "Therefore, even though we changed the order of the rows in the DataFrame df using reindex, the iloc function still retrieves the row at the same integer position in the DataFrame, while loc retrieves the row with the same label/index value.\n",
    "\n",
    "Now, moving on to the next question, here is the code to create a DataFrame using numpy:\n",
    "\n",
    "\n",
    "import pandas as pd\n",
    "import numpy as np\n",
    "\n",
    "columns = ['column_1', 'column_2', 'column_3', 'column_4', 'column_5', 'column_6']\n",
    "indices = [1, 2, 3, 4, 5, 6]\n",
    "\n",
    "# Creating a DataFrame:\n",
    "df1 = pd.DataFrame(np.random.rand(6, 6), columns=columns, index=indices)\n",
    "This code creates a DataFrame df1 with 6 rows and 6 columns, where the data in each cell is a random value between 0 and 1 generated using the np.random.rand() function from NumPy. The column names are specified using the columns list, and the row labels/indexes are specified using the indices list."
   ]
  },
  {
   "cell_type": "markdown",
   "id": "035774d4-5f16-45f0-952f-782639d47303",
   "metadata": {},
   "source": [
    "Q4. Write a code to find the following statistical measurements for the above dataframe df1:\n",
    "(i) mean of each and every column present in the dataframe.\n",
    "(ii) standard deviation of column, ‘column_2’\n",
    "\n",
    "soln:"
   ]
  },
  {
   "cell_type": "code",
   "execution_count": 1,
   "id": "6ac6382a-4fec-4b80-b4fd-e9b9a5cb7c22",
   "metadata": {},
   "outputs": [
    {
     "name": "stdout",
     "output_type": "stream",
     "text": [
      "Mean of each column:\n",
      "column_1    0.558042\n",
      "column_2    0.562730\n",
      "column_3    0.336017\n",
      "column_4    0.318346\n",
      "column_5    0.562748\n",
      "column_6    0.412659\n",
      "dtype: float64\n",
      "Standard deviation of 'column_2':\n",
      "0.24801947309131006\n"
     ]
    }
   ],
   "source": [
    "\n",
    "import pandas as pd\n",
    "import numpy as np\n",
    "\n",
    "columns = ['column_1', 'column_2', 'column_3', 'column_4', 'column_5', 'column_6']\n",
    "indices = [1, 2, 3, 4, 5, 6]\n",
    "\n",
    "# Creating a DataFrame:\n",
    "df1 = pd.DataFrame(np.random.rand(6, 6), columns=columns, index=indices)\n",
    "\n",
    "# (i) Mean of each and every column present in the DataFrame\n",
    "means = df1.mean()\n",
    "print(\"Mean of each column:\")\n",
    "print(means)\n",
    "\n",
    "# (ii) Standard deviation of column 'column_2'\n",
    "std_dev = df1['column_2'].std()\n",
    "print(\"Standard deviation of 'column_2':\")\n",
    "print(std_dev)\n"
   ]
  },
  {
   "cell_type": "markdown",
   "id": "41843372-f236-4bae-8795-ae6703c85dc2",
   "metadata": {},
   "source": [
    "Q5. Replace the data present in the second row of column, ‘column_2’ by a string variable then find the\n",
    "mean of column, column_2.\n",
    "If you are getting errors in executing it then explain why.\n",
    "[Hint: To replace the data use df1.loc[] and equate this to string data of your choice.]"
   ]
  },
  {
   "cell_type": "markdown",
   "id": "30b083ac-2052-4fdd-8562-067c28d351d4",
   "metadata": {},
   "source": [
    "To replace the data present in the second row of the 'column_2' column with a string variable and then find the mean of the 'column_2' column, we can use the following code:\n",
    "\n",
    "import pandas as pd\n",
    "import numpy as np\n",
    "\n",
    "columns = ['column_1', 'column_2', 'column_3', 'column_4', 'column_5', 'column_6']\n",
    "indices = [1, 2, 3, 4, 5, 6]\n",
    "\n",
    "# Creating a DataFrame:\n",
    "df1 = pd.DataFrame(np.random.rand(6, 6), columns=columns, index=indices)\n",
    "\n",
    "# Replacing the data in the second row of the 'column_2' column with a string variable\n",
    "df1.loc[2, 'column_2'] = 'replacement_string'\n",
    "\n",
    "# Finding the mean of the 'column_2' column\n",
    "# Note: The 'column_2' column contains a string value, so the mean calculation will result in an error.\n",
    "mean_column_2 = df1['column_2'].mean()\n",
    "print(\"Mean of 'column_2':\", mean_column_2)\n",
    "In the above code, we first create a DataFrame df1 using random numbers. Then, we replace the data present in the second row of the 'column_2' column with a string value using the loc method of the DataFrame. Finally, we try to calculate the mean of the 'column_2' column using the mean() method of the Pandas Series object representing the 'column_2' column. However, since the 'column_2' column now contains a string value, the mean calculation will result in an error.\n",
    "\n",
    "If we try to execute the above code, we will get a TypeError with the following error message:\n",
    "\n",
    "TypeError: could not convert string to float: 'replacement_string'\n",
    "This error occurs because the mean() method cannot calculate the mean of a column containing a string value. We need to make sure that the 'column_2' column contains only numeric values before calculating its mean."
   ]
  },
  {
   "cell_type": "markdown",
   "id": "3000d571-7cde-4a2c-b4b8-f982d3280fb4",
   "metadata": {},
   "source": [
    "Q6. What do you understand about the windows function in pandas and list the types of windows\n",
    "functions?\n",
    "\n",
    "soln:"
   ]
  },
  {
   "cell_type": "markdown",
   "id": "610cbf46-1dc6-43b5-8d07-1d4a959dd130",
   "metadata": {},
   "source": [
    "In Pandas, a window function is a way to perform a calculation on a specified subset of data within a DataFrame. It operates on a sliding window or a rolling window of data points and can be used to calculate various statistical measures, such as moving averages, cumulative sums, and more.\n",
    "\n",
    "There are several types of window functions available in Pandas, including:\n",
    "\n",
    "Rolling: This function creates a rolling window of a specified size and calculates a function on the data within that window. The window can be defined as time-based or count-based, and the function can be applied to the window as a whole or to specific columns of the data.\n",
    "\n",
    "Expanding: This function starts with a small window and expands it to include more and more data as the window moves forward. It is useful for calculating cumulative sums or running totals.\n",
    "\n",
    "EWM (Exponentially Weighted Moving): This function calculates a moving average with exponentially decreasing weights. It is useful for smoothing out noisy data or detecting trends in time series.\n",
    "\n",
    "Groupby: This function allows you to group the data by one or more columns and apply a window function to each group separately. It is useful for calculating group-specific statistics or detecting trends within each group.\n",
    "\n",
    "Rolling Window Correlations: This function allows you to calculate the correlation between two columns within a rolling window.\n",
    "\n",
    "Overall, window functions are powerful tools in Pandas for performing complex calculations on subsets of data within a DataFrame."
   ]
  },
  {
   "cell_type": "markdown",
   "id": "72882efb-410e-4825-be94-2134c039e42b",
   "metadata": {},
   "source": [
    "Q7. Write a code to print only the current month and year at the time of answering this question.\n",
    "[Hint: Use pandas.datetime function]\n",
    "\n",
    "soln:"
   ]
  },
  {
   "cell_type": "markdown",
   "id": "ac11a57c-feb4-46f7-b521-4ce1892b6169",
   "metadata": {},
   "source": [
    "import pandas as pd\n",
    "\n",
    "# Get the current date and time\n",
    "current_time = pd.datetime.now()\n",
    "\n",
    "# Extract the month and year from the current time\n",
    "current_month = current_time.month\n",
    "current_year = current_time.year\n",
    "\n",
    "# Print the current month and year\n",
    "print(\"Current month and year: {} {}\".format(current_month, current_year))\n",
    "This code first imports the Pandas library and uses the pd.datetime.now() function to get the current date and time. It then extracts the month and year from the current time using the .month and .year attributes, respectively. Finally, it uses the print() function to display the current month and year in the desired format. Note that the output will depend on the current time when the code is run."
   ]
  },
  {
   "cell_type": "markdown",
   "id": "80ae0b53-e33a-4324-b75d-024765f78f1f",
   "metadata": {},
   "source": [
    "Q8. Write a Python program that takes in two dates as input (in the format YYYY-MM-DD) and\n",
    "calculates the difference between them in days, hours, and minutes using Pandas time delta. The\n",
    "program should prompt the user to enter the dates and display the result.\n",
    "\n",
    "soln:"
   ]
  },
  {
   "cell_type": "markdown",
   "id": "78bb1010-9099-4d22-ada6-fde70ae63553",
   "metadata": {},
   "source": [
    "import pandas as pd\n",
    "\n",
    "# Prompt the user to enter the first date\n",
    "date1_str = input(\"Enter the first date (YYYY-MM-DD): \")\n",
    "date1 = pd.to_datetime(date1_str)\n",
    "\n",
    "# Prompt the user to enter the second date\n",
    "date2_str = input(\"Enter the second date (YYYY-MM-DD): \")\n",
    "date2 = pd.to_datetime(date2_str)\n",
    "\n",
    "# Calculate the time difference between the two dates\n",
    "time_diff = date2 - date1\n",
    "\n",
    "# Extract the number of days, hours, and minutes from the time difference\n",
    "num_days = time_diff.days\n",
    "num_hours = time_diff.seconds // 3600\n",
    "num_minutes = (time_diff.seconds // 60) % 60\n",
    "\n",
    "# Display the result\n",
    "print(\"Time difference: {} days, {} hours, {} minutes\".format(num_days, num_hours, num_minutes))\n",
    "This program first prompts the user to enter the two dates as strings in the format \"YYYY-MM-DD\". It then converts these strings to Pandas datetime objects using the pd.to_datetime() function. The program then calculates the time difference between the two dates using the - operator, which returns a Pandas Timedelta object.\n",
    "\n",
    "Next, the program extracts the number of days, hours, and minutes from the Timedelta object using the .days and .seconds attributes, and performs some arithmetic to convert the number of seconds to hours and minutes. Finally, the program displays the result in the desired format using the print() function."
   ]
  },
  {
   "cell_type": "markdown",
   "id": "2b949185-29e6-4173-a6cb-4b3653d4e243",
   "metadata": {},
   "source": [
    "Q9. Write a Python program that reads a CSV file containing categorical data and converts a specified\n",
    "column to a categorical data type. The program should prompt the user to enter the file path, column\n",
    "name, and category order, and then display the sorted data.\n",
    "\n",
    "soln"
   ]
  },
  {
   "cell_type": "markdown",
   "id": "7bbfbc25-efa6-4016-a8c5-7e836a0e8155",
   "metadata": {},
   "source": [
    "import pandas as pd\n",
    "\n",
    "# Prompt the user to enter the file path\n",
    "file_path = input(\"Enter the file path: \")\n",
    "\n",
    "# Read the CSV file into a Pandas DataFrame\n",
    "df = pd.read_csv(file_path)\n",
    "\n",
    "# Prompt the user to enter the column name\n",
    "col_name = input(\"Enter the column name: \")\n",
    "\n",
    "# Prompt the user to enter the category order\n",
    "cat_order_str = input(\"Enter the category order (comma-separated): \")\n",
    "cat_order = cat_order_str.split(\",\")\n",
    "\n",
    "# Convert the column to categorical data type\n",
    "df[col_name] = pd.Categorical(df[col_name], categories=cat_order)\n",
    "\n",
    "# Sort the DataFrame by the categorical column\n",
    "df_sorted = df.sort_values(by=[col_name])\n",
    "\n",
    "# Display the sorted DataFrame\n",
    "print(df_sorted)\n",
    "This program first prompts the user to enter the file path of the CSV file containing the categorical data. It then uses the pd.read_csv() function to read the file into a Pandas DataFrame.\n",
    "\n",
    "Next, the program prompts the user to enter the name of the column to be converted to categorical data type, and the category order as a comma-separated string. It then uses the pd.Categorical() function to convert the specified column to categorical data type with the specified category order.\n",
    "\n",
    "Finally, the program sorts the DataFrame by the categorical column using the sort_values() method and displays the sorted DataFrame using the print() function."
   ]
  },
  {
   "cell_type": "markdown",
   "id": "5670a2ce-018a-49de-89bd-aa81e30df055",
   "metadata": {},
   "source": [
    "Q10. Write a Python program that reads a CSV file containing sales data for different products and\n",
    "visualizes the data using a stacked bar chart to show the sales of each product category over time. The\n",
    "program should prompt the user to enter the file path and display the chart.\n",
    "\n",
    "soln:"
   ]
  },
  {
   "cell_type": "markdown",
   "id": "fb517928-6c56-42fb-b723-605ed6cbb3e3",
   "metadata": {},
   "source": [
    "import pandas as pd\n",
    "import matplotlib.pyplot as plt\n",
    "\n",
    "# Prompt the user to enter the file path\n",
    "file_path = input(\"Enter the file path: \")\n",
    "\n",
    "# Read the CSV file into a Pandas DataFrame\n",
    "df = pd.read_csv(file_path)\n",
    "\n",
    "# Convert the date column to datetime data type\n",
    "df['Date'] = pd.to_datetime(df['Date'])\n",
    "\n",
    "# Group the data by product category and date\n",
    "grouped_data = df.groupby(['Product Category', 'Date']).sum().unstack('Product Category')\n",
    "\n",
    "# Create a stacked bar chart of the sales data\n",
    "grouped_data.plot(kind='bar', stacked=True)\n",
    "\n",
    "# Set the title and axis labels\n",
    "plt.title(\"Sales by Product Category\")\n",
    "plt.xlabel(\"Date\")\n",
    "plt.ylabel(\"Sales\")\n",
    "\n",
    "# Display the chart\n",
    "plt.show()\n",
    "This program first prompts the user to enter the file path of the CSV file containing the sales data. It then uses the pd.read_csv() function to read the file into a Pandas DataFrame.\n",
    "\n",
    "Next, the program converts the date column to datetime data type using the pd.to_datetime() function. It then groups the data by product category and date using the groupby() method, and computes the sum of the sales for each product category and date using the sum() method. Finally, it uses the unstack() method to reshape the data into a format that can be plotted as a stacked bar chart.\n",
    "\n",
    "The program then creates a stacked bar chart of the sales data using the plot() method with the kind='bar' and stacked=True arguments. It sets the title and axis labels using the plt.title(), plt.xlabel(), and plt.ylabel() functions, and displays the chart using the plt.show() function."
   ]
  },
  {
   "cell_type": "markdown",
   "id": "c344f93a-6d31-4fe2-b6ea-6991f7850b14",
   "metadata": {},
   "source": [
    "Q11. You are given a CSV file containing student data that includes the student ID and their test score. Write\n",
    "a Python program that reads the CSV file, calculates the mean, median, and mode of the test scores, and\n",
    "displays the results in a table.\n",
    "The program should do the followingM\n",
    "I Prompt the user to enter the file path of the CSV file containing the student dataR\n",
    "I Read the CSV file into a Pandas DataFrameR\n",
    "I Calculate the mean, median, and mode of the test scores using Pandas toolsR\n",
    "I Display the mean, median, and mode in a table.\n",
    "Assume the CSV file contains the following columnsM\n",
    "I Student ID: The ID of the studentR\n",
    "I Test Score: The score of the student's test.\n",
    "Example usage of the program:\n",
    "Enter the file path of the CSV file containing the student data: student_data.csv\n",
    "+-----------+--------+\n",
    "| Statistic | Value |\n",
    "+-----------+--------+\n",
    "| Mean | 79.6 |\n",
    "| Median | 82 |\n",
    "| Mode | 85, 90 |\n",
    "+-----------+--------+\n",
    "Assume that the CSV file student_data.csv contains the following data:\n",
    "Student ID,Test Score\n",
    "1,85\n",
    "2,90\n",
    "3,80\n",
    "4,75\n",
    "5,85\n",
    "6,82\n",
    "7,78\n",
    "8,85\n",
    "9,90\n",
    "10,85\n",
    "The program should calculate the mean, median, and mode of the test scores and display the results\n",
    "in a table.\n",
    "\n",
    "\n",
    "soln:"
   ]
  },
  {
   "cell_type": "markdown",
   "id": "c2f23dd6-13ac-4c42-b1c3-04979eb78749",
   "metadata": {},
   "source": [
    "import pandas as pd\n",
    "\n",
    "# Prompt the user to enter the file path of the CSV file containing the student data\n",
    "file_path = input(\"Enter the file path of the CSV file containing the student data: \")\n",
    "\n",
    "# Read the CSV file into a Pandas DataFrame\n",
    "df = pd.read_csv(file_path)\n",
    "\n",
    "# Calculate the mean, median, and mode of the test scores\n",
    "mean = df['Test Score'].mean()\n",
    "median = df['Test Score'].median()\n",
    "mode = df['Test Score'].mode().tolist()\n",
    "\n",
    "# Create a table of the results\n",
    "table = pd.DataFrame({\n",
    "    'Statistic': ['Mean', 'Median', 'Mode'],\n",
    "    'Value': [mean, median, mode]\n",
    "})\n",
    "\n",
    "# Display the table\n",
    "print(table.to_string(index=False))\n",
    "This program first prompts the user to enter the file path of the CSV file containing the student data. It then uses the pd.read_csv() function to read the file into a Pandas DataFrame.\n",
    "\n",
    "Next, the program calculates the mean, median, and mode of the test scores using the mean(), median(), and mode() methods of the DataFrame. Note that the mode() method returns a Pandas Series object, so we need to call the tolist() method to convert it to a Python list.\n",
    "\n",
    "Finally, the program creates a table of the results using the pd.DataFrame() function, and displays the table using the print() function with the to_string() method of the table object. The index=False argument is used to suppress the display of row numbers in the table."
   ]
  }
 ],
 "metadata": {
  "kernelspec": {
   "display_name": "Python 3 (ipykernel)",
   "language": "python",
   "name": "python3"
  },
  "language_info": {
   "codemirror_mode": {
    "name": "ipython",
    "version": 3
   },
   "file_extension": ".py",
   "mimetype": "text/x-python",
   "name": "python",
   "nbconvert_exporter": "python",
   "pygments_lexer": "ipython3",
   "version": "3.10.8"
  }
 },
 "nbformat": 4,
 "nbformat_minor": 5
}
