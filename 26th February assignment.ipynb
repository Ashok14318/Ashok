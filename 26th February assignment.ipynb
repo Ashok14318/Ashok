{
 "cells": [
  {
   "cell_type": "markdown",
   "id": "ca46cffb-a71d-4d2b-8c9f-dce4acb6557a",
   "metadata": {},
   "source": [
    "Consider the below code to answer further questions:\n",
    "import numpy as np\n",
    "list_ = [ ‘1’ , ’2’ , ‘3’ , ‘4’ , ‘5’ ]\n",
    "array_list = np.array(object = list_)\n",
    "\n",
    "\n",
    "Q1. Is there any difference in the data type of variables list_ and array_list? If there is then write a code\n",
    "to print the data types of both the variables.\n",
    "\n",
    "soln:"
   ]
  },
  {
   "cell_type": "markdown",
   "id": "b34c378d-3d8d-4234-acd8-8b4538b5279f",
   "metadata": {},
   "source": [
    "there is a difference in the data type of variables list_ and array_list. list_ is a Python list, while array_list is a NumPy array.\n",
    "\n",
    "To print the data types of both variables, you can use the type() function:"
   ]
  },
  {
   "cell_type": "code",
   "execution_count": 1,
   "id": "79c7406f-b59b-46a1-a043-4c949ccc68da",
   "metadata": {},
   "outputs": [
    {
     "name": "stdout",
     "output_type": "stream",
     "text": [
      "<class 'list'>\n",
      "<class 'numpy.ndarray'>\n"
     ]
    }
   ],
   "source": [
    "\n",
    "\n",
    "import numpy as np\n",
    "\n",
    "list_ = ['1', '2', '3', '4', '5']\n",
    "array_list = np.array(object=list_)\n",
    "\n",
    "print(type(list_))       # <class 'list'>\n",
    "print(type(array_list))  # <class 'numpy.ndarray'>\n"
   ]
  },
  {
   "cell_type": "markdown",
   "id": "c0146f97-d473-4589-af48-8324bd6205f3",
   "metadata": {},
   "source": [
    "The type() function returns the data type of the argument passed to it. In this case, the first print() statement shows that the data type of list_ is list, while the second print() statement shows that the data type of array_list is numpy.ndarray."
   ]
  },
  {
   "cell_type": "markdown",
   "id": "2b99ba0c-efa4-4c4b-b0a4-0cab4363fb94",
   "metadata": {},
   "source": [
    "Q2. Write a code to print the data type of each and every element of both the variables list_ and\n",
    "arra_list.\n",
    "\n",
    "soln:"
   ]
  },
  {
   "cell_type": "code",
   "execution_count": 2,
   "id": "00dfef83-89ff-4312-b6ab-bc1c37b2f682",
   "metadata": {},
   "outputs": [
    {
     "name": "stdout",
     "output_type": "stream",
     "text": [
      "<class 'str'>\n",
      "<class 'str'>\n",
      "<class 'str'>\n",
      "<class 'str'>\n",
      "<class 'str'>\n",
      "<class 'numpy.str_'>\n",
      "<class 'numpy.str_'>\n",
      "<class 'numpy.str_'>\n",
      "<class 'numpy.str_'>\n",
      "<class 'numpy.str_'>\n"
     ]
    }
   ],
   "source": [
    "import numpy as np\n",
    "\n",
    "list_ = ['1', '2', '3', '4', '5']\n",
    "array_list = np.array(object=list_)\n",
    "\n",
    "# print data type of each element in list_\n",
    "for element in list_:\n",
    "    print(type(element))\n",
    "\n",
    "# print data type of each element in array_list\n",
    "for element in array_list:\n",
    "    print(type(element))"
   ]
  },
  {
   "cell_type": "markdown",
   "id": "b4ac6961-42e2-4bc5-8174-448039a85edd",
   "metadata": {},
   "source": [
    "the first loop iterates through each element of list_ and prints the data type of each element using the type() function. The second loop iterates through each element of array_list and also prints the data type of each element using the type() function.\n",
    "\n",
    "Note that since all the elements in both list_ and array_list are strings, the data type of each element will be str."
   ]
  },
  {
   "cell_type": "markdown",
   "id": "cc41d4db-7f65-4b66-b2b7-fd84e233aed3",
   "metadata": {},
   "source": [
    "Q3. Considering the following changes in the variable, array_list:\n",
    "array_list = np.array(object = list_, dtype = int)\n",
    "Will there be any difference in the data type of the elements present in both the variables, list_ and\n",
    "arra_list? If so then print the data types of each and every element present in both the variables, list_\n",
    "and arra_list.\n",
    "Consider the below code to answer further questions:\n",
    "import numpy as np\n",
    "num_list = [ [ 1 , 2 , 3 ] , [ 4 , 5 , 6 ] ]\n",
    "num_array = np.array(object = num_list)\n",
    "\n",
    "soln:"
   ]
  },
  {
   "cell_type": "code",
   "execution_count": 3,
   "id": "e25408c4-af10-4dd0-8ba6-794fc2cf5290",
   "metadata": {},
   "outputs": [
    {
     "name": "stdout",
     "output_type": "stream",
     "text": [
      "<class 'str'>\n",
      "<class 'str'>\n",
      "<class 'str'>\n",
      "<class 'str'>\n",
      "<class 'str'>\n",
      "<class 'numpy.int64'>\n",
      "<class 'numpy.int64'>\n",
      "<class 'numpy.int64'>\n",
      "<class 'numpy.int64'>\n",
      "<class 'numpy.int64'>\n"
     ]
    }
   ],
   "source": [
    "import numpy as np\n",
    "\n",
    "list_ = ['1', '2', '3', '4', '5']\n",
    "array_list = np.array(object=list_, dtype=int)\n",
    "\n",
    "# print data type of each element in list_\n",
    "for element in list_:\n",
    "    print(type(element))\n",
    "\n",
    "# print data type of each element in array_list\n",
    "for element in array_list:\n",
    "    print(type(element))"
   ]
  },
  {
   "cell_type": "markdown",
   "id": "f89ca1ce-5dda-4de6-9b53-7e58d173e014",
   "metadata": {},
   "source": [
    "Yes, there will be a difference in the data type of the elements present in list_ and array_list after applying the dtype=int argument. When dtype is set to int, array_list will be an array of integers instead of an array of strings.\n",
    "\n",
    "To print the data types of each and every element present in both list_ and array_list, you can use a loop to iterate through each element and apply the type() function to it. \n",
    "\n",
    "the first loop iterates through each element of list_ and prints the data type of each element using the type() function. The second loop iterates through each element of array_list and also prints the data type of each element using the type() function.\n",
    "\n",
    "As for the second part of the question, the variable num_array will be a 2-dimensional NumPy array of integers. The elements in num_list are already integers, so there is no need to specify dtype=int. To print the data types of each element in num_array, you can use a nested loop to iterate through each row and each column of the array, like this:"
   ]
  },
  {
   "cell_type": "code",
   "execution_count": 4,
   "id": "3b6158ba-d643-465f-8a8d-56f59bf31376",
   "metadata": {},
   "outputs": [
    {
     "name": "stdout",
     "output_type": "stream",
     "text": [
      "<class 'numpy.int64'>\n",
      "<class 'numpy.int64'>\n",
      "<class 'numpy.int64'>\n",
      "<class 'numpy.int64'>\n",
      "<class 'numpy.int64'>\n",
      "<class 'numpy.int64'>\n"
     ]
    }
   ],
   "source": [
    "import numpy as np\n",
    "\n",
    "num_list = [[1, 2, 3], [4, 5, 6]]\n",
    "num_array = np.array(object=num_list)\n",
    "\n",
    "# print data type of each element in num_array\n",
    "for row in num_array:\n",
    "    for element in row:\n",
    "        print(type(element))"
   ]
  },
  {
   "cell_type": "markdown",
   "id": "78b5a914-3499-434e-914b-0305d2c9f366",
   "metadata": {},
   "source": [
    "Q4. Write a code to find the following characteristics of variable, num_array:\n",
    "(i) shape\n",
    "(ii) size\n",
    "\n",
    "soln:"
   ]
  },
  {
   "cell_type": "code",
   "execution_count": 5,
   "id": "72a1cfac-fded-44cd-b261-6999c02e39ad",
   "metadata": {},
   "outputs": [
    {
     "name": "stdout",
     "output_type": "stream",
     "text": [
      "Shape of num_array: (2, 3)\n",
      "Size of num_array: 6\n"
     ]
    }
   ],
   "source": [
    "import numpy as np\n",
    "\n",
    "num_list = [[1, 2, 3], [4, 5, 6]]\n",
    "num_array = np.array(num_list)\n",
    "\n",
    "# find the shape of num_array\n",
    "print(\"Shape of num_array:\", num_array.shape)\n",
    "\n",
    "# find the size of num_array\n",
    "print(\"Size of num_array:\", num_array.size)"
   ]
  },
  {
   "cell_type": "markdown",
   "id": "061537d8-4403-462e-aaa3-c0623aa54428",
   "metadata": {},
   "source": [
    "Q5. Write a code to create numpy array of 3*3 matrix containing zeros only, using a numpy array\n",
    "creation function.\n",
    "[Hint: The size of the array will be 9 and the shape will be (3,3).]\n",
    "\n",
    "soln:"
   ]
  },
  {
   "cell_type": "code",
   "execution_count": 6,
   "id": "6a90bfb9-40a5-4094-9fa3-f04ffd4052b5",
   "metadata": {},
   "outputs": [
    {
     "name": "stdout",
     "output_type": "stream",
     "text": [
      "[[0. 0. 0.]\n",
      " [0. 0. 0.]\n",
      " [0. 0. 0.]]\n"
     ]
    }
   ],
   "source": [
    "import numpy as np\n",
    "\n",
    "# create a 3x3 matrix containing only zeros\n",
    "zeros_array = np.zeros((3, 3))\n",
    "\n",
    "print(zeros_array)"
   ]
  },
  {
   "cell_type": "code",
   "execution_count": null,
   "id": "ab8a7e2c-c0d6-4c1c-9759-285aeb22f49f",
   "metadata": {},
   "outputs": [],
   "source": []
  }
 ],
 "metadata": {
  "kernelspec": {
   "display_name": "Python 3 (ipykernel)",
   "language": "python",
   "name": "python3"
  },
  "language_info": {
   "codemirror_mode": {
    "name": "ipython",
    "version": 3
   },
   "file_extension": ".py",
   "mimetype": "text/x-python",
   "name": "python",
   "nbconvert_exporter": "python",
   "pygments_lexer": "ipython3",
   "version": "3.10.8"
  }
 },
 "nbformat": 4,
 "nbformat_minor": 5
}
