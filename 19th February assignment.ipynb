{
 "cells": [
  {
   "cell_type": "markdown",
   "id": "386d2f6e-04f6-4f95-bbd1-bb011e2388e8",
   "metadata": {},
   "source": [
    "Q1. What is Flask Framework? What are the advantages of Flask Framework?\n",
    "\n",
    "soln:\n",
    "    "
   ]
  },
  {
   "cell_type": "markdown",
   "id": "f54616bb-c8ee-42c0-9d54-9d2f6053a265",
   "metadata": {},
   "source": [
    "Flask is a lightweight web application framework for Python that provides developers with the tools to build web applications quickly and easily. Flask is designed to be simple and flexible, with a minimalistic core that can be extended with a wide range of third-party libraries and plugins.\n",
    "\n",
    "Advantages of Flask Framework:\n",
    "\n",
    "Lightweight: Flask is a lightweight framework that is easy to learn and use, making it a great choice for small to medium-sized web applications.\n",
    "\n",
    "Flexible: Flask is designed to be flexible, with a minimalistic core that can be extended with a wide range of third-party libraries and plugins, allowing developers to customize their applications to meet their specific needs.\n",
    "\n",
    "Easy to Use: Flask is easy to learn and use, with a simple and intuitive API that makes it easy to get started with web development.\n",
    "\n",
    "Fast Development: Flask provides developers with the tools to build web applications quickly and easily, allowing them to focus on building the features that matter most to their users.\n",
    "\n",
    "Scalable: Flask is scalable, allowing developers to build web applications that can handle large volumes of traffic and scale up as needed.\n",
    "\n",
    "Large Community: Flask has a large and active community of developers, making it easy to find support, documentation, and third-party libraries and plugins.\n",
    "\n",
    "Built-in Development Server: Flask comes with a built-in development server, which makes it easy to test and debug web applications during development.\n",
    "\n",
    "Overall, Flask is a powerful and flexible web application framework that provides developers with the tools they need to build web applications quickly and easily, while also providing the scalability and flexibility to meet the needs of large-scale applications."
   ]
  },
  {
   "cell_type": "markdown",
   "id": "258df26d-ccb2-4792-8cef-5484e42dfb9d",
   "metadata": {},
   "source": [
    "Q2. Create a simple Flask application to display ‘Hello World!!’. Attach the screenshot of the output in\n",
    "Jupyter Notebook.\n",
    "\n",
    "soln:"
   ]
  },
  {
   "cell_type": "markdown",
   "id": "3b23325a-412c-42e8-b9d2-1d6ffab182d5",
   "metadata": {},
   "source": [
    "from flask import Flask\n",
    "\n",
    "app = Flask(__name__)\n",
    "\n",
    "@app.route(\"/\")\n",
    "def hello():\n",
    "    return \"Hello World!!\"\n",
    "\n",
    "if __name__ == \"__main__\":\n",
    "    app.run(debug=True)"
   ]
  },
  {
   "cell_type": "markdown",
   "id": "537cc8c1-38b4-4022-ae1d-106122807ecb",
   "metadata": {},
   "source": [
    "Q3. What is App routing in Flask? Why do we use app routes?\n",
    "\n",
    "soln:\n",
    "    "
   ]
  },
  {
   "cell_type": "markdown",
   "id": "dcef952e-e95b-46a0-a8e1-298038d6a79d",
   "metadata": {},
   "source": [
    "app routing refers to the process of mapping URLs to specific functions in your application. This is done using the @app.route decorator, which is used to define a new route in your Flask application.\n",
    "\n",
    "For example, if you have a Flask application that needs to handle requests to two different URLs, you could define two routes like this:\n",
    "\n",
    "\n",
    "from flask import Flask\n",
    "\n",
    "app = Flask(__name__)\n",
    "\n",
    "@app.route(\"/\")\n",
    "def index():\n",
    "    return \"Welcome to my homepage!\"\n",
    "\n",
    "@app.route(\"/about\")\n",
    "def about():\n",
    "    return \"About me\"\n",
    "In this example, we have defined two routes: one for the root URL (\"/\") and one for the \"/about\" URL. When a user accesses these URLs in their web browser, Flask will call the appropriate function (index() or about()) to generate a response.\n",
    "\n",
    "App routing is an important feature of Flask because it allows you to create a logical structure for your web application. By mapping URLs to specific functions, you can create a well-organized and easy-to-navigate web application that makes it easy for users to find the information they need.\n",
    "\n",
    "We use app routes in Flask to:\n",
    "\n",
    "Define the structure and organization of our web application: By mapping URLs to specific functions, we can create a logical structure for our web application that makes it easy to navigate.\n",
    "\n",
    "Create dynamic content: By using app routes, we can create dynamic content that changes based on user input. For example, we might create a route that takes a user's search query as input and returns search results.\n",
    "\n",
    "Handle different types of requests: App routes allow us to handle different types of requests (e.g., GET, POST, PUT, DELETE) and respond with appropriate content. This is important for building a web application that can handle a variety of user interactions."
   ]
  },
  {
   "cell_type": "markdown",
   "id": "8d0c37b2-15d6-46b4-89d3-4516a2be975d",
   "metadata": {},
   "source": [
    "Q4. Create a “/welcome” route to display the welcome message “Welcome to ABC Corporation” and a “/”\n",
    "route to show the following details:\n",
    "Company Name: ABC Corporation\n",
    "Location: India\n",
    "Contact Detail: 999-999-9999\n",
    "\n",
    "soln:\n",
    "    "
   ]
  },
  {
   "cell_type": "markdown",
   "id": "b342a4fa-b79d-413d-8b00-d7f9a26d30f3",
   "metadata": {},
   "source": [
    "from flask import Flask\n",
    "\n",
    "app = Flask(__name__)\n",
    "\n",
    "@app.route(\"/welcome\")\n",
    "def welcome():\n",
    "    return \"Welcome to ABC Corporation\"\n",
    "\n",
    "@app.route(\"/\")\n",
    "def company_info():\n",
    "    return \"Company Name: ABC Corporation<br>Location: India<br>Contact Detail: 999-999-9999\"\n",
    "\n",
    "if __name__ == \"__main__\":\n",
    "    app.run(debug=True)"
   ]
  },
  {
   "cell_type": "markdown",
   "id": "2dc7377e-c314-495b-a1de-a1e1c6326f3d",
   "metadata": {},
   "source": [
    "Q5. What function is used in Flask for URL Building? Write a Python code to demonstrate the working of the\n",
    "url_for() function.\n",
    "\n",
    "soln:"
   ]
  },
  {
   "cell_type": "markdown",
   "id": "ce16a8e6-4ab0-400d-9cd9-13fdd1c459fd",
   "metadata": {},
   "source": [
    "the url_for() function is used for URL building. It generates a URL for a given view function and its parameters.\n",
    "\n",
    "Here's an example Flask application that demonstrates the usage of the url_for() function:\n",
    "\n",
    "python\n",
    "Copy code\n",
    "from flask import Flask, url_for\n",
    "\n",
    "app = Flask(__name__)\n",
    "\n",
    "@app.route(\"/\")\n",
    "def home():\n",
    "    return \"This is the home page!\"\n",
    "\n",
    "@app.route(\"/about\")\n",
    "def about():\n",
    "    return \"This is the about page!\"\n",
    "\n",
    "@app.route(\"/user/<username>\")\n",
    "def profile(username):\n",
    "    return f\"Hello, {username}!\"\n",
    "\n",
    "@app.route(\"/user_id/<int:user_id>\")\n",
    "def user_id(user_id):\n",
    "    return f\"User ID: {user_id}\"\n",
    "\n",
    "@app.route(\"/login\")\n",
    "def login():\n",
    "    return \"Please log in here\"\n",
    "\n",
    "@app.route(\"/logout\")\n",
    "def logout():\n",
    "    return \"You have been logged out\"\n",
    "\n",
    "@app.route(\"/dashboard\")\n",
    "def dashboard():\n",
    "    # Use url_for() to generate URLs for different routes\n",
    "    home_url = url_for(\"home\")\n",
    "    about_url = url_for(\"about\")\n",
    "    profile_url = url_for(\"profile\", username=\"John\")\n",
    "    user_id_url = url_for(\"user_id\", user_id=123)\n",
    "    login_url = url_for(\"login\")\n",
    "    logout_url = url_for(\"logout\")\n",
    "\n",
    "    # Return a string that contains links to the different URLs\n",
    "    return f\"Dashboard<br><br>\" \\\n",
    "           f\"<a href='{home_url}'>Home</a><br>\" \\\n",
    "           f\"<a href='{about_url}'>About</a><br>\" \\\n",
    "           f\"<a href='{profile_url}'>Profile</a><br>\" \\\n",
    "           f\"<a href='{user_id_url}'>User ID</a><br>\" \\\n",
    "           f\"<a href='{login_url}'>Log in</a><br>\" \\\n",
    "           f\"<a href='{logout_url}'>Log out</a><br>\"\n",
    "\n",
    "if __name__ == \"__main__\":\n",
    "    app.run(debug=True)\n",
    "In this example, we have defined several routes for different pages (home, about, profile, user_id, login, and logout). The dashboard() function uses the url_for() function to generate URLs for each of these routes and then returns a string that contains links to these URLs.\n",
    "\n",
    "When you run this Flask application and access the \"/dashboard\" route in your web browser, you should see a page that displays links to the different pages of the application. Clicking on each link will take you to the corresponding page."
   ]
  },
  {
   "cell_type": "code",
   "execution_count": null,
   "id": "8ee3eaae-e2ab-4837-956a-69bb2216c2b4",
   "metadata": {},
   "outputs": [],
   "source": []
  }
 ],
 "metadata": {
  "kernelspec": {
   "display_name": "Python 3 (ipykernel)",
   "language": "python",
   "name": "python3"
  },
  "language_info": {
   "codemirror_mode": {
    "name": "ipython",
    "version": 3
   },
   "file_extension": ".py",
   "mimetype": "text/x-python",
   "name": "python",
   "nbconvert_exporter": "python",
   "pygments_lexer": "ipython3",
   "version": "3.10.8"
  }
 },
 "nbformat": 4,
 "nbformat_minor": 5
}
