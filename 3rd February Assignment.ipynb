{
 "cells": [
  {
   "cell_type": "markdown",
   "id": "8e84dcd4-afb8-45c4-bb19-0e1f0fe35008",
   "metadata": {},
   "source": [
    "Q1. Which keyword is used to create a function? Create a function to return a list of odd numbers in the  range of 1 to 25. \n",
    "\n",
    "soln:\n",
    "\n",
    "The keyword def is used to create a function in Python. Here's an example of a function that returns a list of odd numbers in the range of 1 to 25:"
   ]
  },
  {
   "cell_type": "code",
   "execution_count": 1,
   "id": "40411ad7-79fb-4e44-91f2-00ecf60b6a20",
   "metadata": {},
   "outputs": [
    {
     "name": "stdout",
     "output_type": "stream",
     "text": [
      "[1, 3, 5, 7, 9, 11, 13, 15, 17, 19, 21, 23, 25]\n"
     ]
    }
   ],
   "source": [
    "def odd_num():\n",
    "    return [x for x in range(1, 26) if x % 2 != 0]\n",
    "\n",
    "print(odd_num())"
   ]
  },
  {
   "cell_type": "markdown",
   "id": "de4561a1-a4bf-4c4b-a9cf-2cf8e6c8798d",
   "metadata": {},
   "source": [
    "Q2. Why *args and **kwargs is used in some functions? Create a function each for *args and **kwargs to  demonstrate their use. \n",
    "\n",
    "soln:\n",
    "\n",
    "*args allows you to pass a variable number of non-keyword arguments to a function. The * operator is used to unpack the non-keyword arguments into a tuple. Here's an example of a function that uses *args:\n",
    "\n"
   ]
  },
  {
   "cell_type": "code",
   "execution_count": 2,
   "id": "70af1dd4-f261-4717-b1ad-96b1b740d415",
   "metadata": {},
   "outputs": [
    {
     "name": "stdout",
     "output_type": "stream",
     "text": [
      "(1, 2, 3, 4)\n"
     ]
    }
   ],
   "source": [
    "def print_args(*args):\n",
    "    print(args)\n",
    "\n",
    "print_args(1, 2, 3, 4) "
   ]
  },
  {
   "cell_type": "markdown",
   "id": "d3507234-5927-4b89-bbdf-f7d3b0ac86a7",
   "metadata": {},
   "source": [
    "**kwargs allows you to pass a variable number of keyword arguments to a function. The ** operator is used to unpack the keyword arguments into a dictionary. Here's an example of a function that uses **kwargs:"
   ]
  },
  {
   "cell_type": "code",
   "execution_count": 3,
   "id": "134f1eec-4eeb-43bd-b111-db44174c5a87",
   "metadata": {},
   "outputs": [
    {
     "name": "stdout",
     "output_type": "stream",
     "text": [
      "{'a': 1, 'b': 2, 'c': 3}\n"
     ]
    }
   ],
   "source": [
    "def print_kwargs(**kwargs):\n",
    "    print(kwargs)\n",
    "\n",
    "print_kwargs(a=1, b=2, c=3)"
   ]
  },
  {
   "cell_type": "markdown",
   "id": "3d0ae7d5-b8b2-4639-b030-bf9cccce8dc9",
   "metadata": {},
   "source": [
    "Both *args and **kwargs can be used in the same function to allow for a variable number of both non-keyword and keyword arguments. In this case, *args should come first, followed by **kwargs. For example:\n"
   ]
  },
  {
   "cell_type": "code",
   "execution_count": 4,
   "id": "8492433e-4cfb-4da6-acff-a47096fce24c",
   "metadata": {},
   "outputs": [
    {
     "name": "stdout",
     "output_type": "stream",
     "text": [
      "(1, 2, 3)\n",
      "{'a': 4, 'b': 5, 'c': 6}\n"
     ]
    }
   ],
   "source": [
    "def print_args_kwargs(*args, **kwargs):\n",
    "    print(args)\n",
    "    print(kwargs)\n",
    "\n",
    "print_args_kwargs(1, 2, 3, a=4, b=5, c=6)"
   ]
  },
  {
   "cell_type": "markdown",
   "id": "fc524dc2-ec7d-4a16-85f1-90ec5907516a",
   "metadata": {},
   "source": [
    "Q3.  What is an iterator in python? Name the method used to initialise the iterator object and the method  used for iteration. Use these methods to print the first five elements of the given list [2, 4, 6, 8, 10, 12, 14, 16,  18, 20]. \n",
    "\n",
    "soln:\n",
    "\n",
    "An iterator in Python is an object that implements the iterator protocol, which consists of the methods __iter__() and __next__(). The __iter__() method returns the iterator object and __next__() method returns the next item in the sequence.\n",
    "\n"
   ]
  },
  {
   "cell_type": "code",
   "execution_count": 5,
   "id": "a777ccf2-f76b-462a-9d6b-f08dd7d6fc42",
   "metadata": {},
   "outputs": [
    {
     "name": "stdout",
     "output_type": "stream",
     "text": [
      "2\n",
      "4\n",
      "6\n",
      "8\n",
      "10\n"
     ]
    }
   ],
   "source": [
    "numbers = [2, 4, 6, 8, 10, 12, 14, 16, 18, 20]\n",
    "\n",
    "# Initialize the iterator object\n",
    "numbers_iter = iter(numbers)\n",
    "\n",
    "# Print the first five elements\n",
    "for i in range(5):\n",
    "  print(next(numbers_iter))"
   ]
  },
  {
   "cell_type": "markdown",
   "id": "98dedeba-fee2-4f2c-a4ff-5e42610cfddd",
   "metadata": {},
   "source": [
    "Q4.  What is a generator function in python? Why yield keyword is used? Give an example of a generator  function. \n",
    "\n",
    "soln:\n",
    "\n",
    "A generator function in Python is a special type of function that generates a sequence of values, one at a time, instead of all at once. Generator functions use the yield keyword instead of return to return a value, so they can produce a sequence of values over time.\n",
    "\n",
    "The yield keyword is used to produce a value and pause the execution of the generator function. When the generator function is called again, it resumes from where it left off, producing the next value in the sequence. This allows the generator function to produce a large sequence of values without having to store them all in memory.\n"
   ]
  },
  {
   "cell_type": "code",
   "execution_count": 6,
   "id": "ae443f28-ce96-4de7-9b5e-49fdb6a83a6d",
   "metadata": {},
   "outputs": [
    {
     "name": "stdout",
     "output_type": "stream",
     "text": [
      "0\n",
      "2\n",
      "4\n",
      "6\n",
      "8\n"
     ]
    }
   ],
   "source": [
    "def even_numbers(limit):\n",
    "    n = 0\n",
    "    while n < limit:\n",
    "        yield n\n",
    "        n += 2\n",
    "\n",
    "# Use the generator function\n",
    "even_gen = even_numbers(10)\n",
    "\n",
    "# Print the first five even numbers\n",
    "for i in range(5):\n",
    "    print(next(even_gen))\n"
   ]
  },
  {
   "cell_type": "markdown",
   "id": "9bb8ccae-f417-4818-a6ec-67827386b362",
   "metadata": {},
   "source": [
    "Q5. Create a generator function for prime numbers less than 1000. Use the next() method to print the  first 20 prime numbers. \n",
    "\n",
    "soln:\n",
    "\n",
    "\n"
   ]
  },
  {
   "cell_type": "code",
   "execution_count": 7,
   "id": "27f2a3b1-b865-4809-9fdd-df705c44fbbb",
   "metadata": {},
   "outputs": [
    {
     "name": "stdout",
     "output_type": "stream",
     "text": [
      "2\n",
      "3\n",
      "5\n",
      "7\n",
      "11\n",
      "13\n",
      "17\n",
      "19\n",
      "23\n",
      "29\n",
      "31\n",
      "37\n",
      "41\n",
      "43\n",
      "47\n",
      "53\n",
      "59\n",
      "61\n",
      "67\n",
      "71\n"
     ]
    }
   ],
   "source": [
    "def prime_numbers():\n",
    "    primes = []\n",
    "    for num in range(2, 1000):\n",
    "        for prime in primes:\n",
    "            if num % prime == 0:\n",
    "                break\n",
    "        else:\n",
    "            primes.append(num)\n",
    "            yield num\n",
    "\n",
    "# Use the generator function\n",
    "prime_gen = prime_numbers()\n",
    "\n",
    "# Print the first 20 prime numbers\n",
    "for i in range(20):\n",
    "    print(next(prime_gen))"
   ]
  },
  {
   "cell_type": "code",
   "execution_count": null,
   "id": "40997094-a2f7-47f2-815a-ba09f8fb97cd",
   "metadata": {},
   "outputs": [],
   "source": []
  }
 ],
 "metadata": {
  "kernelspec": {
   "display_name": "Python 3 (ipykernel)",
   "language": "python",
   "name": "python3"
  },
  "language_info": {
   "codemirror_mode": {
    "name": "ipython",
    "version": 3
   },
   "file_extension": ".py",
   "mimetype": "text/x-python",
   "name": "python",
   "nbconvert_exporter": "python",
   "pygments_lexer": "ipython3",
   "version": "3.10.8"
  }
 },
 "nbformat": 4,
 "nbformat_minor": 5
}
