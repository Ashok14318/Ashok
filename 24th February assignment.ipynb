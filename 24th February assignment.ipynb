{
 "cells": [
  {
   "cell_type": "markdown",
   "id": "f588f60f-834e-4d53-945a-4d808f76088e",
   "metadata": {},
   "source": [
    "Q1. List any five functions of the pandas library with execution.\n",
    "\n",
    "soln:"
   ]
  },
  {
   "cell_type": "markdown",
   "id": "5e08c805-73bd-4921-ac7f-1a32567219b3",
   "metadata": {},
   "source": [
    "import pandas as pd\n",
    "\n",
    "# Read CSV file into DataFrame\n",
    "df = pd.read_csv('data.csv')\n",
    "\n",
    "# Print first 5 rows of DataFrame\n",
    "print(df.head())"
   ]
  },
  {
   "cell_type": "code",
   "execution_count": 2,
   "id": "4675cf50-5f30-4ceb-aff0-e061d4b0314f",
   "metadata": {},
   "outputs": [
    {
     "name": "stdout",
     "output_type": "stream",
     "text": [
      "     A    B\n",
      "0  1.0  4.0\n",
      "2  3.0  6.0\n"
     ]
    }
   ],
   "source": [
    "import pandas as pd\n",
    "\n",
    "# Create DataFrame with missing values\n",
    "df = pd.DataFrame({'A': [1, 2, 3, None], 'B': [4, None, 6, None]})\n",
    "\n",
    "# Remove rows with missing values\n",
    "df = df.dropna()\n",
    "\n",
    "# Print DataFrame after removing missing values\n",
    "print(df)"
   ]
  },
  {
   "cell_type": "code",
   "execution_count": 4,
   "id": "172927e4-e14f-4711-9e59-6956703a8f63",
   "metadata": {},
   "outputs": [
    {
     "name": "stdout",
     "output_type": "stream",
     "text": [
      "       B\n",
      "A       \n",
      "bar  3.0\n",
      "foo  2.0\n"
     ]
    }
   ],
   "source": [
    "import pandas as pd\n",
    "\n",
    "# Create DataFrame with two columns\n",
    "df = pd.DataFrame({'A': ['foo', 'bar', 'foo', 'bar'], 'B': [1, 2, 3, 4]})\n",
    "\n",
    "# Group DataFrame by column A and calculate mean of column B\n",
    "grouped = df.groupby('A').mean()\n",
    "\n",
    "# Print grouped DataFrame\n",
    "print(grouped)"
   ]
  },
  {
   "cell_type": "code",
   "execution_count": 5,
   "id": "88a3cba4-39b8-46cc-bf89-44b1e321322a",
   "metadata": {},
   "outputs": [
    {
     "name": "stdout",
     "output_type": "stream",
     "text": [
      "     A  B  C\n",
      "0  foo  1  4\n",
      "1  baz  3  5\n"
     ]
    }
   ],
   "source": [
    "import pandas as pd\n",
    "\n",
    "# Create two DataFrames\n",
    "df1 = pd.DataFrame({'A': ['foo', 'bar', 'baz'], 'B': [1, 2, 3]})\n",
    "df2 = pd.DataFrame({'A': ['foo', 'baz', 'qux'], 'C': [4, 5, 6]})\n",
    "\n",
    "# Merge DataFrames on column A\n",
    "merged = pd.merge(df1, df2, on='A')\n",
    "\n",
    "# Print merged DataFrame\n",
    "print(merged)"
   ]
  },
  {
   "cell_type": "code",
   "execution_count": 6,
   "id": "402715e3-e37c-4462-bb18-17ad71041276",
   "metadata": {},
   "outputs": [
    {
     "name": "stdout",
     "output_type": "stream",
     "text": [
      "A,B\n",
      "foo,1\n",
      "bar,2\n",
      "baz,3\n",
      "\n"
     ]
    }
   ],
   "source": [
    "import pandas as pd\n",
    "\n",
    "# Create DataFrame\n",
    "df = pd.DataFrame({'A': ['foo', 'bar', 'baz'], 'B': [1, 2, 3]})\n",
    "\n",
    "# Write DataFrame to CSV file\n",
    "df.to_csv('data.csv', index=False)\n",
    "\n",
    "# Read CSV file and print contents\n",
    "with open('data.csv', 'r') as f:\n",
    "    print(f.read())"
   ]
  },
  {
   "cell_type": "markdown",
   "id": "fb3a6d22-9435-428e-86f5-07f71a4b9205",
   "metadata": {},
   "source": [
    "Q2. Given a Pandas DataFrame df with columns 'A', 'B', and 'C', write a Python function to re-index the\n",
    "DataFrame with a new index that starts from 1 and increments by 2 for each row.\n",
    "\n",
    "soln:"
   ]
  },
  {
   "cell_type": "code",
   "execution_count": 7,
   "id": "9e33049f-80ec-48a3-874f-670eae282f81",
   "metadata": {},
   "outputs": [],
   "source": [
    "import pandas as pd\n",
    "\n",
    "def reindex_dataframe(df):\n",
    "    # Create new index starting from 1 and incrementing by 2\n",
    "    new_index = pd.RangeIndex(start=1, step=2, stop=2*len(df)+1)\n",
    "    \n",
    "    # Assign new index to DataFrame\n",
    "    df.index = new_index\n",
    "    \n",
    "    # Return DataFrame with new index\n",
    "    return df"
   ]
  },
  {
   "cell_type": "code",
   "execution_count": 8,
   "id": "82fe6d11-3c24-46e2-ab40-fb42c14d3067",
   "metadata": {},
   "outputs": [
    {
     "name": "stdout",
     "output_type": "stream",
     "text": [
      "   A  B  C\n",
      "1  1  4  7\n",
      "3  2  5  8\n",
      "5  3  6  9\n"
     ]
    }
   ],
   "source": [
    "df = pd.DataFrame({'A': [1, 2, 3], 'B': [4, 5, 6], 'C': [7, 8, 9]})\n",
    "\n",
    "# Call function to re-index DataFrame\n",
    "df = reindex_dataframe(df)\n",
    "\n",
    "# Print re-indexed DataFrame\n",
    "print(df)"
   ]
  },
  {
   "cell_type": "markdown",
   "id": "ab7e0b1c-83d1-4b88-9636-62c1815adf7b",
   "metadata": {},
   "source": [
    "Q3. You have a Pandas DataFrame df with a column named 'Values'. Write a Python function that\n",
    "iterates over the DataFrame and calculates the sum of the first three values in the 'Values' column. The\n",
    "function should print the sum to the console.\n",
    "For example, if the 'Values' column of df contains the values [10, 20, 30, 40, 50], your function should\n",
    "calculate and print the sum of the first three values, which is 60.\n",
    "\n",
    "soln:"
   ]
  },
  {
   "cell_type": "code",
   "execution_count": 9,
   "id": "7eef2edc-2dfd-4bc3-bde6-a3934a682b2b",
   "metadata": {},
   "outputs": [],
   "source": [
    "import pandas as pd\n",
    "\n",
    "def sum_first_three(df):\n",
    "    # Get first three values in 'Values' column\n",
    "    values = df['Values'][:3]\n",
    "    \n",
    "    # Calculate sum of first three values\n",
    "    total = sum(values)\n",
    "    \n",
    "    # Print sum to console\n",
    "    print(f'Sum of first three values: {total}')"
   ]
  },
  {
   "cell_type": "code",
   "execution_count": 10,
   "id": "c458bc48-dfa5-40b9-8abb-cfb169c26a48",
   "metadata": {},
   "outputs": [
    {
     "name": "stdout",
     "output_type": "stream",
     "text": [
      "Sum of first three values: 60\n"
     ]
    }
   ],
   "source": [
    "# Example DataFrame\n",
    "df = pd.DataFrame({'Values': [10, 20, 30, 40, 50]})\n",
    "\n",
    "# Call function to calculate sum of first three values\n",
    "sum_first_three(df)"
   ]
  },
  {
   "cell_type": "markdown",
   "id": "9bfc6b5b-0967-41cf-b987-ccc0abf7083a",
   "metadata": {},
   "source": [
    "Q4. Given a Pandas DataFrame df with a column 'Text', write a Python function to create a new column\n",
    "'Word_Count' that contains the number of words in each row of the 'Text' column.\n",
    "\n",
    "soln:"
   ]
  },
  {
   "cell_type": "code",
   "execution_count": 11,
   "id": "2742fd6a-b822-46b9-8645-25b850cc78ef",
   "metadata": {},
   "outputs": [],
   "source": [
    "import pandas as pd\n",
    "\n",
    "def add_word_count(df):\n",
    "    # Split 'Text' column by whitespace to get list of words\n",
    "    words = df['Text'].str.split()\n",
    "    \n",
    "    # Count number of words in each row\n",
    "    word_count = words.apply(len)\n",
    "    \n",
    "    # Assign 'Word_Count' column to DataFrame\n",
    "    df['Word_Count'] = word_count\n",
    "    \n",
    "    # Return DataFrame with new column\n",
    "    return df"
   ]
  },
  {
   "cell_type": "code",
   "execution_count": 12,
   "id": "8954fd70-3a4e-47bc-9eb1-af9dd6cab04f",
   "metadata": {},
   "outputs": [
    {
     "name": "stdout",
     "output_type": "stream",
     "text": [
      "                         Text  Word_Count\n",
      "0                 Hello world           2\n",
      "1         The quick brown fox           4\n",
      "2  Lorem ipsum dolor sit amet           5\n"
     ]
    }
   ],
   "source": [
    "df = pd.DataFrame({'Text': ['Hello world', 'The quick brown fox', 'Lorem ipsum dolor sit amet']})\n",
    "\n",
    "# Call function to add 'Word_Count' column\n",
    "df = add_word_count(df)\n",
    "\n",
    "# Print DataFrame with new column\n",
    "print(df)"
   ]
  },
  {
   "cell_type": "markdown",
   "id": "d2da4f9b-7291-4151-b61d-06c7bc3b9799",
   "metadata": {},
   "source": [
    "Q5. How are DataFrame.size() and DataFrame.shape() different?\n",
    "\n",
    "soln:"
   ]
  },
  {
   "cell_type": "markdown",
   "id": "e1d5e3e1-98cd-47a5-852d-6d0c22101522",
   "metadata": {},
   "source": [
    "DataFrame.size and DataFrame.shape are two different methods that return different information about a DataFrame:\n",
    "\n",
    "DataFrame.size: This method returns the total number of elements in a DataFrame, which is equal to the number of rows multiplied by the number of columns. The result is a single integer value. For example, if a DataFrame has 5 rows and 3 columns, its size will be 15.\n",
    "\n",
    "DataFrame.shape: This method returns a tuple representing the dimensions of a DataFrame, in the format (num_rows, num_columns). The result is a tuple of two integer values. For example, if a DataFrame has 5 rows and 3 columns, its shape will be (5, 3)."
   ]
  },
  {
   "cell_type": "code",
   "execution_count": 13,
   "id": "27a9dbfc-7d72-4378-b521-2ef21d4ed0cd",
   "metadata": {},
   "outputs": [
    {
     "name": "stdout",
     "output_type": "stream",
     "text": [
      "9\n",
      "(3, 3)\n"
     ]
    }
   ],
   "source": [
    "import pandas as pd\n",
    "\n",
    "# Example DataFrame\n",
    "df = pd.DataFrame({'A': [1, 2, 3], 'B': [4, 5, 6], 'C': [7, 8, 9]})\n",
    "\n",
    "# Print size and shape of DataFrame\n",
    "print(df.size)  # Output: 9\n",
    "print(df.shape)  # Output: (3, 3)"
   ]
  },
  {
   "cell_type": "markdown",
   "id": "c914e8c4-94d0-4809-8c73-a98db5ef64bc",
   "metadata": {},
   "source": [
    "Q6. Which function of pandas do we use to read an excel file?\n",
    "\n",
    "soln:"
   ]
  },
  {
   "cell_type": "markdown",
   "id": "824f17c2-62a8-4039-88aa-ffd3160f9eb0",
   "metadata": {},
   "source": [
    "import pandas as pd\n",
    "\n",
    "# Read Excel file into DataFrame\n",
    "df = pd.read_excel('path/to/excel_file.xlsx')\n",
    "\n",
    "# Print DataFrame\n",
    "print(df)"
   ]
  },
  {
   "cell_type": "markdown",
   "id": "49cc7e22-0f4d-4114-9465-c29b8a7b0ca9",
   "metadata": {},
   "source": [
    "Q7. You have a Pandas DataFrame df that contains a column named 'Email' that contains email\n",
    "addresses in the format 'username@domain.com'. Write a Python function that creates a new column\n",
    "'Username' in df that contains only the username part of each email address.\n",
    "The username is the part of the email address that appears before the '@' symbol. For example, if the\n",
    "email address is 'john.doe@example.com', the 'Username' column should contain 'john.doe'. Your\n",
    "function should extract the username from each email address and store it in the new 'Username'\n",
    "column.\n",
    "\n",
    "soln:"
   ]
  },
  {
   "cell_type": "code",
   "execution_count": 15,
   "id": "d5fb8c33-4f43-456c-b59b-e756760caee3",
   "metadata": {},
   "outputs": [],
   "source": [
    "import pandas as pd\n",
    "\n",
    "def add_username_column(df):\n",
    "    # Split 'Email' column by '@' symbol to get list of username and domain\n",
    "    email_parts = df['Email'].str.split('@')\n",
    "    \n",
    "    # Extract username part and assign it to 'Username' column\n",
    "    df['Username'] = email_parts.str[0]\n",
    "    \n",
    "    # Return DataFrame with new column\n",
    "    return df"
   ]
  },
  {
   "cell_type": "code",
   "execution_count": 16,
   "id": "8b4a484e-5d6d-4aad-bd78-cdc3130fea3b",
   "metadata": {},
   "outputs": [
    {
     "name": "stdout",
     "output_type": "stream",
     "text": [
      "                     Email     Username\n",
      "0     john.doe@example.com     john.doe\n",
      "1     jane.doe@example.com     jane.doe\n",
      "2  jimmy.smith@example.com  jimmy.smith\n"
     ]
    }
   ],
   "source": [
    "df = pd.DataFrame({'Email': ['john.doe@example.com', 'jane.doe@example.com', 'jimmy.smith@example.com']})\n",
    "\n",
    "# Call function to add 'Username' column\n",
    "df = add_username_column(df)\n",
    "\n",
    "# Print DataFrame with new column\n",
    "print(df)"
   ]
  },
  {
   "cell_type": "markdown",
   "id": "4299e49b-9fe1-4edb-8e38-688953558e87",
   "metadata": {},
   "source": [
    "Q8. You have a Pandas DataFrame df with columns 'A', 'B', and 'C'. Write a Python function that selects\n",
    "all rows where the value in column 'A' is greater than 5 and the value in column 'B' is less than 10. The\n",
    "function should return a new DataFrame that contains only the selected rows.\n",
    "For example, if df contains the following values:\n",
    "A B C\n",
    "0 3 5 1\n",
    "1 8 2 7\n",
    "2 6 9 4\n",
    "3 2 3 5\n",
    "4 9 1 2\n",
    "\n",
    "\n",
    "\n",
    "Your function should select the following rows: A B C\n",
    "1 8 2 7\n",
    "4 9 1 2\n",
    "The function should return a new DataFrame that contains only the selected rows.\n",
    "\n",
    "soln:"
   ]
  },
  {
   "cell_type": "code",
   "execution_count": 17,
   "id": "4a68e029-0183-4667-9b44-08fe50feef0e",
   "metadata": {},
   "outputs": [],
   "source": [
    "import pandas as pd\n",
    "\n",
    "def select_rows(df):\n",
    "    # Select rows where value in 'A' column is greater than 5 and value in 'B' column is less than 10\n",
    "    selected_rows = df[(df['A'] > 5) & (df['B'] < 10)]\n",
    "    \n",
    "    # Return DataFrame with selected rows\n",
    "    return selected_rows"
   ]
  },
  {
   "cell_type": "code",
   "execution_count": 18,
   "id": "29f0e97d-a777-4413-9959-29131dc72859",
   "metadata": {},
   "outputs": [
    {
     "name": "stdout",
     "output_type": "stream",
     "text": [
      "   A  B  C\n",
      "1  8  2  7\n",
      "2  6  9  4\n",
      "4  9  1  2\n"
     ]
    }
   ],
   "source": [
    "# Example DataFrame\n",
    "df = pd.DataFrame({'A': [3, 8, 6, 2, 9], 'B': [5, 2, 9, 3, 1], 'C': [1, 7, 4, 5, 2]})\n",
    "\n",
    "# Call function to select rows\n",
    "selected_rows = select_rows(df)\n",
    "\n",
    "# Print selected rows\n",
    "print(selected_rows)"
   ]
  },
  {
   "cell_type": "markdown",
   "id": "ecb66db6-2aa1-49e3-90e9-8790d8a1e3b1",
   "metadata": {},
   "source": [
    "Q9. Given a Pandas DataFrame df with a column 'Values', write a Python function to calculate the mean,\n",
    "median, and standard deviation of the values in the 'Values' column.\n",
    "\n",
    "soln:"
   ]
  },
  {
   "cell_type": "code",
   "execution_count": 19,
   "id": "95927a74-3f8e-4ce8-af58-f32109012aaf",
   "metadata": {},
   "outputs": [],
   "source": [
    "import pandas as pd\n",
    "\n",
    "def calculate_stats(df):\n",
    "    # Calculate mean, median, and standard deviation of values in 'Values' column\n",
    "    mean = df['Values'].mean()\n",
    "    median = df['Values'].median()\n",
    "    std_dev = df['Values'].std()\n",
    "    \n",
    "    # Print results\n",
    "    print('Mean:', mean)\n",
    "    print('Median:', median)\n",
    "    print('Standard Deviation:', std_dev)"
   ]
  },
  {
   "cell_type": "code",
   "execution_count": 20,
   "id": "bb8addcf-9d78-483a-b40a-c6334b56cb51",
   "metadata": {},
   "outputs": [
    {
     "name": "stdout",
     "output_type": "stream",
     "text": [
      "Mean: 30.0\n",
      "Median: 30.0\n",
      "Standard Deviation: 15.811388300841896\n"
     ]
    }
   ],
   "source": [
    "df = pd.DataFrame({'Values': [10, 20, 30, 40, 50]})\n",
    "\n",
    "# Call function to calculate stats\n",
    "calculate_stats(df)"
   ]
  },
  {
   "cell_type": "markdown",
   "id": "d0446df1-c1b7-475e-929f-f4cf428d039d",
   "metadata": {},
   "source": [
    "Q10. Given a Pandas DataFrame df with a column 'Sales' and a column 'Date', write a Python function to\n",
    "create a new column 'MovingAverage' that contains the moving average of the sales for the past 7 days\n",
    "for each row in the DataFrame. The moving average should be calculated using a window of size 7 and\n",
    "should include the current day.\n",
    "\n",
    "soln:"
   ]
  },
  {
   "cell_type": "code",
   "execution_count": 24,
   "id": "2157b778-38e9-4544-9ce3-45ccb94fa5df",
   "metadata": {},
   "outputs": [],
   "source": [
    "import pandas as pd\n",
    "\n",
    "def calculate_moving_average(df):\n",
    "    # Calculate moving average of sales for past 7 days\n",
    "    moving_avg = df['Sales'].rolling(window=7, min_periods=1).mean()\n",
    "    \n",
    "    # Add moving average column to DataFrame\n",
    "    df['MovingAverage'] = moving_avg"
   ]
  },
  {
   "cell_type": "markdown",
   "id": "180af8a5-48b3-497d-944e-3201ea779587",
   "metadata": {},
   "source": [
    "# Example DataFrame\n",
    "df = pd.DataFrame({\n",
    "    'Date': pd.date_range(start='2022-01-01', end='2022-01-31'),\n",
    "    'Sales': [10, 20, 30, 40, 50, 60, 70, 80, 90, 100, 110, 120, 130, 140, 150, 160, 170, 180, 190, 200, 210, 220, 230, 240, 250, 260, 270, 280, 290, 300]\n",
    "})\n",
    "\n",
    "# Call function to calculate moving average\n",
    "calculate_moving_average(df)\n",
    "\n",
    "# Print DataFrame with new column\n",
    "print(df)"
   ]
  },
  {
   "cell_type": "markdown",
   "id": "25f60461-f14c-4677-9ce7-63f8f6ef8393",
   "metadata": {},
   "source": [
    "#output\n",
    "\n",
    "         Date  Sales  MovingAverage\n",
    "0  2022-01-01     10      10.000000\n",
    "1  2022-01-02     20      15.000000\n",
    "2  2022-01-03     30      20.000000\n",
    "3  2022-01-04     40      25.000000\n",
    "4  2022-01-05     50      30.000000\n",
    "5  2022-01-06     60      35.000000\n",
    "6  2022-01-07     70      40.000000\n",
    "7  2022-01-08     80      45.000000\n",
    "8  2022-01-09     90      50.000000\n",
    "9  2022-01-10    100      55.000000\n",
    "10 2022-01-11    110      60.000000\n",
    "11 2022-01-12    120      65.000000\n",
    "12 2022-01-13    130      70.000000\n",
    "13 2022-01-14    140      75.000000\n",
    "14 2022-01-15    150      80.000000\n",
    "15 2022-01-16    160      85.000000\n",
    "16 2022-01-17    170      90.000000\n",
    "17 2022-01-18    180      95.000000\n",
    "18 2022-01-19    190     100.000000\n",
    "19 2022-01-20    200     105.000000\n",
    "20 2022-01-21    210     110.000000\n",
    "21 2022-01-22    220     115.000000\n",
    "22 2022-01-23    230     120.000000\n",
    "23 2022-01-24    240     125.\n",
    "\n",
    "\n",
    "\n"
   ]
  },
  {
   "cell_type": "markdown",
   "id": "bb75bb4b-36d6-4066-beac-6bb87731105a",
   "metadata": {},
   "source": [
    "Q11. You have a Pandas DataFrame df with a column 'Date'. Write a Python function that creates a new\n",
    "column 'Weekday' in the DataFrame. The 'Weekday' column should contain the weekday name (e.g.\n",
    "Monday, Tuesday) corresponding to each date in the 'Date' column.\n",
    "For example, if df contains the following values:\n",
    "Date\n",
    "0 2023-01-01\n",
    "1 2023-01-02\n",
    "2 2023-01-03\n",
    "3 2023-01-04\n",
    "4 2023-01-05\n",
    "Your function should create the following DataFrame:\n",
    "\n",
    "Date Weekday\n",
    "0 2023-01-01 Sunday\n",
    "1 2023-01-02 Monday\n",
    "2 2023-01-03 Tuesday\n",
    "3 2023-01-04 Wednesday\n",
    "4 2023-01-05 Thursday\n",
    "The function should return the modified DataFrame.\n",
    "\n",
    "soln:"
   ]
  },
  {
   "cell_type": "markdown",
   "id": "a90f520f-3d5a-4f62-88d5-ade470e81c98",
   "metadata": {},
   "source": [
    "Weekday' in the DataFrame based on the 'Date' column, we can use the dt.weekday_name attribute of the pandas datetime object. Here's a Python function "
   ]
  },
  {
   "cell_type": "code",
   "execution_count": 27,
   "id": "6233aed7-1281-4bc6-be49-052d381bbc3f",
   "metadata": {},
   "outputs": [],
   "source": [
    "import pandas as pd\n",
    "\n",
    "def add_weekday_column(df):\n",
    "    # Convert the 'Date' column to a datetime object\n",
    "    df['Date'] = pd.to_datetime(df['Date'])\n",
    "    \n",
    "    # Add a new column 'Weekday' with weekday name for each date\n",
    "    df['Weekday'] = df['Date'].dt.weekday_name\n",
    "    \n",
    "    return df"
   ]
  },
  {
   "cell_type": "markdown",
   "id": "0f6497b7-5819-476a-ae1c-44bff3227450",
   "metadata": {},
   "source": [
    "This function first converts the 'Date' column to a pandas datetime object using the pd.to_datetime() function. Then it creates a new column 'Weekday' using the dt.weekday_name attribute of the datetime object. Finally, it returns the modified DataFrame with the new 'Weekday' column."
   ]
  },
  {
   "cell_type": "markdown",
   "id": "e239af1d-a340-4919-98e4-b2512e219168",
   "metadata": {},
   "source": [
    "Q12. Given a Pandas DataFrame df with a column 'Date' that contains timestamps, write a Python\n",
    "function to select all rows where the date is between '2023-01-01' and '2023-01-31'.\n",
    "\n",
    "soln:"
   ]
  },
  {
   "cell_type": "markdown",
   "id": "964df2c0-04e6-4cc3-a3a0-fa8e3d50ea12",
   "metadata": {},
   "source": [
    "You can use the pandas.DataFrame.loc method to select rows based on a condition. In this case, you can create a boolean mask by comparing the 'Date' column with the two dates, and then use the boolean mask to select the desired rows."
   ]
  },
  {
   "cell_type": "code",
   "execution_count": 28,
   "id": "1c49a013-7da8-4a15-9545-534b33ccc5cd",
   "metadata": {},
   "outputs": [],
   "source": [
    "import pandas as pd\n",
    "\n",
    "def select_january_dates(df):\n",
    "    mask = (df['Date'] >= '2023-01-01') & (df['Date'] <= '2023-01-31')\n",
    "    january_df = df.loc[mask]\n",
    "    return january_df"
   ]
  },
  {
   "cell_type": "markdown",
   "id": "96c22a78-3d4f-4fdf-877f-a777b6c2a2a8",
   "metadata": {},
   "source": [
    "You can call this function with your DataFrame as an argument, and it will return a new DataFrame that contains only the rows where the 'Date' column is between '2023-01-01' and '2023-01-31'."
   ]
  },
  {
   "cell_type": "markdown",
   "id": "c6147d95-3aae-4d99-83a7-5fdbcb0d4798",
   "metadata": {},
   "source": [
    "Q13. To use the basic functions of pandas, what is the first and foremost necessary library that needs to\n",
    "be imported?\n",
    "\n",
    "soln:"
   ]
  },
  {
   "cell_type": "markdown",
   "id": "2d329321-4cb8-4fec-bfde-de09bebcecc5",
   "metadata": {},
   "source": [
    "The first and foremost necessary library that needs to be imported to use the basic functions of pandas is pandas itself. The library can be imported using the following statement:\n",
    "\n",
    "\n",
    "import pandas as pd"
   ]
  },
  {
   "cell_type": "code",
   "execution_count": null,
   "id": "5c27a39a-753a-4b3a-bdb8-a2149f7e9168",
   "metadata": {},
   "outputs": [],
   "source": []
  }
 ],
 "metadata": {
  "kernelspec": {
   "display_name": "Python 3 (ipykernel)",
   "language": "python",
   "name": "python3"
  },
  "language_info": {
   "codemirror_mode": {
    "name": "ipython",
    "version": 3
   },
   "file_extension": ".py",
   "mimetype": "text/x-python",
   "name": "python",
   "nbconvert_exporter": "python",
   "pygments_lexer": "ipython3",
   "version": "3.10.8"
  }
 },
 "nbformat": 4,
 "nbformat_minor": 5
}
