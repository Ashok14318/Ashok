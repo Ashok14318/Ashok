{
 "cells": [
  {
   "cell_type": "markdown",
   "id": "3482c6d3-1af0-40db-b07a-ae84579e6a5c",
   "metadata": {},
   "source": [
    "Q1. You are writing code for a company. The requirement of the company is that you create a python  function that will check whether the password entered by the user is correct or not. The function should  take the password as input and return the string “Valid Password” if the entered password follows the  below-given password guidelines else it should return “Invalid Password”. \n",
    "Note: 1. The Password should contain at least two uppercase letters and at least two lowercase letters. 2. The Password should contain at least a number and three special characters. \n",
    "3. The length of the password should be 10 characters long. \n",
    "\n",
    "soln:\n",
    "\n",
    "\n"
   ]
  },
  {
   "cell_type": "code",
   "execution_count": 2,
   "id": "9c9bd8c5-fa21-42cf-8da5-aa3927633b27",
   "metadata": {},
   "outputs": [],
   "source": [
    "def check_password(password):\n",
    "    import re\n",
    "    \n",
    "    if len(password) != 10:\n",
    "        return \"Invalid Password\"\n",
    "    \n",
    "    uppercase_count = len(re.findall(r'[A-Z]', password))\n",
    "    lowercase_count = len(re.findall(r'[a-z]', password))\n",
    "    digit_count = len(re.findall(r'\\d', password))\n",
    "    special_char_count = len(re.findall(r'[!@#$%^&*()_+=-]', password))\n",
    "    \n",
    "    if uppercase_count >= 2 and lowercase_count >= 2 and digit_count >= 1 and special_char_count >= 3:\n",
    "        return \"Valid Password\"\n",
    "    else:\n",
    "        return \"Invalid Password\""
   ]
  },
  {
   "cell_type": "markdown",
   "id": "65f92e0b-f3ad-4238-bf1d-71d83dede54f",
   "metadata": {},
   "source": [
    "Q2. Solve the below-given questions using at least one of the following:  \n",
    "1. Lambda functioJ \n",
    "2. Filter functioJ \n",
    "3. Zap functioJ \n",
    "4. List ComprehensioI \n",
    "B Check if the string starts with a particular letterY \n",
    "B Check if the string is numericY \n",
    "B Sort a list of tuples having fruit names and their quantity. [(\"mango\",99),(\"orange\",80), (\"grapes\", 1000)- B Find the squares of numbers from 1 to 10Y \n",
    "B Find the cube root of numbers from 1 to 10Y \n",
    "B Check if a given number is evenY \n",
    "B Filter odd numbers from the given list. \n",
    " [1,2,3,4,5,6,7,8,9,10- \n",
    "B Sort a list of integers into positive and negative integers lists. \n",
    " [1,2,3,4,5,6,-1,-2,-3,-4,-5,0]\n",
    " \n",
    " soln:\n",
    " \n",
    " \n"
   ]
  },
  {
   "cell_type": "code",
   "execution_count": 3,
   "id": "bca89ccc-0a0e-478f-bb2c-b8620b12d574",
   "metadata": {},
   "outputs": [
    {
     "ename": "SyntaxError",
     "evalue": "expected 'else' after 'if' expression (2977501419.py, line 6)",
     "output_type": "error",
     "traceback": [
      "\u001b[0;36m  Cell \u001b[0;32mIn[3], line 6\u001b[0;36m\u001b[0m\n\u001b[0;31m    Check if the string is numeric:\u001b[0m\n\u001b[0m    ^\u001b[0m\n\u001b[0;31mSyntaxError\u001b[0m\u001b[0;31m:\u001b[0m expected 'else' after 'if' expression\n"
     ]
    }
   ],
   "source": [
    "string = \"hello world\"\n",
    "check_letter = \"h\"\n",
    "result = True if string.startswith(check_letter) else False\n",
    "print(result)\n",
    "\n",
    "Check if the string is numeric:\n",
    "\n",
    "string = \"12345\"\n",
    "result = string.isnumeric()\n",
    "print(result)\n",
    "\n",
    "Sort a list of tuples having fruit names and their quantity:\n",
    "\n",
    "fruits = [(\"mango\", 99), (\"orange\", 80), (\"grapes\", 1000)]\n",
    "sorted_fruits = sorted(fruits, key=lambda x: x[1])\n",
    "print(sorted_fruits)\n",
    "\n",
    "Find the squares of numbers from 1 to 10:\n",
    "\n",
    "numbers = range(1, 11)\n",
    "squared_numbers = list(map(lambda x: x**2, numbers))\n",
    "print(squared_numbers)\n",
    "\n",
    "Find the cube root of numbers from 1 to 10:\n",
    "\n",
    "numbers = range(1, 11)\n",
    "import math\n",
    "cuberoot_numbers = list(map(lambda x: round(math.pow(x, 1/3), 2), numbers))\n",
    "print(cuberoot_numbers)\n",
    "\n",
    "Check if a given number is even:\n",
    "\n",
    "number = 4\n",
    "result = True if number % 2 == 0 else False\n",
    "print(result)\n",
    "\n",
    "Filter odd numbers from the given list:\n",
    "\n",
    "numbers = [1, 2, 3, 4, 5, 6, 7, 8, 9, 10]\n",
    "odd_numbers = list(filter(lambda x: x % 2 != 0, numbers))\n",
    "print(odd_numbers)\n",
    "\n",
    "Sort a list of integers into positive and negative integers lists:\n",
    "\n",
    "numbers = [1, 2, 3, 4, 5, 6, -1, -2, -3, -4, -5, 0]\n",
    "positive_numbers = list(filter(lambda x: x > 0, numbers))\n",
    "negative_numbers = list(filter(lambda x: x < 0, numbers))\n",
    "print(\"Positive numbers:\", positive_numbers)\n",
    "print(\"Negative numbers:\", negative_numbers)"
   ]
  },
  {
   "cell_type": "code",
   "execution_count": null,
   "id": "2954d6cd-f35b-4f11-a69a-df69120eae42",
   "metadata": {},
   "outputs": [],
   "source": []
  }
 ],
 "metadata": {
  "kernelspec": {
   "display_name": "Python 3 (ipykernel)",
   "language": "python",
   "name": "python3"
  },
  "language_info": {
   "codemirror_mode": {
    "name": "ipython",
    "version": 3
   },
   "file_extension": ".py",
   "mimetype": "text/x-python",
   "name": "python",
   "nbconvert_exporter": "python",
   "pygments_lexer": "ipython3",
   "version": "3.10.8"
  }
 },
 "nbformat": 4,
 "nbformat_minor": 5
}
