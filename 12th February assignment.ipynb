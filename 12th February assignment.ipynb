{
 "cells": [
  {
   "cell_type": "markdown",
   "id": "d2eb20c4-ca3d-4b7a-a001-71a63740fcdd",
   "metadata": {},
   "source": [
    "Q1) What is n Exception in python? Write the difference between Exceptions nd syntx errors\n",
    "\n",
    "soln:\n",
    "\n",
    "\n",
    "An Exception in Python is an error that occurs during the execution of a program, which interrupts the normal flow of the program. When an exception is raised, Python creates an Exception object that contains information about the type of exception and where it occurred.\n",
    "\n",
    "There are many types of exceptions in Python, such as NameError, TypeError, ValueError, IndexError, and many more. Each type of exception represents a different kind of error that can occur during program execution.\n",
    "\n",
    "The difference between exceptions and syntax errors is that syntax errors occur when the Python interpreter cannot parse the program code because it does not conform to the language syntax rules. In contrast, exceptions occur during program execution when something unexpected happens that disrupts the normal flow of the program.\n",
    "\n",
    "Syntax errors are often caught by the Python interpreter before the program is executed, while exceptions occur during program execution and must be handled by the program itself. In Python, exceptions are typically handled using try-except blocks, which allow the program to gracefully handle the error and continue running."
   ]
  },
  {
   "cell_type": "markdown",
   "id": "df3a59a2-e0d3-45a7-8055-3d3eead89bdf",
   "metadata": {},
   "source": [
    "Q2. Wht hppens when n ex,eption is not hndled? Explin with n exmple\n",
    "\n",
    "soln:\n",
    "\n",
    "When an exception is not handled in Python, the program will terminate and an error message will be displayed, which can make the program's behavior unpredictable or unusable. This is because the program will not be able to recover from the exception and continue running as normal.\n"
   ]
  },
  {
   "cell_type": "code",
   "execution_count": 1,
   "id": "8be6aa11-270f-4da1-95b3-890776f58d24",
   "metadata": {},
   "outputs": [
    {
     "ename": "ZeroDivisionError",
     "evalue": "division by zero",
     "output_type": "error",
     "traceback": [
      "\u001b[0;31m---------------------------------------------------------------------------\u001b[0m",
      "\u001b[0;31mZeroDivisionError\u001b[0m                         Traceback (most recent call last)",
      "Cell \u001b[0;32mIn[1], line 1\u001b[0m\n\u001b[0;32m----> 1\u001b[0m result \u001b[38;5;241m=\u001b[39m \u001b[38;5;241;43m1\u001b[39;49m\u001b[43m \u001b[49m\u001b[38;5;241;43m/\u001b[39;49m\u001b[43m \u001b[49m\u001b[38;5;241;43m0\u001b[39;49m\n\u001b[1;32m      2\u001b[0m \u001b[38;5;28mprint\u001b[39m(result)\n",
      "\u001b[0;31mZeroDivisionError\u001b[0m: division by zero"
     ]
    }
   ],
   "source": [
    "result = 1 / 0\n",
    "print(result)"
   ]
  },
  {
   "cell_type": "code",
   "execution_count": 2,
   "id": "2a3b4e8b-8ce9-4f01-9d9e-7551b31e5953",
   "metadata": {},
   "outputs": [
    {
     "name": "stdout",
     "output_type": "stream",
     "text": [
      "Cannot divide by zero\n"
     ]
    }
   ],
   "source": [
    "try:\n",
    "    result = 1 / 0\n",
    "    print(result)\n",
    "except ZeroDivisionError:\n",
    "    print(\"Cannot divide by zero\")"
   ]
  },
  {
   "cell_type": "markdown",
   "id": "4a58d8df-daa5-49c1-99cb-143fb4f29283",
   "metadata": {},
   "source": [
    " Q3) Whi,h Python sttements re used to ,t,h nd hndle ex,eptions? Explin with n exmple\n",
    " \n",
    "Soln:\n",
    "\n",
    "Python uses the try-except statement to catch and handle exceptions. The try block contains the code that might raise an exception, and the except block contains the code that will be executed if an exception is raised.\n"
   ]
  },
  {
   "cell_type": "code",
   "execution_count": 3,
   "id": "4f022376-d9e5-4f9d-9911-d4324f983f7d",
   "metadata": {},
   "outputs": [
    {
     "name": "stdin",
     "output_type": "stream",
     "text": [
      "Enter a number:  10\n"
     ]
    },
    {
     "name": "stdout",
     "output_type": "stream",
     "text": [
      "The result is: 1.0\n"
     ]
    }
   ],
   "source": [
    "try:\n",
    "    x = int(input(\"Enter a number: \"))\n",
    "    y = 10 / x\n",
    "    print(\"The result is:\", y)\n",
    "except ValueError:\n",
    "    print(\"Invalid input, please enter a number.\")\n",
    "except ZeroDivisionError:\n",
    "    print(\"Cannot divide by zero.\")"
   ]
  },
  {
   "cell_type": "markdown",
   "id": "01bb9264-a63e-4cd2-b2e7-3b61d07f517f",
   "metadata": {},
   "source": [
    "the try block contains two statements that could raise exceptions. The first statement prompts the user to enter a number, and the second statement calculates 10 divided by the number entered by the user. If the user enters a non-numeric value or a zero, a ValueError or ZeroDivisionError exception will be raised.\n",
    "\n",
    "The except block contains two handlers for these exceptions. The first handler is for the ValueError exception, which is raised when the user enters a non-numeric value. The second handler is for the ZeroDivisionError exception, which is raised when the user enters zero.\n",
    "\n",
    "If an exception is raised in the try block, the program will jump to the corresponding except block and execute the code in that block. In this way, the program can handle exceptions gracefully and continue running even if an exception occurs.\n",
    "\n",
    "It's worth noting that you can use a generic except block to catch any type of exception, but this is generally not recommended because it can make it difficult to debug your code. It's better to catch specific exceptions and handle them appropriately.\n",
    "\n",
    "\n",
    "\n"
   ]
  },
  {
   "cell_type": "markdown",
   "id": "eb9eace5-bc08-43f7-ba59-890cffea0911",
   "metadata": {},
   "source": [
    " Q4) Explin with n exmple:# trnd else# finll +  rise  \n",
    " \n",
    "soln:\n",
    "\n",
    "the try-except-else-finally statement is used to handle exceptions and execute cleanup code."
   ]
  },
  {
   "cell_type": "code",
   "execution_count": 4,
   "id": "0c5b3b6a-4855-48a5-b713-e64c24ac658a",
   "metadata": {},
   "outputs": [
    {
     "name": "stdin",
     "output_type": "stream",
     "text": [
      "Enter a number:  2\n"
     ]
    },
    {
     "name": "stdout",
     "output_type": "stream",
     "text": [
      "The result is: 5.0\n",
      "End of program.\n"
     ]
    }
   ],
   "source": [
    "try:\n",
    "    x = int(input(\"Enter a number: \"))\n",
    "    y = 10 / x\n",
    "except ValueError:\n",
    "    print(\"Invalid input, please enter a number.\")\n",
    "except ZeroDivisionError:\n",
    "    print(\"Cannot divide by zero.\")\n",
    "else:\n",
    "    print(\"The result is:\", y)\n",
    "finally:\n",
    "    print(\"End of program.\")"
   ]
  },
  {
   "cell_type": "markdown",
   "id": "6ff94dc2-01aa-4b76-a9a4-42c91df4d635",
   "metadata": {},
   "source": [
    "the try block contains the statements that might raise exceptions. The except blocks contain handlers for the specific exceptions that might be raised.\n",
    "\n",
    "The else block contains code that is executed only if no exceptions are raised in the try block. In this example, the else block prints the result of the division.\n",
    "\n",
    "The finally block contains code that is executed regardless of whether an exception was raised or not. In this example, the finally block prints a message indicating the end of the program.\n",
    "\n",
    "If an exception is raised in the try block, the program will jump to the corresponding except block and execute the code in that block. If no exception is raised, the program will execute the code in the else block. In either case, the program will always execute the code in the finally block.\n",
    "\n",
    "For example, if the user enters zero as the input in the above program, a ZeroDivisionError will be raised, and the program will jump to the corresponding except block and print \"Cannot divide by zero.\" After that, the program will execute the code in the finally block and print \"End of program.\"\n",
    "\n",
    "On the other hand, if the user enters a non-zero number, the program will execute the division statement and print the result, and then execute the finally block and print \"End of program.\""
   ]
  },
  {
   "cell_type": "markdown",
   "id": "12e5a3ad-1bbb-46ef-b6a0-fad3c91c79af",
   "metadata": {},
   "source": [
    "Q5. Wht re Custom Ex,eptions in pthon? Wh do we need Custom Ex,eptions? Explin with n exmple \n",
    "\n",
    "soln: \n",
    "\n",
    " Custom exceptions in Python are exceptions that you define yourself by creating a new class that inherits from the built-in Exception class. By defining custom exceptions, you can create more specific and descriptive error messages that can make it easier to debug and maintain your code.   "
   ]
  },
  {
   "cell_type": "code",
   "execution_count": 5,
   "id": "9df1a025-0bd7-452f-a3ad-09d427d0fc9b",
   "metadata": {},
   "outputs": [
    {
     "name": "stdin",
     "output_type": "stream",
     "text": [
      "Enter your age:  2\n"
     ]
    },
    {
     "name": "stdout",
     "output_type": "stream",
     "text": [
      "Your age is: 2\n",
      "End of program.\n"
     ]
    }
   ],
   "source": [
    "class MyException(Exception):\n",
    "    def __init__(self, message):\n",
    "        self.message = message\n",
    "\n",
    "try:\n",
    "    age = int(input(\"Enter your age: \"))\n",
    "    if age < 0:\n",
    "        raise MyException(\"Age cannot be negative.\")\n",
    "except ValueError:\n",
    "    print(\"Invalid input, please enter a number.\")\n",
    "except MyException as ex:\n",
    "    print(ex.message)\n",
    "else:\n",
    "    print(\"Your age is:\", age)\n",
    "finally:\n",
    "    print(\"End of program.\")"
   ]
  },
  {
   "cell_type": "markdown",
   "id": "34712ade-cc74-40b8-8570-48846b7164a1",
   "metadata": {},
   "source": [
    "we define a custom exception called MyException by creating a new class that inherits from the Exception class. We define an __init__ method to set the error message for the exception.\n",
    "\n",
    "In the try block, we prompt the user to enter their age and check if it is negative. If the age is negative, we raise a MyException with a custom error message.\n",
    "\n",
    "In the except block, we handle the ValueError and MyException exceptions separately. If a MyException is raised, we print the custom error message. Otherwise, if a ValueError is raised, we print a generic error message.\n",
    "\n",
    "In the else block, we print the user's age if no exception is raised.\n",
    "\n",
    "In the finally block, we print a message indicating the end of the program.\n",
    "\n",
    "By defining our own custom exception, we can provide more specific and meaningful error messages to help users or developers understand the nature of the problem. This can be especially useful in larger codebases or when working in teams, where it can be difficult to understand the source of an error without clear and specific error messages."
   ]
  },
  {
   "cell_type": "markdown",
   "id": "ffb6f2a0-81cd-43b6-a4c5-536bbeda304b",
   "metadata": {},
   "source": [
    "Q6. Crete  ,ustom ex,eption ,lss. Use this ,lss to hndle n ex,eption. \n",
    "\n",
    "soln:\n",
    "    "
   ]
  },
  {
   "cell_type": "code",
   "execution_count": 7,
   "id": "0b018247-1b66-42a4-93b7-090c2dc96370",
   "metadata": {},
   "outputs": [
    {
     "name": "stdin",
     "output_type": "stream",
     "text": [
      "Enter a positive number:  10\n"
     ]
    },
    {
     "name": "stdout",
     "output_type": "stream",
     "text": [
      "The value is: 10\n"
     ]
    }
   ],
   "source": [
    "class NegativeValueError(Exception):\n",
    "    def __init__(self, message):\n",
    "        self.message = message\n",
    "\n",
    "try:\n",
    "    x = int(input(\"Enter a positive number: \"))\n",
    "    if x < 0:\n",
    "        raise NegativeValueError(\"Value cannot be negative.\")\n",
    "    print(\"The value is:\", x)\n",
    "except ValueError:\n",
    "    print(\"Invalid input, please enter a number.\")\n",
    "except NegativeValueError as ex:\n",
    "    print(ex.message)"
   ]
  },
  {
   "cell_type": "markdown",
   "id": "0d5e39e4-8eaa-4edf-8301-17cb1d332ae5",
   "metadata": {},
   "source": [
    "we define a custom exception class called NegativeValueError that inherits from the built-in Exception class. We define an __init__ method to set the error message for the exception.\n",
    "\n",
    "In the try block, we prompt the user to enter a positive number and check if it is negative. If the number is negative, we raise a NegativeValueError with a custom error message.\n",
    "\n",
    "In the except block, we handle the ValueError and NegativeValueError exceptions separately. If a NegativeValueError is raised, we print the custom error message. Otherwise, if a ValueError is raised, we print a generic error message.\n",
    "\n",
    "If the user enters a positive number, the program will print the value of x.\n",
    "\n",
    "If the user enters a negative number, the program will raise a NegativeValueError with a custom error message, which will be caught by the except block and the error message will be printed.\n",
    "\n",
    "By creating a custom exception class, we can provide more specific and meaningful error messages to help users or developers understand the nature of the problem. This can make our code more robust and easier to debug."
   ]
  },
  {
   "cell_type": "code",
   "execution_count": null,
   "id": "f2a6e6c2-21f2-4d42-aa35-8d4c3aa4f1a5",
   "metadata": {},
   "outputs": [],
   "source": [
    "end of the assesment"
   ]
  }
 ],
 "metadata": {
  "kernelspec": {
   "display_name": "Python 3 (ipykernel)",
   "language": "python",
   "name": "python3"
  },
  "language_info": {
   "codemirror_mode": {
    "name": "ipython",
    "version": 3
   },
   "file_extension": ".py",
   "mimetype": "text/x-python",
   "name": "python",
   "nbconvert_exporter": "python",
   "pygments_lexer": "ipython3",
   "version": "3.10.8"
  }
 },
 "nbformat": 4,
 "nbformat_minor": 5
}
