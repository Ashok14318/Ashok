{
 "cells": [
  {
   "cell_type": "markdown",
   "id": "d678812e-aad5-440d-a0b7-fded1b2b272d",
   "metadata": {},
   "source": [
    "Q1. Create a function which will take a list as an argument and return the product of all the numbers  after creating a flat list. \n",
    "Use the below-given list as an argument for your function. \n",
    "list1 = [1,2,3,4, [44,55,66, True], False, (34,56,78,89,34), {1,2,3,3,2,1}, {1:34, \"key2\": [55, 67, 78, 89], 4: (45,  22, 61, 34)}, [56, 'data science'], 'Machine Learning'] \n",
    "\n",
    "soln:\n",
    "\n"
   ]
  },
  {
   "cell_type": "code",
   "execution_count": 1,
   "id": "b048c358-34a5-447d-8302-120c640c6b15",
   "metadata": {},
   "outputs": [
    {
     "name": "stdout",
     "output_type": "stream",
     "text": [
      "4134711838987085478833841242112000\n"
     ]
    }
   ],
   "source": [
    "from operator import mul\n",
    "from functools import reduce\n",
    "\n",
    "def flat_list_product(lst):\n",
    "    flat_list = []\n",
    "\n",
    "    def flatten(lst):\n",
    "        for i in lst:\n",
    "            if type(i) == list:\n",
    "                flatten(i)\n",
    "            elif type(i) == tuple:\n",
    "                flatten(i)\n",
    "            elif type(i) == set:\n",
    "                flatten(i)\n",
    "            elif type(i) == dict:\n",
    "                for k, v in i.items():\n",
    "                    if type(k) == int or type(k) == float:\n",
    "                        flat_list.append(k)\n",
    "                    if type(v) == int or type(v) == float:\n",
    "                        flat_list.append(v)\n",
    "                    if type(v) == list:\n",
    "                        flatten(v)\n",
    "                    if type(v) == tuple:\n",
    "                        flatten(v)\n",
    "                    if type(v) == set:\n",
    "                        flatten(v)\n",
    "                    if type(v) == dict:\n",
    "                        flatten(v)\n",
    "            elif type(i) == int or type(i) == float:\n",
    "                flat_list.append(i)\n",
    "\n",
    "    flatten(lst)\n",
    "    return reduce(mul, flat_list) if flat_list else None\n",
    "\n",
    "list1 = [1,2,3,4, [44,55,66, True], False, (34,56,78,89,34), {1,2,3,3,2,1}, {1:34, \"key2\": [55, 67, 78, 89], 4: (45,  22, 61, 34)}, [56, 'data science'], 'Machine Learning']\n",
    "print(flat_list_product(list1))\n"
   ]
  },
  {
   "cell_type": "markdown",
   "id": "f4ffbbe6-e286-4bc8-b8a0-0370850fb641",
   "metadata": {},
   "source": [
    "Q2. Write a python program for encrypting a message sent to you by your friend. The logic of encryption  should be such that, for a the output should be z. For b, the output should be y. For c, the output should  be x respectively. Also, the whitespace should be replaced with a dollar sign. Keep the punctuation  marks unchanged. \n",
    "Input Sentence: I want to become a Data Scientist. \n",
    "Encrypt the above input sentence using the program you just created.\n",
    "\n",
    "soln:\n",
    "\n",
    "\n"
   ]
  },
  {
   "cell_type": "code",
   "execution_count": 3,
   "id": "d6b21571-19e1-4ebe-8f45-d5b46bbfff5d",
   "metadata": {},
   "outputs": [
    {
     "name": "stdout",
     "output_type": "stream",
     "text": [
      "Encrypted Message: r$dzmg$gl$yvxlnv$z$wzgz$hxrvmgrhg.\n"
     ]
    }
   ],
   "source": [
    "def encrypt_message(sentence):\n",
    "    result = \"\"\n",
    "    for char in sentence.lower():\n",
    "        if char == ' ':\n",
    "            result += '$'\n",
    "        elif char.isalpha():\n",
    "            result += chr(122 - ord(char) + 97)\n",
    "        else:\n",
    "            result += char\n",
    "    return result\n",
    "\n",
    "sentence = \"I want to become a Data Scientist.\"\n",
    "encrypted_message = encrypt_message(sentence)\n",
    "print(\"Encrypted Message:\", encrypted_message)"
   ]
  },
  {
   "cell_type": "code",
   "execution_count": null,
   "id": "f938f03d-1f57-4e6e-b3b8-f201eba89240",
   "metadata": {},
   "outputs": [],
   "source": []
  }
 ],
 "metadata": {
  "kernelspec": {
   "display_name": "Python 3 (ipykernel)",
   "language": "python",
   "name": "python3"
  },
  "language_info": {
   "codemirror_mode": {
    "name": "ipython",
    "version": 3
   },
   "file_extension": ".py",
   "mimetype": "text/x-python",
   "name": "python",
   "nbconvert_exporter": "python",
   "pygments_lexer": "ipython3",
   "version": "3.10.8"
  }
 },
 "nbformat": 4,
 "nbformat_minor": 5
}
