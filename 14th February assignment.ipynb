{
 "cells": [
  {
   "cell_type": "markdown",
   "id": "e99d03ba-c84b-49ff-a68a-6c470b38fa0b",
   "metadata": {},
   "source": [
    "Q1). hat is multithreading in python? hy is it used? Name the module used to handle threads in python\n",
    "\n",
    "\n",
    "soln:\n",
    "\n",
    "\n",
    "Multithreading is a technique in computer programming that allows concurrent execution of two or more parts of a program. In Python, multithreading is achieved using the threading module. A thread is a separate flow of execution within a program. Threads share the same memory space and can communicate with each other.\n",
    "\n",
    "Multithreading is used to perform multiple tasks simultaneously in a program. This can improve the overall performance and responsiveness of the program, especially when dealing with I/O-bound or CPU-bound tasks. For example, in a web server, multithreading can be used to handle multiple requests from clients simultaneously. Similarly, in a game, multithreading can be used to update the game state and handle user input simultaneously.\n",
    "\n",
    "The threading module in Python is used to handle threads. It provides a high-level interface for creating and managing threads, as well as synchronization primitives such as locks, semaphores, and events. The Thread class is used to create a new thread, and the start() method is used to start the thread's execution. The join() method is used to wait for the thread to complete."
   ]
  },
  {
   "cell_type": "code",
   "execution_count": 1,
   "id": "9bae305c-f7fa-491f-982f-44fe41f6cde7",
   "metadata": {},
   "outputs": [
    {
     "name": "stdout",
     "output_type": "stream",
     "text": [
      "Worker thread started\n",
      "Worker thread finished\n",
      "Main thread finished\n"
     ]
    }
   ],
   "source": [
    "import threading\n",
    "\n",
    "def worker():\n",
    "    print(\"Worker thread started\")\n",
    "    # do some work here\n",
    "    print(\"Worker thread finished\")\n",
    "\n",
    "# create a new thread\n",
    "t = threading.Thread(target=worker)\n",
    "\n",
    "# start the thread\n",
    "t.start()\n",
    "\n",
    "# wait for the thread to complete\n",
    "t.join()\n",
    "\n",
    "print(\"Main thread finished\")"
   ]
  },
  {
   "cell_type": "markdown",
   "id": "f5bedb46-631b-4ad5-a6c3-4d65ef317e49",
   "metadata": {},
   "source": [
    "a new thread is created using the Thread class, with the worker function as the target. The start() method is called to start the thread's execution, and the join() method is called to wait for the thread to complete. The worker function is executed in the new thread, while the main thread continues to execute the remaining code."
   ]
  },
  {
   "cell_type": "markdown",
   "id": "bf35bfa4-ce29-4d2e-9be1-28ccc43f51b3",
   "metadata": {},
   "source": [
    "Q2). hy threading module used? rite the use of the following functions\n",
    "( activeCount\n",
    " currentThread\n",
    "\n",
    "soln:\n",
    "\n",
    "\n",
    "The threading module in Python is used for creating and managing threads in a Python program. It provides a way to run multiple threads concurrently, allowing different parts of the program to execute in parallel. The threading module is often used in network programming, GUI programming, and other applications that require parallel processing.\n",
    "\n",
    "Here are the descriptions of the activeCount() and currentThread() functions in the threading module:\n",
    "\n",
    "activeCount(): This function returns the number of active threads in the current process. An active thread is a thread that has been started but has not yet completed. This function can be useful for debugging and monitoring purposes."
   ]
  },
  {
   "cell_type": "code",
   "execution_count": 2,
   "id": "41333e28-8daf-408c-91dc-1655cd07d04d",
   "metadata": {},
   "outputs": [
    {
     "name": "stdout",
     "output_type": "stream",
     "text": [
      "Worker thread started\n",
      "Worker thread finished\n",
      "Worker thread started\n",
      "Worker thread finished\n",
      "Number of active threads: 8\n"
     ]
    },
    {
     "name": "stderr",
     "output_type": "stream",
     "text": [
      "/tmp/ipykernel_1518/158826478.py:21: DeprecationWarning: activeCount() is deprecated, use active_count() instead\n",
      "  print(\"Number of active threads:\", threading.activeCount())\n"
     ]
    }
   ],
   "source": [
    "import threading\n",
    "\n",
    "def worker():\n",
    "    print(\"Worker thread started\")\n",
    "    # do some work here\n",
    "    print(\"Worker thread finished\")\n",
    "\n",
    "# create a new thread\n",
    "t1 = threading.Thread(target=worker)\n",
    "t2 = threading.Thread(target=worker)\n",
    "\n",
    "# start the threads\n",
    "t1.start()\n",
    "t2.start()\n",
    "\n",
    "# wait for the threads to complete\n",
    "t1.join()\n",
    "t2.join()\n",
    "\n",
    "# print the number of active threads\n",
    "print(\"Number of active threads:\", threading.activeCount())"
   ]
  },
  {
   "cell_type": "markdown",
   "id": "2f6e6a9b-816f-4474-8e79-e5ea4a883f6c",
   "metadata": {},
   "source": [
    "two threads are created using the Thread class, with the worker function as the target. The start() method is called to start the threads' execution, and the join() method is called to wait for the threads to complete. The activeCount() function is used to print the number of active threads in the process.\n",
    "\n",
    "currentThread(): This function returns a reference to the current thread object. The thread object represents the thread in which the function is currently executing. This function can be useful for debugging and logging purposes."
   ]
  },
  {
   "cell_type": "code",
   "execution_count": 4,
   "id": "344705e9-7415-4e83-8f72-4732424651eb",
   "metadata": {},
   "outputs": [
    {
     "name": "stdout",
     "output_type": "stream",
     "text": [
      "Worker thread: Thread-8 (worker)\n",
      "Main thread: MainThread\n"
     ]
    }
   ],
   "source": [
    "import threading\n",
    "\n",
    "def worker():\n",
    "    print(\"Worker thread:\", threading.current_thread().name)\n",
    "\n",
    "# create a new thread\n",
    "t = threading.Thread(target=worker)\n",
    "\n",
    "# start the thread\n",
    "t.start()\n",
    "\n",
    "# wait for the thread to complete\n",
    "t.join()\n",
    "\n",
    "print(\"Main thread:\", threading.current_thread().name)"
   ]
  },
  {
   "cell_type": "markdown",
   "id": "1070c7a0-a510-4919-bd0a-cf127b362853",
   "metadata": {},
   "source": [
    "a new thread is created using the Thread class, with the worker function as the target. The start() method is called to start the thread's execution, and the join() method is called to wait for the thread to complete. The current_thread() function is used to print the name of the current thread object, which represents the worker thread and the main thread."
   ]
  },
  {
   "cell_type": "markdown",
   "id": "9f8fc9f9-1d12-4703-9bca-62f95ac97f41",
   "metadata": {},
   "source": [
    "enumerate(): This function returns a list of all thread objects that are currently active in the current thread."
   ]
  },
  {
   "cell_type": "code",
   "execution_count": 5,
   "id": "72360c41-6145-4fda-a8ce-805d8f293c80",
   "metadata": {},
   "outputs": [
    {
     "name": "stdout",
     "output_type": "stream",
     "text": [
      "Thread started\n",
      "Thread finished\n",
      "Thread started\n",
      "Thread finished\n",
      "Active thread: MainThread\n",
      "Active thread: IOPub\n",
      "Active thread: Heartbeat\n",
      "Active thread: Thread-3 (_watch_pipe_fd)\n",
      "Active thread: Thread-4 (_watch_pipe_fd)\n",
      "Active thread: Control\n",
      "Active thread: IPythonHistorySavingThread\n",
      "Active thread: Thread-2\n"
     ]
    },
    {
     "name": "stderr",
     "output_type": "stream",
     "text": [
      "/tmp/ipykernel_1518/2090750595.py:14: DeprecationWarning: getName() is deprecated, get the name attribute instead\n",
      "  print(\"Active thread:\", thread.getName())\n"
     ]
    }
   ],
   "source": [
    "import threading\n",
    "\n",
    "def my_function():\n",
    "    print(\"Thread started\")\n",
    "    print(\"Thread finished\")\n",
    "\n",
    "t1 = threading.Thread(target=my_function)\n",
    "t2 = threading.Thread(target=my_function)\n",
    "\n",
    "t1.start()\n",
    "t2.start()\n",
    "\n",
    "for thread in threading.enumerate():\n",
    "    print(\"Active thread:\", thread.getName())"
   ]
  },
  {
   "cell_type": "markdown",
   "id": "65a7acc8-a92a-490c-b3f6-aeee67cbdcd8",
   "metadata": {},
   "source": [
    "3. Explain the following functions\n",
    "( run\n",
    " start\n",
    " join\n",
    "' isAlive)\n",
    " \n",
    " soln:\n",
    " \n",
    " run(): This method represents the activity that is run by the thread. You can override this method to provide your own functionality that the thread will execute."
   ]
  },
  {
   "cell_type": "code",
   "execution_count": 6,
   "id": "82a13916-c6c2-4948-b8a3-e175e6e09516",
   "metadata": {},
   "outputs": [
    {
     "name": "stdout",
     "output_type": "stream",
     "text": [
      "Thread started\n",
      "Thread finished\n"
     ]
    }
   ],
   "source": [
    "import threading\n",
    "\n",
    "class MyThread(threading.Thread):\n",
    "    def run(self):\n",
    "        print(\"Thread started\")\n",
    "        print(\"Thread finished\")\n",
    "\n",
    "t = MyThread()\n",
    "t.start()"
   ]
  },
  {
   "cell_type": "markdown",
   "id": "39105596-f644-46e0-8812-28818f13be3b",
   "metadata": {},
   "source": [
    "start(): This method starts the thread's activity. It spawns a new thread, and calls the run() method to start executing the thread."
   ]
  },
  {
   "cell_type": "code",
   "execution_count": 7,
   "id": "8f143a4f-e571-42d0-ac53-9c39e1d07c58",
   "metadata": {},
   "outputs": [
    {
     "name": "stdout",
     "output_type": "stream",
     "text": [
      "Thread started\n",
      "Thread finished\n"
     ]
    }
   ],
   "source": [
    "import threading\n",
    "\n",
    "class MyThread(threading.Thread):\n",
    "    def run(self):\n",
    "        print(\"Thread started\")\n",
    "        print(\"Thread finished\")\n",
    "\n",
    "t = MyThread()\n",
    "t.start()"
   ]
  },
  {
   "cell_type": "markdown",
   "id": "91d025f9-0f3d-4987-b3b9-7868fe30a533",
   "metadata": {},
   "source": [
    "join(): This method waits for the thread to finish its task before the program can proceed. This means that the current thread will not continue execution until the joined thread has completed."
   ]
  },
  {
   "cell_type": "code",
   "execution_count": 8,
   "id": "4da30bdc-3a8e-4cb1-8634-f8d45f2eedd5",
   "metadata": {},
   "outputs": [
    {
     "name": "stdout",
     "output_type": "stream",
     "text": [
      "Thread started\n",
      "Thread finished\n",
      "Thread is finished\n"
     ]
    }
   ],
   "source": [
    "import threading\n",
    "\n",
    "class MyThread(threading.Thread):\n",
    "    def run(self):\n",
    "        print(\"Thread started\")\n",
    "        print(\"Thread finished\")\n",
    "\n",
    "t = MyThread()\n",
    "t.start()\n",
    "t.join()\n",
    "print(\"Thread is finished\")"
   ]
  },
  {
   "cell_type": "markdown",
   "id": "4e6c9cdd-76af-4132-8d54-91d6dd04a668",
   "metadata": {},
   "source": [
    "isAlive(): This method returns a Boolean value that indicates whether the thread is currently executing or not."
   ]
  },
  {
   "cell_type": "code",
   "execution_count": 12,
   "id": "a5cf8558-46cf-4eef-8ea6-a103b2f6c4e1",
   "metadata": {},
   "outputs": [
    {
     "name": "stdout",
     "output_type": "stream",
     "text": [
      "Thread started\n"
     ]
    },
    {
     "ename": "AttributeError",
     "evalue": "'Thread' object has no attribute 'isAlive'",
     "output_type": "error",
     "traceback": [
      "\u001b[0;31m---------------------------------------------------------------------------\u001b[0m",
      "\u001b[0;31mAttributeError\u001b[0m                            Traceback (most recent call last)",
      "Cell \u001b[0;32mIn[12], line 11\u001b[0m\n\u001b[1;32m      9\u001b[0m t \u001b[38;5;241m=\u001b[39m threading\u001b[38;5;241m.\u001b[39mThread(target\u001b[38;5;241m=\u001b[39mmy_function)\n\u001b[1;32m     10\u001b[0m t\u001b[38;5;241m.\u001b[39mstart()\n\u001b[0;32m---> 11\u001b[0m \u001b[38;5;28mprint\u001b[39m(\u001b[38;5;124m\"\u001b[39m\u001b[38;5;124mIs thread alive?\u001b[39m\u001b[38;5;124m\"\u001b[39m, \u001b[43mt\u001b[49m\u001b[38;5;241;43m.\u001b[39;49m\u001b[43misAlive\u001b[49m())\n\u001b[1;32m     12\u001b[0m time\u001b[38;5;241m.\u001b[39msleep(\u001b[38;5;241m3\u001b[39m)\n\u001b[1;32m     13\u001b[0m \u001b[38;5;28mprint\u001b[39m(\u001b[38;5;124m\"\u001b[39m\u001b[38;5;124mIs thread alive?\u001b[39m\u001b[38;5;124m\"\u001b[39m, t\u001b[38;5;241m.\u001b[39misAlive())\n",
      "\u001b[0;31mAttributeError\u001b[0m: 'Thread' object has no attribute 'isAlive'"
     ]
    },
    {
     "name": "stdout",
     "output_type": "stream",
     "text": [
      "Thread finished\n"
     ]
    }
   ],
   "source": [
    "import threading\n",
    "import time\n",
    "\n",
    "def my_function():\n",
    "    print(\"Thread started\")\n",
    "    time.sleep(2)\n",
    "    print(\"Thread finished\")\n",
    "\n",
    "t = threading.Thread(target=my_function)\n",
    "t.start()\n",
    "print(\"Is thread alive?\", t.isAlive())\n",
    "time.sleep(3)\n",
    "print(\"Is thread alive?\", t.isAlive())"
   ]
  },
  {
   "cell_type": "markdown",
   "id": "f7b580ad-d7c7-47dc-9319-70acaad235e2",
   "metadata": {},
   "source": [
    "4. rite a python program to create two threads. Thread one must print the list of squares and thread\n",
    "two must print the list of cubes\n",
    "\n",
    "soln:\n",
    "    \n",
    "    "
   ]
  },
  {
   "cell_type": "code",
   "execution_count": 15,
   "id": "fb4a16c8-8926-4c69-ac74-0c13c16d74d2",
   "metadata": {},
   "outputs": [
    {
     "name": "stdout",
     "output_type": "stream",
     "text": [
      "Square of 1 = 1\n",
      "Square of 2 = 4\n",
      "Square of 3 = 9\n",
      "Square of 4 = 16\n",
      "Square of 5 = 25\n",
      "Cube of 1 = 1\n",
      "Cube of 2 = 8\n",
      "Cube of 3 = 27\n",
      "Cube of 4 = 64\n",
      "Cube of 5 = 125\n",
      "Program finished\n"
     ]
    }
   ],
   "source": [
    "import threading\n",
    "\n",
    "def print_squares():\n",
    "    for i in range(1, 6):\n",
    "        print(f\"Square of {i} = {i**2}\")\n",
    "\n",
    "def print_cubes():\n",
    "    for i in range(1, 6):\n",
    "        print(f\"Cube of {i} = {i**3}\")\n",
    "\n",
    "t1 = threading.Thread(target=print_squares)\n",
    "t2 = threading.Thread(target=print_cubes)\n",
    "\n",
    "t1.start()\n",
    "t2.start()\n",
    "\n",
    "t1.join()\n",
    "t2.join()\n",
    "\n",
    "print(\"Program finished\")"
   ]
  },
  {
   "cell_type": "markdown",
   "id": "d2a85ff7-8560-4e2b-8407-ae7e64d6ebd4",
   "metadata": {},
   "source": [
    "5. State advantages and disadvantages of multithreading\n",
    "\n",
    "soln:\n",
    "    \n",
    "    Advantages:\n",
    "\n",
    "Increased responsiveness: Multithreading allows a program to perform multiple tasks concurrently, which can improve the responsiveness of the application. For example, if one thread is busy performing a long operation, other threads can continue executing and keep the program responsive.\n",
    "\n",
    "Improved performance: By leveraging the power of multiple CPU cores, multithreading can help improve the performance of a program. This is especially true for CPU-bound tasks that can be split into smaller sub-tasks and executed concurrently.\n",
    "\n",
    "Simplified program structure: Multithreading can simplify the structure of a program by allowing complex tasks to be broken down into smaller, more manageable sub-tasks that can be executed concurrently.\n",
    "\n",
    "Disadvantages:\n",
    "\n",
    "Complexity: Multithreaded programs can be more complex than single-threaded programs, as they require additional synchronization mechanisms to ensure that threads do not interfere with each other.\n",
    "\n",
    "Synchronization overhead: Synchronizing access to shared resources, such as variables or data structures, can introduce additional overhead, which can negatively impact the performance of the program.\n",
    "\n",
    "Increased likelihood of errors: Multithreading can make a program more prone to errors, such as race conditions, deadlocks, and other synchronization-related issues. These issues can be difficult to debug and resolve.\n",
    "\n",
    "Overall, multithreading can be a powerful tool for improving the performance and responsiveness of a program, but it requires careful design and implementation to avoid introducing additional complexity and potential errors."
   ]
  },
  {
   "cell_type": "markdown",
   "id": "394def9a-cfc2-4727-b8f4-7ca7061535c7",
   "metadata": {},
   "source": [
    "6. Explain deadlocks and race conditions. \n",
    "\n",
    "soln:\n",
    "    \n",
    "    Deadlocks and race conditions are two common issues that can occur in multithreaded programs.\n",
    "\n",
    "A deadlock occurs when two or more threads are blocked waiting for each other to release resources that they need to continue executing. This can happen when two threads each hold a resource that the other thread needs and neither thread can proceed without the resource held by the other thread. As a result, both threads become stuck in a loop, waiting for the other thread to release the resource they need.\n",
    "\n",
    "A race condition occurs when the behavior of a program depends on the order or timing of events in a way that is not deterministic or predictable. For example, if two threads attempt to modify the same variable at the same time, the behavior of the program may depend on which thread executes first. This can result in unexpected or incorrect behavior, such as data corruption or incorrect results.\n",
    "\n",
    "Both deadlocks and race conditions can be difficult to detect and debug, as they often depend on subtle interactions between multiple threads. To avoid these issues, multithreaded programs must be carefully designed and implemented to ensure that threads do not interfere with each other and that resources are shared in a safe and controlled manner. This can involve the use of synchronization mechanisms, such as locks or semaphores, to prevent multiple threads from accessing the same resource at the same time."
   ]
  }
 ],
 "metadata": {
  "kernelspec": {
   "display_name": "Python 3 (ipykernel)",
   "language": "python",
   "name": "python3"
  },
  "language_info": {
   "codemirror_mode": {
    "name": "ipython",
    "version": 3
   },
   "file_extension": ".py",
   "mimetype": "text/x-python",
   "name": "python",
   "nbconvert_exporter": "python",
   "pygments_lexer": "ipython3",
   "version": "3.10.8"
  }
 },
 "nbformat": 4,
 "nbformat_minor": 5
}
