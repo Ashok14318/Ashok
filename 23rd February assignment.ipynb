{
 "cells": [
  {
   "cell_type": "markdown",
   "id": "34f6a4d0-6c11-4df9-9114-74d308178777",
   "metadata": {},
   "source": [
    "Q1. Create a Pandas Series that contains the following data: 4, 8, 15, 16, 23, and 42. Then, print the series.\n",
    "\n",
    "soln:"
   ]
  },
  {
   "cell_type": "code",
   "execution_count": 1,
   "id": "dbfd1687-1db6-48b7-96df-764b846c52f9",
   "metadata": {},
   "outputs": [
    {
     "name": "stdout",
     "output_type": "stream",
     "text": [
      "0     4\n",
      "1     8\n",
      "2    15\n",
      "3    16\n",
      "4    23\n",
      "5    42\n",
      "dtype: int64\n"
     ]
    }
   ],
   "source": [
    "import pandas as pd\n",
    "\n",
    "# Create the Pandas Series\n",
    "series = pd.Series([4, 8, 15, 16, 23, 42])\n",
    "\n",
    "# Print the series\n",
    "print(series)"
   ]
  },
  {
   "cell_type": "markdown",
   "id": "467c5172-55cc-4e25-8f82-e6100a036295",
   "metadata": {},
   "source": [
    "Q2. Create a variable of list type containing 10 elements in it, and apply pandas.Series function on the\n",
    "variable print it.\n",
    "\n",
    "soln"
   ]
  },
  {
   "cell_type": "code",
   "execution_count": 2,
   "id": "edbb49c2-f076-4cb8-87e3-e1533426f2eb",
   "metadata": {},
   "outputs": [
    {
     "name": "stdout",
     "output_type": "stream",
     "text": [
      "0     10\n",
      "1     20\n",
      "2     30\n",
      "3     40\n",
      "4     50\n",
      "5     60\n",
      "6     70\n",
      "7     80\n",
      "8     90\n",
      "9    100\n",
      "dtype: int64\n"
     ]
    }
   ],
   "source": [
    "import pandas as pd\n",
    "\n",
    "# Create a list with 10 elements\n",
    "my_list = [10, 20, 30, 40, 50, 60, 70, 80, 90, 100]\n",
    "\n",
    "# Convert the list to a Pandas Series\n",
    "my_series = pd.Series(my_list)\n",
    "\n",
    "# Print the resulting series\n",
    "print(my_series)"
   ]
  },
  {
   "cell_type": "markdown",
   "id": "842c626b-b4da-4dca-bdc1-6331e8eb1300",
   "metadata": {},
   "source": [
    "Q3. Create a Pandas DataFrame that contains the following data:\n",
    "\n",
    "Name\n",
    "Alice\n",
    "Bob\n",
    "Claire\n",
    "\n",
    "Age\n",
    "25\n",
    "30\n",
    "27\n",
    "\n",
    "Gender\n",
    "Female\n",
    "Male\n",
    "Female\n",
    "\n",
    "soln:"
   ]
  },
  {
   "cell_type": "code",
   "execution_count": 3,
   "id": "fcaaf258-7959-4fad-97c8-b6ee288de178",
   "metadata": {},
   "outputs": [
    {
     "name": "stdout",
     "output_type": "stream",
     "text": [
      "     Name  Age  Gender\n",
      "0   Alice   25  Female\n",
      "1     Bob   30    Male\n",
      "2  Claire   27  Female\n"
     ]
    }
   ],
   "source": [
    "import pandas as pd\n",
    "\n",
    "# Create a dictionary containing the data\n",
    "data = {\n",
    "    'Name': ['Alice', 'Bob', 'Claire'],\n",
    "    'Age': [25, 30, 27],\n",
    "    'Gender': ['Female', 'Male', 'Female']\n",
    "}\n",
    "\n",
    "# Create the Pandas DataFrame\n",
    "df = pd.DataFrame(data)\n",
    "\n",
    "# Print the resulting DataFrame\n",
    "print(df)"
   ]
  },
  {
   "cell_type": "markdown",
   "id": "db073bba-5b54-475d-a063-0e425606e667",
   "metadata": {},
   "source": [
    "Q4. What is ‘DataFrame’ in pandas and how is it different from pandas.series? Explain with an example.\n",
    "\n",
    "soln:"
   ]
  },
  {
   "cell_type": "markdown",
   "id": "a0c1b18c-7024-40a0-bd98-ba49ab560c71",
   "metadata": {},
   "source": [
    "DataFrame is a two-dimensional labeled data structure in pandas. It is similar to a spreadsheet or SQL table, and can be thought of as a collection of Pandas Series objects with a shared index.\n",
    "\n",
    "In contrast, Series is a one-dimensional labeled array that can hold any data type, such as integers, strings, or floats.\n"
   ]
  },
  {
   "cell_type": "code",
   "execution_count": 4,
   "id": "49146fb5-d849-4ff0-882c-8067aeca5751",
   "metadata": {},
   "outputs": [
    {
     "name": "stdout",
     "output_type": "stream",
     "text": [
      "0    10\n",
      "1    20\n",
      "2    30\n",
      "3    40\n",
      "4    50\n",
      "dtype: int64\n",
      "      Name  Age  Gender\n",
      "0    Alice   25  Female\n",
      "1      Bob   30    Male\n",
      "2  Charlie   27    Male\n"
     ]
    }
   ],
   "source": [
    "import pandas as pd\n",
    "\n",
    "# Creating a Pandas Series\n",
    "my_series = pd.Series([10, 20, 30, 40, 50])\n",
    "\n",
    "# Creating a Pandas DataFrame\n",
    "my_df = pd.DataFrame({\n",
    "    'Name': ['Alice', 'Bob', 'Charlie'],\n",
    "    'Age': [25, 30, 27],\n",
    "    'Gender': ['Female', 'Male', 'Male']\n",
    "})\n",
    "\n",
    "# Printing the Pandas Series and DataFrame\n",
    "print(my_series)\n",
    "print(my_df)"
   ]
  },
  {
   "cell_type": "markdown",
   "id": "77895541-8a7d-491d-87d4-b2816838c540",
   "metadata": {},
   "source": [
    "we first create a Pandas Series called my_series that contains a list of integers. We then create a Pandas DataFrame called my_df that contains three columns: 'Name', 'Age', and 'Gender', and three rows of data."
   ]
  },
  {
   "cell_type": "markdown",
   "id": "2579b538-340b-4907-af8b-0ab4f39dbedc",
   "metadata": {},
   "source": [
    "When we print my_series, the output shows a one-dimensional array of integers:\n",
    "When we print my_df, the output shows a two-dimensional table with three columns and three rows:\n",
    "while Pandas Series is a one-dimensional array-like object, Pandas DataFrame is a two-dimensional table-like object with columns of potentially different types.\n",
    "        \n",
    "        "
   ]
  },
  {
   "cell_type": "markdown",
   "id": "a387e468-7a3f-443f-8478-eb305dc9e429",
   "metadata": {},
   "source": [
    "Q5. What are some common functions you can use to manipulate data in a Pandas DataFrame? Can\n",
    "you give an example of when you might use one of these functions?\n",
    "\n",
    "soln:"
   ]
  },
  {
   "cell_type": "markdown",
   "id": "5b46ad99-33ad-42d0-b9ed-311c493204c0",
   "metadata": {},
   "source": [
    "There are many functions and methods in Pandas that can be used to manipulate data in a DataFrame. Here are some common ones:\n",
    "\n",
    "head() and tail(): These functions allow you to view the first or last few rows of the DataFrame. For example, you might use df.head() to quickly check the first few rows of the DataFrame.\n",
    "\n",
    "describe(): This function generates summary statistics for the numeric columns in the DataFrame, such as count, mean, standard deviation, and quartiles. You might use df.describe() to get a sense of the range and distribution of values in the DataFrame.\n",
    "\n",
    "sort_values(): This method allows you to sort the rows of the DataFrame based on the values in one or more columns. For example, you might use df.sort_values('Age') to sort the rows by the 'Age' column in ascending order.\n",
    "\n",
    "groupby(): This method allows you to group the rows of the DataFrame based on one or more columns, and then apply a function to each group. For example, you might use df.groupby('Gender')['Age'].mean() to calculate the mean age of each gender group.\n",
    "\n",
    "drop(): This method allows you to drop rows or columns from the DataFrame based on their labels. For example, you might use df.drop('Gender', axis=1) to drop the 'Gender' column from the DataFrame.\n",
    "\n",
    "fillna(): This method allows you to fill missing values in the DataFrame with a specified value or method. For example, you might use df.fillna(0) to fill all missing values with zero.\n",
    "\n",
    "apply(): This method applies a function to each element of the DataFrame. You might use it to apply a custom function to a column or row of the DataFrame.\n",
    "\n",
    "These are just a few examples of the many functions and methods available in Pandas for manipulating data in a DataFrame. The specific function you choose to use will depend on the task you're trying to accomplish and the structure of your data."
   ]
  },
  {
   "cell_type": "markdown",
   "id": "7d43ad96-1347-4d12-8560-5a93854faf3f",
   "metadata": {},
   "source": [
    "Q6. Which of the following is mutable in nature Series, DataFrame, Panel?\n",
    "\n",
    "soln:"
   ]
  },
  {
   "cell_type": "markdown",
   "id": "a56da9e1-cbb5-4538-997c-1113eb1feb18",
   "metadata": {},
   "source": [
    "Both Series and DataFrame are mutable in nature, while Panel is not.\n",
    "\n",
    "In Pandas, a mutable object can be modified after it is created, while an immutable object cannot. In other words, when you change a mutable object, the changes are reflected in the original object, while with an immutable object, a new object is created with the changes.\n",
    "\n",
    "Series and DataFrame are mutable because you can modify their values, add or delete rows and columns, and perform other operations that change their structure or content. For example, you can add a new column to a DataFrame using the assignment operator:"
   ]
  },
  {
   "cell_type": "code",
   "execution_count": 5,
   "id": "50e7ea17-5680-4a14-820c-bfec1b4b3808",
   "metadata": {},
   "outputs": [
    {
     "name": "stdout",
     "output_type": "stream",
     "text": [
      "      Name  Age  Gender    Country\n",
      "0    Alice   25  Female        USA\n",
      "1      Bob   30    Male     Canada\n",
      "2  Charlie   27    Male  Australia\n"
     ]
    }
   ],
   "source": [
    "import pandas as pd\n",
    "\n",
    "df = pd.DataFrame({\n",
    "    'Name': ['Alice', 'Bob', 'Charlie'],\n",
    "    'Age': [25, 30, 27],\n",
    "    'Gender': ['Female', 'Male', 'Male']\n",
    "})\n",
    "\n",
    "df['Country'] = ['USA', 'Canada', 'Australia']\n",
    "\n",
    "print(df)"
   ]
  },
  {
   "cell_type": "markdown",
   "id": "b4270283-23c9-45c1-9533-62826079f153",
   "metadata": {},
   "source": [
    "Panel, on the other hand, is immutable, which means that once you create a Panel, you cannot modify it. However, you can create a new Panel by performing operations on an existing one. Because Panel has been deprecated since version 0.25.0, it is recommended to use the more versatile and efficient multi-dimensional data structures like xarray instead."
   ]
  },
  {
   "cell_type": "markdown",
   "id": "9726131a-f3d4-431d-adf9-7f7ed418b785",
   "metadata": {},
   "source": [
    "Q7. Create a DataFrame using multiple Series. Explain with an example.\n",
    "\n",
    "soln:"
   ]
  },
  {
   "cell_type": "code",
   "execution_count": 1,
   "id": "1858a32c-08bc-438b-b2bd-9f68b58b68da",
   "metadata": {},
   "outputs": [
    {
     "name": "stdout",
     "output_type": "stream",
     "text": [
      "      Name  Age  Gender\n",
      "0    Alice   25  Female\n",
      "1      Bob   30    Male\n",
      "2  Charlie   27    Male\n"
     ]
    }
   ],
   "source": [
    "import pandas as pd\n",
    "\n",
    "names = pd.Series(['Alice', 'Bob', 'Charlie'])\n",
    "ages = pd.Series([25, 30, 27])\n",
    "genders = pd.Series(['Female', 'Male', 'Male'])\n",
    "\n",
    "df = pd.DataFrame({\n",
    "    'Name': names,\n",
    "    'Age': ages,\n",
    "    'Gender': genders\n",
    "})\n",
    "\n",
    "print(df)"
   ]
  },
  {
   "cell_type": "code",
   "execution_count": null,
   "id": "0a438fe7-d77a-47ca-ba89-c46246f74c17",
   "metadata": {},
   "outputs": [],
   "source": []
  }
 ],
 "metadata": {
  "kernelspec": {
   "display_name": "Python 3 (ipykernel)",
   "language": "python",
   "name": "python3"
  },
  "language_info": {
   "codemirror_mode": {
    "name": "ipython",
    "version": 3
   },
   "file_extension": ".py",
   "mimetype": "text/x-python",
   "name": "python",
   "nbconvert_exporter": "python",
   "pygments_lexer": "ipython3",
   "version": "3.10.8"
  }
 },
 "nbformat": 4,
 "nbformat_minor": 5
}
