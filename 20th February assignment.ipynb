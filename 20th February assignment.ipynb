{
 "cells": [
  {
   "cell_type": "markdown",
   "id": "008a8e7a-3a36-4e84-be64-64a6f151259c",
   "metadata": {},
   "source": [
    "Q1. Explain GET and POST methods.\n",
    "\n",
    "soln:"
   ]
  },
  {
   "cell_type": "markdown",
   "id": "48ffa87c-fc40-4353-8573-56974845f419",
   "metadata": {},
   "source": [
    "GET and POST are HTTP methods used in web development to send data from the client (such as a web browser) to the server.\n",
    "\n",
    "The GET method sends data in the URL's query string, while the POST method sends data in the body of the HTTP request.\n",
    "\n",
    "Here are some more details about each method:\n",
    "\n",
    "GET Method\n",
    "GET method is used to retrieve data from the server\n",
    "GET requests can be cached\n",
    "GET requests remain in the browser history\n",
    "GET requests can be bookmarked\n",
    "GET requests have length restrictions\n",
    "GET requests should be used only for retrieving data\n",
    "The data sent via GET is visible to the user in the URL\n",
    "POST Method\n",
    "POST method is used to submit data to the server\n",
    "POST requests are not cached\n",
    "POST requests do not remain in the browser history\n",
    "POST requests cannot be bookmarked\n",
    "POST requests have no length restrictions\n",
    "POST requests should be used only for submitting data\n",
    "The data sent via POST is not visible to the user in the URL\n",
    "In summary, GET method is used to retrieve data from the server, while POST method is used to submit data to the server. GET method is useful when you want to retrieve data, and the data is not sensitive or private. POST method is useful when you want to submit sensitive or private data to the server, such as login credentials, credit card information"
   ]
  },
  {
   "cell_type": "markdown",
   "id": "c1ff92a5-3f92-40cd-9519-5eb35f360e73",
   "metadata": {},
   "source": [
    "Q2. Why is request used in Flask?\n",
    "\n",
    "soln:"
   ]
  },
  {
   "cell_type": "markdown",
   "id": "96ff23a7-a622-45db-b21e-d3612042891d",
   "metadata": {},
   "source": [
    "the request object is used to access the incoming HTTP request data that is sent from the client (such as a web browser) to the server.\n",
    "\n",
    "The request object allows us to extract data from the incoming request, such as form data, query string parameters, headers, cookies, files, and more.\n",
    "\n",
    "Here are some examples of how the request object can be used in Flask:\n",
    "\n",
    "Accessing form data:\n",
    "\n",
    "from flask import request\n",
    "\n",
    "@app.route(\"/submit\", methods=[\"POST\"])\n",
    "def submit():\n",
    "    username = request.form.get(\"username\")\n",
    "    password = request.form.get(\"password\")\n",
    "    # Do something with username and password\n",
    "Accessing query string parameters:\n",
    "\n",
    "from flask import request\n",
    "\n",
    "@app.route(\"/search\", methods=[\"GET\"])\n",
    "def search():\n",
    "    query = request.args.get(\"q\")\n",
    "    # Do a search using the query parameter\n",
    "Accessing cookies:\n",
    "\n",
    "from flask import request\n",
    "\n",
    "@app.route(\"/dashboard\", methods=[\"GET\"])\n",
    "def dashboard():\n",
    "    session_id = request.cookies.get(\"session_id\")\n",
    "    # Do something with the session ID cookie\n",
    "The request object is an essential part of any Flask application that requires interaction with incoming HTTP requests. It provides a convenient way to extract data from the request and perform various operations based on that data."
   ]
  },
  {
   "cell_type": "markdown",
   "id": "55224c4d-4fac-4f7d-810c-9b304d1fa65e",
   "metadata": {},
   "source": [
    "Q3. Why is redirect() used in Flask?\n",
    "\n",
    "soln:"
   ]
  },
  {
   "cell_type": "markdown",
   "id": "e88c6d16-2006-4a37-81bb-b7c9e9c1b14b",
   "metadata": {},
   "source": [
    "the redirect() function is used to redirect the user to a different URL. This function generates an HTTP response that instructs the user's web browser to navigate to a new URL.\n",
    "\n",
    "Here are some common use cases for the redirect() function in Flask:\n",
    "\n",
    "After a successful form submission, redirect the user to a thank-you page:\n",
    "\n",
    "from flask import redirect, url_for\n",
    "\n",
    "@app.route(\"/submit\", methods=[\"POST\"])\n",
    "def submit():\n",
    "    # Process the form submission\n",
    "    return redirect(url_for(\"thank_you\"))\n",
    "\n",
    "@app.route(\"/thank-you\")\n",
    "def thank_you():\n",
    "    return \"Thank you for submitting the form!\"\n",
    "Redirect the user to a login page if they are not authenticated:\n",
    "\n",
    "from flask import redirect, url_for, session\n",
    "\n",
    "@app.route(\"/dashboard\")\n",
    "def dashboard():\n",
    "    if \"user_id\" not in session:\n",
    "        return redirect(url_for(\"login\"))\n",
    "    # Display the dashboard for the logged-in user\n",
    "Redirect the user to a custom error page if an error occurs:\n",
    "\n",
    "from flask import redirect, url_for, render_template\n",
    "\n",
    "@app.route(\"/page-not-found\")\n",
    "def page_not_found():\n",
    "    return render_template(\"404.html\"), 404\n",
    "\n",
    "@app.route(\"/view/<int:id>\")\n",
    "def view(id):\n",
    "    # Attempt to retrieve the requested item\n",
    "    if not item_found:\n",
    "        return redirect(url_for(\"page_not_found\"))\n",
    "    # Display the requested item\n",
    "The redirect() function is a powerful tool that allows you to control the flow of your application by redirecting users to different URLs based on various conditions. It is a common practice to use redirect() in Flask applications to provide a better user experience and improve the overall functionality of the application."
   ]
  },
  {
   "cell_type": "markdown",
   "id": "ec004a82-0258-4efd-95c9-e909b34fc025",
   "metadata": {},
   "source": [
    "Q4. What are templates in Flask? Why is the render_template() function used?\n",
    "\n",
    "soln:"
   ]
  },
  {
   "cell_type": "markdown",
   "id": "3bc8ea8c-8090-402c-bf2c-7ac7050b2ca5",
   "metadata": {},
   "source": [
    "templates are HTML files that contain placeholders for dynamic content. These placeholders are called template variables and are represented by double curly braces ({{}}). Flask uses a templating engine called Jinja2 that allows you to embed Python code into your HTML templates.\n",
    "\n",
    "Templates are used in Flask to dynamically generate HTML pages based on data from the application's backend. For example, if you're building a blog, you might have a template that generates the HTML for a single blog post based on the post's title, content, and author.\n",
    "\n",
    "To render a template in Flask, you use the render_template() function provided by the Flask framework. The render_template() function takes the name of the template file as its argument and returns the rendered HTML as a string. For example, if you have a template file called home.html, you would render it using the following code:\n",
    "\n",
    "\n",
    "from flask import Flask, render_template\n",
    "\n",
    "app = Flask(__name__)\n",
    "\n",
    "@app.route('/')\n",
    "def home():\n",
    "    return render_template('home.html')\n",
    "In this example, when the user navigates to the root URL (/), the home() function is called, which in turn renders the home.html template using the render_template() function.\n",
    "\n",
    "Using templates in Flask allows you to separate your application's logic from its presentation, making it easier to maintain and update your application's user interface. It also allows you to reuse common HTML elements across multiple pages of your application."
   ]
  },
  {
   "cell_type": "markdown",
   "id": "7dbaafe1-b1e1-46c4-b8a4-dbd86ec968ae",
   "metadata": {},
   "source": [
    "Q5. Create a simple API. Use Postman to test it. Attach the screenshot of the output in the Jupyter Notebook.\n",
    "\n",
    "soln:"
   ]
  },
  {
   "cell_type": "markdown",
   "id": "5a7ef0e3-c72c-4f4b-8726-696cbf6a4bea",
   "metadata": {},
   "source": [
    "from flask import Flask, jsonify\n",
    "\n",
    "app = Flask(__name__)\n",
    "\n",
    "# Define a list of users\n",
    "users = [\n",
    "    {\"id\": 1, \"name\": \"Alice\"},\n",
    "    {\"id\": 2, \"name\": \"Bob\"},\n",
    "    {\"id\": 3, \"name\": \"Charlie\"}\n",
    "]\n",
    "\n",
    "# Define an API endpoint to return the list of users\n",
    "@app.route(\"/users\")\n",
    "def get_users():\n",
    "    return jsonify(users)\n",
    "\n",
    "if __name__ == \"__main__\":\n",
    "    app.run()\n",
    "To test this API using Postman, follow these steps:\n",
    "\n",
    "Open Postman and create a new request.\n",
    "Set the request method to \"GET\".\n",
    "Enter the URL for your API endpoint (e.g. http://localhost:5000/users).\n",
    "Send the request and wait for the response.\n",
    "The response should contain a JSON object with the list of users."
   ]
  },
  {
   "cell_type": "code",
   "execution_count": null,
   "id": "f18b9416-2d03-48d2-82b1-a737d4e79465",
   "metadata": {},
   "outputs": [],
   "source": []
  }
 ],
 "metadata": {
  "kernelspec": {
   "display_name": "Python 3 (ipykernel)",
   "language": "python",
   "name": "python3"
  },
  "language_info": {
   "codemirror_mode": {
    "name": "ipython",
    "version": 3
   },
   "file_extension": ".py",
   "mimetype": "text/x-python",
   "name": "python",
   "nbconvert_exporter": "python",
   "pygments_lexer": "ipython3",
   "version": "3.10.8"
  }
 },
 "nbformat": 4,
 "nbformat_minor": 5
}
