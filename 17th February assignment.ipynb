{
 "cells": [
  {
   "cell_type": "markdown",
   "id": "cc9d4d29-d986-42a5-b859-712f8cd0051f",
   "metadata": {},
   "source": [
    "Q1. What is MongoDB? Explain non-relational databases in short. In which scenarios it is preferred to use\n",
    "MongoDB over SQL databases?"
   ]
  },
  {
   "cell_type": "markdown",
   "id": "e02f71b2-285f-4c82-a69d-6118305a5b06",
   "metadata": {},
   "source": [
    "soln:\n",
    "    \n",
    "    MongoDB is a popular NoSQL database that uses a document-oriented data model instead of a traditional relational database model. It is an open-source database system that stores data in the form of flexible, JSON-like documents that can vary in structure, giving it great flexibility and scalability.\n",
    "\n",
    "Non-relational databases, also known as NoSQL databases, are databases that do not use a traditional table-based relational database structure. Instead, they use various data models, including document-oriented, key-value, graph, and column-family, among others. These databases are designed to handle large volumes of unstructured or semi-structured data and are typically more scalable and flexible than traditional relational databases.\n",
    "\n",
    "There are several scenarios where MongoDB is preferred over SQL databases:\n",
    "\n",
    "When dealing with large volumes of unstructured or semi-structured data.\n",
    "When working with data that requires frequent updates or changes in the data schema.\n",
    "When working with data that needs to be geospatially indexed or queried.\n",
    "When working with data that requires high availability or scalability.\n",
    "When working with data that requires flexible and dynamic queries.\n",
    "In summary, MongoDB is a popular NoSQL database that provides a flexible and scalable solution for handling large volumes of unstructured or semi-structured data. It is often preferred over SQL databases in scenarios where data needs to be highly available, scalable, and flexible, such as in e-commerce, social media, and real-time analytics applications."
   ]
  },
  {
   "cell_type": "markdown",
   "id": "aceeaf54-9982-4959-a547-4b59112c35ba",
   "metadata": {},
   "source": [
    "Q2. State and Explain the features of MongoDB."
   ]
  },
  {
   "cell_type": "markdown",
   "id": "9af506af-9d9a-4a8c-bb8c-b64a8442f067",
   "metadata": {},
   "source": [
    "soln:\n",
    "    \n",
    "    MongoDB is a popular document-oriented NoSQL database system that provides flexible and scalable data storage solutions. Here are some of the key features of MongoDB:\n",
    "\n",
    "Document-oriented: MongoDB is a document-oriented database, which means that it stores data in documents that are similar to JSON objects. Each document is self-contained and can hold complex nested structures.\n",
    "\n",
    "Schemaless: Unlike traditional SQL databases, MongoDB is schemaless, which means that you can add or remove fields from a document without affecting other documents in the collection. This feature allows for more flexibility in data modeling and schema design.\n",
    "\n",
    "High performance: MongoDB is designed for high performance and scalability, with built-in support for horizontal scaling across multiple nodes in a cluster. It also provides high write and read throughput, making it suitable for high-volume data applications.\n",
    "\n",
    "Indexing: MongoDB provides flexible indexing options to support efficient querying of large datasets. It supports a variety of index types, including single-field, compound, geospatial, and text indexes.\n",
    "\n",
    "Replication: MongoDB provides built-in support for replication, allowing data to be replicated across multiple nodes in a cluster for increased data availability and fault tolerance.\n",
    "\n",
    "Sharding: MongoDB also supports sharding, which enables horizontal scaling by distributing data across multiple nodes in a cluster. Sharding allows for the partitioning of large datasets and can help improve query performance.\n",
    "\n",
    "Ad hoc queries: MongoDB supports ad hoc queries, allowing you to query your data in real-time using a flexible query language. This feature allows for faster and more efficient development and testing.\n",
    "\n",
    "In summary, MongoDB is a powerful NoSQL database system that provides a flexible and scalable data storage solution, with features such as document-oriented storage, schemaless design, high performance, indexing, replication, sharding, and ad hoc queries."
   ]
  },
  {
   "cell_type": "markdown",
   "id": "107afa07-086d-44d0-8680-cb837331666e",
   "metadata": {},
   "source": [
    "Q3. Write a code to connect MongoDB to Python. Also, create a database and a collection in MongoDB."
   ]
  },
  {
   "cell_type": "markdown",
   "id": "1933f9f8-aa02-4cd6-8cc8-4606e4c9694b",
   "metadata": {},
   "source": [
    "soln:\n",
    "    \n",
    "    import pymongo\n",
    "\n",
    "# Establish a connection to MongoDB\n",
    "client = pymongo.MongoClient(\"mongodb://localhost:27017/\")\n",
    "\n",
    "# Create a new database called \"mydatabase\"\n",
    "mydb = client[\"mydatabase\"]\n",
    "\n",
    "# Create a new collection called \"customers\"\n",
    "mycol = mydb[\"customers\"]\n",
    "\n",
    "# Add a new document to the \"customers\" collection\n",
    "mydict = { \"name\": \"John\", \"address\": \"Highway 37\" }\n",
    "x = mycol.insert_one(mydict)\n",
    "\n",
    "# Print the ID of the inserted document\n",
    "print(x.inserted_id)"
   ]
  },
  {
   "cell_type": "markdown",
   "id": "e9d88129-dad1-4ba6-8459-2cfce015532f",
   "metadata": {},
   "source": [
    "we first import the pymongo library and use it to establish a connection to a local MongoDB instance running on the default port (27017). We then create a new database called mydatabase using the client object, and a new collection called customers using the mydb object. Finally, we add a new document to the customers collection using the insert_one() method, and print the ID of the inserted document.\n",
    "\n",
    "Note that if the specified database or collection doesn't exist, MongoDB will create them automatically when you add data to them. Also, make sure to replace the MongoDB connection string (mongodb://localhost:27017/) with your own connection string if you're using a remote MongoDB instance."
   ]
  },
  {
   "cell_type": "markdown",
   "id": "430cc474-a957-4c3f-91bc-27b5f3c92845",
   "metadata": {},
   "source": [
    "Q4. Using the database and the collection created in question number 3, write a code to insert one record,\n",
    "and insert many records. Use the find() and find_one() methods to print the inserted record."
   ]
  },
  {
   "cell_type": "markdown",
   "id": "1dcab872-e59b-4705-8a1c-82cda949c39b",
   "metadata": {},
   "source": [
    "soln:\n",
    "    \n",
    "    example code snippet that demonstrates how to insert one record and multiple records into the customers collection in the mydatabase database created in question 3, and then use the find() and find_one() methods to print the inserted record(s):"
   ]
  },
  {
   "cell_type": "markdown",
   "id": "610822ce-60e5-4dbb-822b-c159ea4da5c1",
   "metadata": {},
   "source": [
    "import pymongo\n",
    "\n",
    "# Establish a connection to MongoDB\n",
    "client = pymongo.MongoClient(\"mongodb://localhost:27017/\")\n",
    "\n",
    "# Create a new database called \"mydatabase\"\n",
    "mydb = client[\"mydatabase\"]\n",
    "\n",
    "# Create a new collection called \"customers\"\n",
    "mycol = mydb[\"customers\"]\n",
    "\n",
    "# Insert one record into the \"customers\" collection\n",
    "mydict1 = { \"name\": \"John\", \"address\": \"Highway 37\" }\n",
    "x = mycol.insert_one(mydict1)\n",
    "\n",
    "# Print the inserted record using the find_one() method\n",
    "print(mycol.find_one())\n",
    "\n",
    "# Insert multiple records into the \"customers\" collection\n",
    "mylist = [\n",
    "  { \"name\": \"Amy\", \"address\": \"Apple st 652\" },\n",
    "  { \"name\": \"Hannah\", \"address\": \"Mountain 21\" },\n",
    "  { \"name\": \"Michael\", \"address\": \"Valley 345\" },\n",
    "  { \"name\": \"Sandy\", \"address\": \"Ocean blvd 2\" },\n",
    "  { \"name\": \"Betty\", \"address\": \"Green Grass 1\" },\n",
    "  { \"name\": \"Richard\", \"address\": \"Sky st 331\" },\n",
    "  { \"name\": \"Susan\", \"address\": \"One way 98\" },\n",
    "  { \"name\": \"Vicky\", \"address\": \"Yellow Garden 2\" },\n",
    "  { \"name\": \"Ben\", \"address\": \"Park Lane 38\" },\n",
    "  { \"name\": \"William\", \"address\": \"Central st 954\" },\n",
    "  { \"name\": \"Chuck\", \"address\": \"Main Road 989\" },\n",
    "  { \"name\": \"Viola\", \"address\": \"Sideway 1633\" }\n",
    "]\n",
    "x = mycol.insert_many(mylist)\n",
    "\n",
    "# Print the inserted records using the find() method\n",
    "for x in mycol.find():\n",
    "  print(x)"
   ]
  },
  {
   "cell_type": "markdown",
   "id": "f96b915d-9a38-48d7-9e65-f0f9d98c0ecb",
   "metadata": {},
   "source": [
    "we first establish a connection to MongoDB and create a new database and collection as we did in question 3. We then insert one record into the customers collection using the insert_one() method, and use the find_one() method to print the inserted record.\n",
    "\n",
    "Next, we insert multiple records into the customers collection using the insert_many() method and print all inserted records using the find() method. Note that the find() method returns a cursor object, which we can iterate over to print each document in the collection.\n",
    "\n",
    "Also, note that when using the find() and find_one() methods without any arguments, MongoDB returns all documents in the collection. If you want to filter the results based on specific criteria, you can pass a query object as an argument to these methods."
   ]
  },
  {
   "cell_type": "markdown",
   "id": "47886b3a-e983-4dae-9834-cb7e1ed84604",
   "metadata": {},
   "source": [
    "Q5. Explain how you can use the find() method to query the MongoDB database. Write a simple code to\n",
    "demonstrate this."
   ]
  },
  {
   "cell_type": "markdown",
   "id": "75c13129-7f43-43a0-94c4-c3054bc0a30d",
   "metadata": {},
   "source": [
    "soln:\n",
    "    \n",
    "    The find() method is used to query a MongoDB collection and returns a cursor to the documents in the collection that match the specified query criteria. The basic syntax of the find() method is as follows:\n",
    "\n",
    "\n",
    "cursor = collection.find(query, projection)\n",
    "where collection is the MongoDB collection object, query is a dictionary object specifying the query criteria, and projection is an optional dictionary object specifying which fields to include or exclude in the returned documents.\n",
    "\n",
    "Here are some common examples of how to use the find() method to query a MongoDB database:\n",
    "\n",
    "Find all documents in a collection:\n",
    "\n",
    "\n",
    "cursor = collection.find()\n",
    "Find documents that match a specific field value:\n",
    "\n",
    "\n",
    "query = { \"name\": \"John\" }\n",
    "cursor = collection.find(query)\n",
    "Find documents that match multiple field values:\n",
    "\n",
    "query = { \"name\": \"John\", \"age\": 30 }\n",
    "cursor = collection.find(query)\n",
    "Find documents that match a field value using a comparison operator:\n",
    "\n",
    "query = { \"age\": { \"$gt\": 25 } }\n",
    "cursor = collection.find(query)\n",
    "Find documents that match a field value using a regular expression:\n",
    "\n",
    "import re\n",
    "query = { \"name\": { \"$regex\": \"^J\" } }\n",
    "cursor = collection.find(query)\n",
    "Here's an example code snippet that demonstrates how to use the find() method to query a MongoDB database:\n",
    "\n",
    "\n",
    "import pymongo\n",
    "\n",
    "# Establish a connection to MongoDB\n",
    "client = pymongo.MongoClient(\"mongodb://localhost:27017/\")\n",
    "\n",
    "# Select the \"mydatabase\" database and \"customers\" collection\n",
    "db = client[\"mydatabase\"]\n",
    "collection = db[\"customers\"]\n",
    "\n",
    "# Find all documents in the \"customers\" collection\n",
    "cursor = collection.find()\n",
    "\n",
    "# Print all the documents in the cursor\n",
    "for document in cursor:\n",
    "    print(document)\n",
    "In this example, we establish a connection to a local MongoDB instance, select the mydatabase database and the customers collection, and use the find() method to query the collection for all documents. We then iterate over the cursor object returned by the find() method and print each document in the collection."
   ]
  },
  {
   "cell_type": "markdown",
   "id": "59036706-25a0-49af-b14a-b8d3a7a35428",
   "metadata": {},
   "source": [
    "Q6. Explain the sort() method. Give an example to demonstrate sorting in MongoDB.\n",
    "\n",
    "soln:"
   ]
  },
  {
   "cell_type": "markdown",
   "id": "eb8f7b55-d47b-48ef-8964-9b13b164ef3a",
   "metadata": {},
   "source": [
    "The sort() method is used to sort the documents in a MongoDB collection based on one or more fields. The basic syntax of the sort() method is as follows:\n",
    "\n",
    "\n",
    "cursor = collection.find(query).sort(sort_key, sort_order)\n",
    "where collection is the MongoDB collection object, query is a dictionary object specifying the query criteria, sort_key is the name of the field(s) to sort on, and sort_order is the order to sort the field(s) in, either ascending (pymongo.ASCENDING) or descending (pymongo.DESCENDING).\n",
    "\n",
    "Here's an example code snippet that demonstrates how to use the sort() method to sort a MongoDB collection:\n",
    "\n",
    "\n",
    "import pymongo\n",
    "\n",
    "# Establish a connection to MongoDB\n",
    "client = pymongo.MongoClient(\"mongodb://localhost:27017/\")\n",
    "\n",
    "# Select the \"mydatabase\" database and \"customers\" collection\n",
    "db = client[\"mydatabase\"]\n",
    "collection = db[\"customers\"]\n",
    "\n",
    "# Sort the documents by the \"name\" field in ascending order\n",
    "cursor = collection.find().sort(\"name\", pymongo.ASCENDING)\n",
    "\n",
    "# Print the sorted documents\n",
    "for document in cursor:\n",
    "    print(document)\n",
    "In this example, we establish a connection to a local MongoDB instance, select the mydatabase database and the customers collection, and use the find() method to query the collection for all documents. We then use the sort() method to sort the documents by the \"name\" field in ascending order and iterate over the cursor object returned by the find() method to print each sorted document.\n",
    "\n",
    "We can also sort by multiple fields by passing a list of (key, order) pairs to the sort() method:\n",
    "\n",
    "\n",
    "# Sort the documents by the \"name\" field in ascending order and the \"age\" field in descending order\n",
    "cursor = collection.find().sort([(\"name\", pymongo.ASCENDING), (\"age\", pymongo.DESCENDING)])\n",
    "This sorts the documents by the \"name\" field in ascending order, and then by the \"age\" field in descending order."
   ]
  },
  {
   "cell_type": "markdown",
   "id": "dc0b5de0-bd96-4c2c-916d-96c08d23abe9",
   "metadata": {},
   "source": [
    "Q7. Explain why delete_one(), delete_many(), and drop() is used.\n",
    "\n",
    "soln:\n",
    "    "
   ]
  },
  {
   "cell_type": "markdown",
   "id": "c638dac9-7024-4219-b474-88089abe5294",
   "metadata": {},
   "source": [
    "In MongoDB, the delete_one() and delete_many() methods are used to remove one or multiple documents from a collection based on a specified query criteria, while the drop() method is used to remove an entire collection.\n",
    "\n",
    "Here's a brief explanation of when and why each method is typically used:\n",
    "\n",
    "delete_one(): This method is used to remove a single document from a collection that matches a specified query. It is useful when we want to remove a specific document from a collection, for example, if a user requests to delete their account.\n",
    "\n",
    "delete_many(): This method is used to remove multiple documents from a collection that match a specified query. It is useful when we want to remove multiple documents that satisfy a certain criteria, for example, removing all orders that have been canceled.\n",
    "\n",
    "drop(): This method is used to remove an entire collection. It is useful when we want to completely remove a collection and all of its documents, for example, when we want to start fresh with a new collection structure.\n",
    "\n",
    "It's important to note that these methods are irreversible and permanently delete data from a collection or database. Therefore, it's important to use caution and ensure that we are only deleting the data that we intend to delete. Additionally, it's a good practice to have backups of the data to ensure that we can restore it if needed."
   ]
  },
  {
   "cell_type": "code",
   "execution_count": null,
   "id": "ca99ffbd-2073-4aca-b4df-5c7bbc348565",
   "metadata": {},
   "outputs": [],
   "source": []
  }
 ],
 "metadata": {
  "kernelspec": {
   "display_name": "Python 3 (ipykernel)",
   "language": "python",
   "name": "python3"
  },
  "language_info": {
   "codemirror_mode": {
    "name": "ipython",
    "version": 3
   },
   "file_extension": ".py",
   "mimetype": "text/x-python",
   "name": "python",
   "nbconvert_exporter": "python",
   "pygments_lexer": "ipython3",
   "version": "3.10.8"
  }
 },
 "nbformat": 4,
 "nbformat_minor": 5
}
