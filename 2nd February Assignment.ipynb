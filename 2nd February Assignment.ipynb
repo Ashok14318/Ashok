{
 "cells": [
  {
   "cell_type": "markdown",
   "id": "aa2b0825-50d6-4f44-9a41-a7cc44fbd56b",
   "metadata": {},
   "source": [
    "Q1. What are the characteristics of the tuples? Is tuple immutable? \n",
    "\n",
    "soln:\n",
    "   \n",
    "   Order: Tuples maintain the order of elements.\n",
    "\n",
    "Immutable: Once created, tuples cannot be modified.\n",
    "\n",
    "Fixed size: The number of elements in a tuple is fixed, and new elements cannot be added or removed.\n",
    "\n",
    "Indexed: Each element in a tuple has an index that can be used to access it.\n",
    "\n",
    "Heterogeneous: A tuple can contain elements of different data types.\n",
    "\n",
    "In conclusion, Yes, tuples are immutable."
   ]
  },
  {
   "cell_type": "markdown",
   "id": "95a15a16-d84a-47c6-b365-a6f358b0522b",
   "metadata": {},
   "source": [
    "Q2. What are the two tuple methods in python? Give an example of each method. Give a reason why  tuples have only two in-built methods as compared to Lists. \n",
    "\n",
    "\n",
    "soln:\n",
    "    \n",
    "count(): This method returns the number of occurrences of a specified element in a tuple.\n",
    "Example: t = (10, 20, 30, 10, 20, 30)\n",
    "print(t.count(10))\n",
    "output:  2\n",
    "index(): This method returns the index of the first occurrence of a specified element in a tuple.\n",
    "Example: t = (10, 20, 30, 10, 20, 30)\n",
    "         print(t.index(10))\n",
    "output: 0\n",
    "\n",
    "Tuples have only two in-built methods compared to Lists because tuples are designed to be simple and efficient data structures. Lists have many methods because they are meant to be used for more complex operations that require more functionalities. Tuples, on the other hand, are intended to be used as basic building blocks for data structures and are used primarily for indexing and accessing elements.\n"
   ]
  },
  {
   "cell_type": "markdown",
   "id": "5d4a761d-e630-4ab3-b5a9-62e3ead3a899",
   "metadata": {},
   "source": [
    "Q3.  Which collection datatypes in python do not allow duplicate items? Write a code using a set to remove  duplicates from the given list.\n",
    "List = [1, 1, 1, 2, 1, 3, 1, 4, 2, 1, 2, 2, 2, 3, 2, 4, 3, 1, 3, 2, 3, 3, 3, 4, 4, 1, 4, 2, 4, 3, 4, 4]\n",
    "\n",
    "\n",
    "soln:\n",
    "    \n",
    "    Sets are the built-in data type that do not allow duplicate items.\n",
    "\n"
   ]
  },
  {
   "cell_type": "code",
   "execution_count": 3,
   "id": "fb1177bf-cbae-4778-9544-120d4200c0c9",
   "metadata": {},
   "outputs": [
    {
     "name": "stdout",
     "output_type": "stream",
     "text": [
      "[1, 2, 3, 4]\n"
     ]
    }
   ],
   "source": [
    "List = [1, 1, 1, 2, 1, 3, 1, 4, 2, 1, 2, 2, 2, 3, 2, 4, 3, 1, 3, 2, 3, 3, 3, 4, 4, 1, 4, 2, 4, 3, 4, 4] \n",
    "this_set=set(List)\n",
    "this_List=list(this_set)\n",
    "print(this_List)\n"
   ]
  },
  {
   "cell_type": "markdown",
   "id": "dc21a9f6-22be-4db7-a37d-c8a13e0b2b12",
   "metadata": {},
   "source": [
    "Q4. Explain the difference between the union() and update() methods for a set. Give an example of  each method.\n",
    "\n",
    "soln:\n",
    "\n",
    "The union() method is used to combine the elements of two or more sets and return a new set that contains all elements from both sets, without any duplicates.\n",
    "\n",
    "The update() method is used to add the elements of one set to another set. It modifies the original set by adding all elements from another set to it, without any duplicates.\n",
    "\n"
   ]
  },
  {
   "cell_type": "markdown",
   "id": "4b0761e3-c7fb-4509-9b05-1a76e9d15a6c",
   "metadata": {},
   "source": [
    "union:"
   ]
  },
  {
   "cell_type": "code",
   "execution_count": 4,
   "id": "38b71b14-c622-4ff9-9db3-c7e82bacdbaa",
   "metadata": {},
   "outputs": [
    {
     "name": "stdout",
     "output_type": "stream",
     "text": [
      "{17, 18, 19, 7, 8, 10}\n"
     ]
    }
   ],
   "source": [
    "set1 = {7, 8, 10}\n",
    "set2 = {17, 18, 19}\n",
    "\n",
    "set3 = set1.union(set2)\n",
    "print(set3)"
   ]
  },
  {
   "cell_type": "markdown",
   "id": "7e04c602-1878-4735-9ee2-54602e04dd5b",
   "metadata": {},
   "source": [
    "update:"
   ]
  },
  {
   "cell_type": "code",
   "execution_count": 5,
   "id": "8be84af1-5f06-407e-a0d8-280b7ab4d588",
   "metadata": {},
   "outputs": [
    {
     "name": "stdout",
     "output_type": "stream",
     "text": [
      "{17, 18, 19, 7, 8, 10}\n"
     ]
    }
   ],
   "source": [
    "set1.update(set2)\n",
    "print(set1)"
   ]
  },
  {
   "cell_type": "markdown",
   "id": "6960d708-9b7c-4c58-bb9e-62cfa20dbe29",
   "metadata": {},
   "source": [
    "Q5. What is a dictionary? Give an example. Also, state whether a dictionary is ordered or unordered. \n",
    "\n",
    "soln:\n",
    "    \n",
    "    A dictionary is a collection of key-value pairs, where each key is unique and maps to a corresponding value. In programming, dictionaries are commonly used for fast and efficient lookups, where the key is used to search for the value.\n",
    "\n",
    "example:\n"
   ]
  },
  {
   "cell_type": "code",
   "execution_count": 6,
   "id": "ef3b7732-fb0a-4ee8-834e-0caadb989c8a",
   "metadata": {},
   "outputs": [
    {
     "data": {
      "text/plain": [
       "'22678678'"
      ]
     },
     "execution_count": 6,
     "metadata": {},
     "output_type": "execute_result"
    }
   ],
   "source": [
    "emp_id = {\n",
    "  'Misro': '22678678',\n",
    "  'krishna': '673783867',\n",
    "  'arjun': '67654478'\n",
    "}\n",
    "\n",
    "emp_id['Misro']"
   ]
  },
  {
   "cell_type": "markdown",
   "id": "95465150-34e2-41d5-b18d-5abd495a4b4d",
   "metadata": {},
   "source": [
    "In Python, dictionaries are unordered, meaning the items have no defined order. The order of items in a dictionary may change during the lifetime of the dictionary, but this doesn't affect the ability to access the values by their keys.\n"
   ]
  },
  {
   "cell_type": "markdown",
   "id": "f354ce0b-6850-40bd-9f15-9f89ac77e0c7",
   "metadata": {},
   "source": [
    "Q6. Can we create a nested dictionary? If so, please give an example by creating a simple one-level  nested dictionary. \n",
    "\n",
    "soln:\n",
    "   \n",
    "   Yes, you can create a nested dictionary in Python. A nested dictionary is a dictionary that contains another dictionary as its value. Here's an example of a simple one-level nested dictionary:\n"
   ]
  },
  {
   "cell_type": "code",
   "execution_count": 7,
   "id": "ed7920cf-922f-41f4-a2d7-d52f95f7b1c6",
   "metadata": {},
   "outputs": [
    {
     "name": "stdout",
     "output_type": "stream",
     "text": [
      "Thane\n"
     ]
    }
   ],
   "source": [
    "person = {\n",
    "  'name': 'virat kohli',\n",
    "  'address': {\n",
    "    'street': '18 Main St',\n",
    "    'city': 'Thane',\n",
    "    'state': 'Mumbai',\n",
    "    'zip': '12345'\n",
    "  }\n",
    "}\n",
    "\n",
    "print(person['address']['city'])"
   ]
  },
  {
   "cell_type": "markdown",
   "id": "e4b15df0-3f08-420d-996d-c0729931e4da",
   "metadata": {},
   "source": [
    "Q7. Using setdefault() method, create key named topics in the given dictionary and also add the value of  the key as this list ['Python', 'Machine Learning’, 'Deep Learning'] \n",
    "dict1 = {'language' : 'Python', 'course': 'Data Science Masters'} \n",
    "\n",
    "soln:\n",
    "\n",
    "setdefault() method can be used to add a new key-value pair to a dictionary, or to update the value for an existing key. If the specified key does not exist in the dictionary, a new key-value pair will be added. If the key already exists, its value will be updated. Here's how you can use setdefault() to create the 'topics' key in the dict1 dictionary\n",
    "\n"
   ]
  },
  {
   "cell_type": "code",
   "execution_count": 8,
   "id": "fe10fb5c-10ec-452a-bb70-d6535387b05b",
   "metadata": {},
   "outputs": [
    {
     "name": "stdout",
     "output_type": "stream",
     "text": [
      "{'language': 'Python', 'course': 'Data Science Masters', 'topics': ['Python', 'Machine Learning', 'Deep Learning']}\n"
     ]
    }
   ],
   "source": [
    "dict1 = {'language' : 'Python', 'course': 'Data Science Masters'}\n",
    "dict1.setdefault('topics', ['Python', 'Machine Learning', 'Deep Learning'])\n",
    "print(dict1)\n"
   ]
  },
  {
   "cell_type": "markdown",
   "id": "ac49bae8-1b48-4cd7-8077-430ea81de5d6",
   "metadata": {},
   "source": [
    "Q8. What are the three view objects in dictionaries? Use the three in-built methods in python to display  these three view objects for the given dictionary. \n",
    "dict1 = {'Sport': 'Cricket' , 'Teams': ['India', 'Australia', 'England', 'South Africa', 'Sri Lanka', 'New Zealand']} \n",
    "\n",
    "soln:\n",
    "\n",
    "In Python, dictionaries have three view objects: keys(), values(), and items(). These methods return a view of the dictionary's keys, values, and key-value pairs, respectively. Here's how you can use these methods to display the view objects for the given dict1 dictionary:\n",
    "\n"
   ]
  },
  {
   "cell_type": "code",
   "execution_count": 9,
   "id": "58c0d402-9b37-43a7-947e-12b338709408",
   "metadata": {},
   "outputs": [
    {
     "name": "stdout",
     "output_type": "stream",
     "text": [
      "dict_keys(['Sport', 'Teams'])\n",
      "dict_values(['Cricket', ['India', 'Australia', 'England', 'South Africa', 'Sri Lanka', 'New Zealand']])\n",
      "dict_items([('Sport', 'Cricket'), ('Teams', ['India', 'Australia', 'England', 'South Africa', 'Sri Lanka', 'New Zealand'])])\n"
     ]
    }
   ],
   "source": [
    "dict1 = {'Sport': 'Cricket' , 'Teams': ['India', 'Australia', 'England', 'South Africa', 'Sri Lanka', 'New Zealand']}\n",
    "\n",
    "# Display the keys\n",
    "print(dict1.keys()) # Output: dict_keys(['Sport', 'Teams'])\n",
    "\n",
    "# Display the values\n",
    "print(dict1.values()) # Output: dict_values(['Cricket', ['India', 'Australia', 'England', 'South Africa', 'Sri Lanka', 'New Zealand']])\n",
    "\n",
    "# Display the key-value pairs\n",
    "print(dict1.items()) # Output: dict_items([('Sport', 'Cricket'), ('Teams', ['India', 'Australia', 'England', 'South Africa', 'Sri Lanka', 'New Zealand'])])\n"
   ]
  },
  {
   "cell_type": "code",
   "execution_count": null,
   "id": "e28aaf2a-43b3-4683-babd-f599df9aea91",
   "metadata": {},
   "outputs": [],
   "source": []
  }
 ],
 "metadata": {
  "kernelspec": {
   "display_name": "Python 3 (ipykernel)",
   "language": "python",
   "name": "python3"
  },
  "language_info": {
   "codemirror_mode": {
    "name": "ipython",
    "version": 3
   },
   "file_extension": ".py",
   "mimetype": "text/x-python",
   "name": "python",
   "nbconvert_exporter": "python",
   "pygments_lexer": "ipython3",
   "version": "3.10.8"
  }
 },
 "nbformat": 4,
 "nbformat_minor": 5
}
