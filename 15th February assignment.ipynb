{
 "cells": [
  {
   "cell_type": "markdown",
   "id": "5f7afe05-84be-42c4-9ee3-211c9d338acd",
   "metadata": {},
   "source": [
    "Q1. What is multiprocessing in python? Why is it useful?  \n",
    "\n",
    "soln:\n",
    "    \n",
    "    Multiprocessing is the use of multiple processes to achieve parallelism in a program. In Python, the multiprocessing module provides a way to create and manage separate processes, each of which can execute code independently of the main program. This allows multiple tasks to be performed simultaneously, taking advantage of multiple CPU cores and increasing overall performance.\n",
    "\n",
    "Multiprocessing is useful in a variety of situations, such as:\n",
    "\n",
    "Parallel processing: Some problems can be divided into independent subtasks that can be executed in parallel. Multiprocessing can be used to distribute these subtasks across multiple processes, allowing them to execute simultaneously and reducing overall computation time.\n",
    "\n",
    "Heavy computation: Some computations can be very resource-intensive and take a long time to complete. Multiprocessing can be used to distribute the computation across multiple processes, allowing each process to handle a portion of the work and reducing the overall time required to complete the computation.\n",
    "\n",
    "Blocking I/O: In some cases, a program may need to wait for I/O operations to complete before proceeding. Multiprocessing can be used to execute these operations in parallel, allowing the program to continue processing other tasks while waiting for the I/O operations to complete.\n",
    "\n",
    "Overall, multiprocessing can be a powerful tool for increasing the performance and efficiency of Python programs, particularly in situations where parallel processing can be used to speed up computation or I/O-bound tasks."
   ]
  },
  {
   "cell_type": "markdown",
   "id": "426269fb-5b9d-4221-900c-b9a779fe8681",
   "metadata": {},
   "source": [
    "Q2. What are the differences between multiprocessing and multithreading? \n",
    "\n",
    "soln:\n",
    "    \n",
    "    Multiprocessing and multithreading are both techniques used to achieve parallelism in a program, but they differ in several ways:\n",
    "\n",
    "Memory: In a multithreaded program, all threads share the same memory space, which can be both an advantage and a disadvantage. On the one hand, this can make communication between threads easier, as they can share data directly. On the other hand, it can also make the program more prone to race conditions and other synchronization issues.\n",
    "In a multiprocessing program, each process has its own memory space, which can help avoid some of these issues. However, it also means that communication between processes requires more overhead, such as serialization and deserialization of data.\n",
    "\n",
    "CPU utilization: In a multithreaded program, all threads run on the same CPU, which means that they are subject to the limitations of that CPU, such as its clock speed and number of cores. This can limit the amount of parallelism that can be achieved.\n",
    "In a multiprocessing program, each process can run on a separate CPU, which can provide greater parallelism and better overall performance.\n",
    "\n",
    "Scalability: Because of the limitations of the CPU, multithreading may not be as scalable as multiprocessing. As the number of threads increases, the program may reach a point where the CPU is saturated and additional threads do not provide any benefit.\n",
    "In a multiprocessing program, additional processes can be added to take advantage of additional CPUs, which can provide greater scalability.\n",
    "\n",
    "Complexity: Because of the shared memory space, multithreaded programs can be more complex and difficult to debug, particularly when dealing with synchronization issues.\n",
    "In a multiprocessing program, each process is independent and has its own memory space, which can simplify the program and make it easier to reason about.\n",
    "\n",
    "Overall, the choice between multiprocessing and multithreading depends on the specific requirements of the program and the resources available. Multithreading can be a good choice for programs that are primarily I/O-bound or that require frequent communication between threads, while multiprocessing can be a better choice for programs that are primarily CPU-bound and can benefit from parallel execution."
   ]
  },
  {
   "cell_type": "markdown",
   "id": "c30784ed-ab8c-43a4-b3d4-9d22387182bf",
   "metadata": {},
   "source": [
    "Q3. Write a python code to create a process using the multiprocessing module. \n",
    "\n",
    "soln:\n",
    "    \n",
    "    "
   ]
  },
  {
   "cell_type": "code",
   "execution_count": 2,
   "id": "46386aa8-f859-422e-8c12-d31d4265cf19",
   "metadata": {},
   "outputs": [
    {
     "name": "stdout",
     "output_type": "stream",
     "text": [
      "Child process\n",
      "Parent process\n"
     ]
    }
   ],
   "source": [
    "import multiprocessing\n",
    "\n",
    "def process_func():\n",
    "    print(\"Child process\")\n",
    "\n",
    "if __name__ == '__main__':\n",
    "    p = multiprocessing.Process(target=process_func)\n",
    "    p.start()\n",
    "    p.join()\n",
    "    print(\"Parent process\")"
   ]
  },
  {
   "cell_type": "markdown",
   "id": "1d63283c-5cb5-4970-b3ff-a8c2087b4d9d",
   "metadata": {},
   "source": [
    "This code defines a function process_func() which will be run in the child process. The multiprocessing.Process class is used to create a new process, and the target argument is set to the process_func function. The start() method is called to start the child process, and the join() method is called to wait for the child process to finish before continuing with the parent process. Finally, a message is printed from the parent process to indicate that it has finished running."
   ]
  },
  {
   "cell_type": "markdown",
   "id": "cdf50dc7-5061-49c4-aced-0049e6bbfff8",
   "metadata": {},
   "source": [
    "Q4. What is a multiprocessing pool in python? Why is it used? \n",
    "\n",
    "\n",
    "\n",
    "soln:\n",
    "\n",
    "\n",
    "In Python's multiprocessing module, a pool is a group of worker processes that can execute tasks in parallel. The main advantage of using a pool is that it can help you easily parallelize your code without needing to manually manage the creation and management of multiple processes.\n",
    "\n",
    "The multiprocessing.Pool class is used to create a pool of worker processes. Once you have a pool, you can submit tasks to the pool using the apply(), map(), and imap() methods. These methods take a function and its arguments as inputs, and then execute the function using one of the available worker processes in the pool.\n",
    "\n",
    "The map() and imap() methods are particularly useful when you have a large number of tasks to run in parallel. map() will execute the function with each item in the input iterable, while imap() returns an iterator that allows you to process results as they become available.\n",
    "\n",
    "Here's an example of how to use a multiprocessing.Pool:"
   ]
  },
  {
   "cell_type": "code",
   "execution_count": 3,
   "id": "d4769b5e-3d5e-4199-92bd-fbec6ded2c33",
   "metadata": {},
   "outputs": [
    {
     "name": "stdout",
     "output_type": "stream",
     "text": [
      "[0, 1, 4, 9, 16, 25, 36, 49, 64, 81]\n"
     ]
    }
   ],
   "source": [
    "import multiprocessing\n",
    "\n",
    "def square(x):\n",
    "    return x**2\n",
    "\n",
    "if __name__ == '__main__':\n",
    "    pool = multiprocessing.Pool(processes=4)\n",
    "    results = pool.map(square, range(10))\n",
    "    print(results)"
   ]
  },
  {
   "cell_type": "markdown",
   "id": "2fbceb69-d083-413d-8836-7e4c5529bd01",
   "metadata": {},
   "source": [
    "we create a pool of 4 worker processes using multiprocessing.Pool(processes=4). We then use the map() method to apply the square() function to the numbers 0 through 9, in parallel. The results of the function are collected and printed using the print() function."
   ]
  },
  {
   "cell_type": "markdown",
   "id": "3a1407e2-7eda-4779-8d20-ffacc4145e15",
   "metadata": {},
   "source": [
    "Q5. How can we create a pool of worker processes in python using the multiprocessing module? \n",
    "\n",
    "soln:\n",
    "    \n",
    "    "
   ]
  },
  {
   "cell_type": "code",
   "execution_count": 4,
   "id": "f71f4497-30b7-4e90-804e-6348d33f86fd",
   "metadata": {},
   "outputs": [
    {
     "name": "stdout",
     "output_type": "stream",
     "text": [
      "[0, 1, 4, 9, 16, 25, 36, 49, 64, 81]\n"
     ]
    }
   ],
   "source": [
    "import multiprocessing\n",
    "\n",
    "def square(n):\n",
    "    return n * n\n",
    "\n",
    "if __name__ == '__main__':\n",
    "    # Create a pool of 4 worker processes\n",
    "    with multiprocessing.Pool(processes=4) as pool:\n",
    "        # Apply the square function to the numbers 0 to 9\n",
    "        results = pool.map(square, range(10))\n",
    "        print(results)"
   ]
  },
  {
   "cell_type": "markdown",
   "id": "c88a8f5c-3b6e-4593-8450-429515c9ee44",
   "metadata": {},
   "source": [
    "we create a Pool object with 4 worker processes using multiprocessing.Pool(processes=4). We then use the map() method to apply the square() function to the numbers 0 to 9 in parallel. Finally, we print the results of the map() method. Note that the with statement is used to ensure that the Pool object is cleaned up properly after the work is done."
   ]
  },
  {
   "cell_type": "markdown",
   "id": "8f43d0e7-5c41-4c7b-8f8e-1da2e81d5f18",
   "metadata": {},
   "source": [
    "Q6. Write a python program to create 4 processes, each process should print a different number using the  multiprocessing module in python. \n",
    "\n",
    "soln:\n",
    "    \n",
    "    "
   ]
  },
  {
   "cell_type": "code",
   "execution_count": 5,
   "id": "368a0bf0-ca5d-43da-a493-290fa52b7c9b",
   "metadata": {},
   "outputs": [
    {
     "name": "stdout",
     "output_type": "stream",
     "text": [
      "Number: 0, Process: Process-10\n",
      "Number: 1, Process: Process-11\n",
      "Number: 2, Process: Process-12\n",
      "Number: 3, Process: Process-13\n"
     ]
    }
   ],
   "source": [
    "import multiprocessing\n",
    "\n",
    "def print_number(num):\n",
    "    print(f\"Number: {num}, Process: {multiprocessing.current_process().name}\")\n",
    "\n",
    "if __name__ == '__main__':\n",
    "    processes = []\n",
    "    for i in range(4):\n",
    "        p = multiprocessing.Process(target=print_number, args=(i,))\n",
    "        processes.append(p)\n",
    "        p.start()\n",
    "\n",
    "    for p in processes:\n",
    "        p.join()"
   ]
  },
  {
   "cell_type": "markdown",
   "id": "410acedf-dd45-4dc5-b0f5-e7ffa8b6d477",
   "metadata": {},
   "source": [
    "we define a function print_number() that takes a number as an argument and prints it along with the name of the process that is printing the number. We then create a list of Process objects, one for each number to be printed, and start each process by calling its start() method. Finally, we use a for loop to call the join() method of each process to wait for it to finish executing."
   ]
  },
  {
   "cell_type": "code",
   "execution_count": null,
   "id": "85f560da-054f-4cf4-a2b5-c1373dab9cfd",
   "metadata": {},
   "outputs": [],
   "source": []
  }
 ],
 "metadata": {
  "kernelspec": {
   "display_name": "Python 3 (ipykernel)",
   "language": "python",
   "name": "python3"
  },
  "language_info": {
   "codemirror_mode": {
    "name": "ipython",
    "version": 3
   },
   "file_extension": ".py",
   "mimetype": "text/x-python",
   "name": "python",
   "nbconvert_exporter": "python",
   "pygments_lexer": "ipython3",
   "version": "3.10.8"
  }
 },
 "nbformat": 4,
 "nbformat_minor": 5
}
