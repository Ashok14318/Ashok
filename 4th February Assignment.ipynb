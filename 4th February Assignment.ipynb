{
 "cells": [
  {
   "cell_type": "markdown",
   "id": "560ac987-2194-45dc-9f22-b31c90050a11",
   "metadata": {},
   "source": [
    "Q1. Create a python program to sort the given list of tuples based on integer value using a  lambda function.  \n",
    "[('Sachin Tendulkar', 34357), ('Ricky Ponting', 27483), ('Jack Kallis', 25534), ('Virat Kohli', 24936)] \n",
    "\n",
    "soln:\n",
    "\n"
   ]
  },
  {
   "cell_type": "code",
   "execution_count": 1,
   "id": "29d34053-3ac9-46d3-bfad-342390aec801",
   "metadata": {},
   "outputs": [
    {
     "name": "stdout",
     "output_type": "stream",
     "text": [
      "Sachin Tendulkar 34357\n",
      "Ricky Ponting 27483\n",
      "Jack Kallis 25534\n",
      "Virat Kohli 24936\n"
     ]
    }
   ],
   "source": [
    "players = [('Sachin Tendulkar', 34357), ('Ricky Ponting', 27483), ('Jack Kallis', 25534), ('Virat Kohli', 24936)]\n",
    "\n",
    "# Sort the list of tuples by the integer value using a lambda function\n",
    "players.sort(key=lambda x: x[1], reverse=True)\n",
    "\n",
    "# Print the sorted list of tuples\n",
    "for player in players:\n",
    "    print(player[0], player[1])"
   ]
  },
  {
   "cell_type": "markdown",
   "id": "398f966a-1974-4432-891c-1f870426e436",
   "metadata": {},
   "source": [
    "Q2. Write a Python Program to find the squares of all the numbers in the given list of integers using  lambda and map functions. \n",
    "[1, 2, 3, 4, 5, 6, 7, 8, 9, 10] \n",
    "\n",
    "soln:\n",
    "\n",
    "\n"
   ]
  },
  {
   "cell_type": "code",
   "execution_count": 2,
   "id": "e538b5cc-ad49-4157-b717-b8014695dbd5",
   "metadata": {},
   "outputs": [
    {
     "name": "stdout",
     "output_type": "stream",
     "text": [
      "1\n",
      "4\n",
      "9\n",
      "16\n",
      "25\n",
      "36\n",
      "49\n",
      "64\n",
      "81\n",
      "100\n"
     ]
    }
   ],
   "source": [
    "numbers = [1, 2, 3, 4, 5, 6, 7, 8, 9, 10]\n",
    "\n",
    "# Find the squares of all the numbers using a lambda function and map\n",
    "squared_numbers = list(map(lambda x: x**2, numbers))\n",
    "\n",
    "# Print the squares of all the numbers\n",
    "for square in squared_numbers:\n",
    "    print(square)\n"
   ]
  },
  {
   "cell_type": "markdown",
   "id": "71fcd6fd-4700-4c76-bfb0-fecb278c1290",
   "metadata": {},
   "source": [
    "Q3. Write a python program to convert the given list of integers into a tuple of strings. Use map and  lambda functions \n",
    "Given String: [1, 2, 3, 4, 5, 6, 7, 8, 9, 10] \n",
    "Expected output: ('1', '2', '3', '4', '5', '6', '7', '8', '9', '10') \n",
    "\n",
    "soln:\n",
    "\n",
    "\n"
   ]
  },
  {
   "cell_type": "code",
   "execution_count": 3,
   "id": "fc0b93bc-60bd-4a35-8183-2ddadfcd91f1",
   "metadata": {},
   "outputs": [
    {
     "name": "stdout",
     "output_type": "stream",
     "text": [
      "('1', '2', '3', '4', '5', '6', '7', '8', '9', '10')\n"
     ]
    }
   ],
   "source": [
    "numbers = [1, 2, 3, 4, 5, 6, 7, 8, 9, 10]\n",
    "\n",
    "# Convert the list of integers into a tuple of strings using a lambda function and map\n",
    "string_numbers = tuple(map(lambda x: str(x), numbers))\n",
    "\n",
    "# Print the tuple of strings\n",
    "print(string_numbers)"
   ]
  },
  {
   "cell_type": "markdown",
   "id": "39baa6c8-51dc-4ef3-ab84-f8c343192939",
   "metadata": {},
   "source": [
    "Q4.  Write a python program using reduce function to compute the product of a list containing numbers  from 1 to 25. \n",
    "\n",
    "soln:\n",
    "\n"
   ]
  },
  {
   "cell_type": "code",
   "execution_count": 4,
   "id": "c2880ddb-2330-4dbd-a79a-9153b96c33d5",
   "metadata": {},
   "outputs": [
    {
     "name": "stdout",
     "output_type": "stream",
     "text": [
      "15511210043330985984000000\n"
     ]
    }
   ],
   "source": [
    "from functools import reduce\n",
    "\n",
    "numbers = list(range(1, 26))\n",
    "\n",
    "# Compute the product of all numbers using reduce\n",
    "product = reduce(lambda x, y: x*y, numbers)\n",
    "\n",
    "# Print the product\n",
    "print(product)\n"
   ]
  },
  {
   "cell_type": "markdown",
   "id": "79e5f0a4-3e4a-471f-bbb5-56ce1a444bc4",
   "metadata": {},
   "source": [
    "Q5. Write a python program to filter the numbers in a given list that are divisible by 2 and 3 using the  filter function. \n",
    "[2, 3, 6, 9, 27, 60, 90, 120, 55, 46] \n",
    "\n",
    "soln:\n",
    "\n",
    "\n"
   ]
  },
  {
   "cell_type": "code",
   "execution_count": null,
   "id": "fe8bb9af-e5fb-434d-b270-156562d80114",
   "metadata": {},
   "outputs": [],
   "source": []
  }
 ],
 "metadata": {
  "kernelspec": {
   "display_name": "Python 3 (ipykernel)",
   "language": "python",
   "name": "python3"
  },
  "language_info": {
   "codemirror_mode": {
    "name": "ipython",
    "version": 3
   },
   "file_extension": ".py",
   "mimetype": "text/x-python",
   "name": "python",
   "nbconvert_exporter": "python",
   "pygments_lexer": "ipython3",
   "version": "3.10.8"
  }
 },
 "nbformat": 4,
 "nbformat_minor": 5
}
