{
 "cells": [
  {
   "cell_type": "markdown",
   "id": "c2517805-8baa-4f29-9798-e934d9187e9b",
   "metadata": {},
   "source": [
    "Q1, Create a vehicle class with an init method having instance variables as name_of_vehicle, max_speed  and average_of_vehicle.  \n",
    "\n",
    "soln:\n",
    "\n",
    "\n"
   ]
  },
  {
   "cell_type": "code",
   "execution_count": 1,
   "id": "18a7a7fe-46a3-44c8-b676-e07604689b96",
   "metadata": {},
   "outputs": [],
   "source": [
    "class Vehicle:\n",
    "    def __init__(self, name_of_vehicle, max_speed, average_of_vehicle):\n",
    "        self.name_of_vehicle = name_of_vehicle\n",
    "        self.max_speed = max_speed\n",
    "        self.average_of_vehicle = average_of_vehicle"
   ]
  },
  {
   "cell_type": "markdown",
   "id": "0eac8d4a-8623-4c21-bf2c-f64508cc1d13",
   "metadata": {},
   "source": [
    "Q2.  Create a child class car from the vehicle class created in Que 1, which will inherit the vehicle class.  Create a method named seating_capacity which takes capacity as an argument and returns the name of  the vehicle and its seating capacity. \n",
    "\n",
    "soln:\n",
    "\n",
    "\n"
   ]
  },
  {
   "cell_type": "code",
   "execution_count": 2,
   "id": "4a76d1c8-4170-446f-8090-96d666a70135",
   "metadata": {},
   "outputs": [],
   "source": [
    "class Car(Vehicle):\n",
    "    def seating_capacity(self, capacity):\n",
    "        return f\"{self.name_of_vehicle} with seating capacity of {capacity}\"\n"
   ]
  },
  {
   "cell_type": "markdown",
   "id": "f2e3e617-9edb-4f29-bdc8-61353d09ffe2",
   "metadata": {},
   "source": [
    "Q3. What is multiple inheritance? Write a python code to demonstrate multiple inheritance. \n",
    "\n",
    "soln:\n",
    "\n",
    "Multiple inheritance is a feature of object-oriented programming languages where a single class can inherit properties and behaviors from multiple parent classes. In other words, a class can inherit from more than one base class. This allows for creating new classes that reuse and extend the functionality of existing classes.\n",
    "\n"
   ]
  },
  {
   "cell_type": "code",
   "execution_count": 3,
   "id": "07f1c667-11ae-48a5-a9e9-2ca5a90af4b9",
   "metadata": {},
   "outputs": [
    {
     "name": "stdout",
     "output_type": "stream",
     "text": [
      "Parent1 method1\n",
      "Parent2 method2\n"
     ]
    }
   ],
   "source": [
    "class Parent1:\n",
    "    def method1(self):\n",
    "        print(\"Parent1 method1\")\n",
    "\n",
    "class Parent2:\n",
    "    def method2(self):\n",
    "        print(\"Parent2 method2\")\n",
    "\n",
    "class Child(Parent1, Parent2):\n",
    "    pass\n",
    "\n",
    "c = Child()\n",
    "c.method1() # Output: Parent1 method1\n",
    "c.method2() # Output: Parent2 method2"
   ]
  },
  {
   "cell_type": "markdown",
   "id": "842014a8-2a94-4018-b3c4-93466c20565d",
   "metadata": {},
   "source": [
    "Q4. What are getter and setter in python? Create a class and create a getter and a setter method in this  class. \n",
    "\n",
    "soln:\n",
    "\n",
    "Getters and setters are methods that allow you to access and modify the values of class attributes in a controlled way. Getter methods allow you to retrieve the values of class attributes, while setter methods allow you to set the values of class attributes.\n",
    "\n",
    "In Python, you can define getters and setters using properties. A property is a special type of method that acts like an attribute and is accessed like an attribute.\n"
   ]
  },
  {
   "cell_type": "code",
   "execution_count": 4,
   "id": "c8913841-a8c3-4361-a5ff-34ba30891cbe",
   "metadata": {},
   "outputs": [
    {
     "name": "stdout",
     "output_type": "stream",
     "text": [
      "5\n",
      "7\n"
     ]
    }
   ],
   "source": [
    "class Circle:\n",
    "    def __init__(self, radius):\n",
    "        self._radius = radius\n",
    "\n",
    "    @property\n",
    "    def radius(self):\n",
    "        return self._radius\n",
    "\n",
    "    @radius.setter\n",
    "    def radius(self, value):\n",
    "        if value < 0:\n",
    "            raise ValueError(\"Radius cannot be negative\")\n",
    "        self._radius = value\n",
    "\n",
    "circle = Circle(5)\n",
    "print(circle.radius) # Output: 5\n",
    "\n",
    "circle.radius = 7\n",
    "print(circle.radius) # Output: 7"
   ]
  },
  {
   "cell_type": "markdown",
   "id": "b0653693-b4d7-4bf9-a71c-dbce83018024",
   "metadata": {},
   "source": [
    "Q5.What is method overriding in python? Write a python code to demonstrate method overriding. \n",
    "\n",
    "soln:\n",
    "\n",
    "Method overriding is a feature of object-oriented programming languages that allows a subclass to provide a new implementation for a method that is already defined in its superclass. This allows the subclass to inherit the behavior of the superclass while modifying it to fit its own needs\n"
   ]
  },
  {
   "cell_type": "code",
   "execution_count": 5,
   "id": "126d0ebe-7c4b-4807-bce5-4aadfe1e4928",
   "metadata": {},
   "outputs": [
    {
     "name": "stdout",
     "output_type": "stream",
     "text": [
      "The animal makes a sound\n",
      "The dog barks\n"
     ]
    }
   ],
   "source": [
    "class Animal:\n",
    "    def make_sound(self):\n",
    "        print(\"The animal makes a sound\")\n",
    "\n",
    "class Dog(Animal):\n",
    "    def make_sound(self):\n",
    "        print(\"The dog barks\")\n",
    "\n",
    "animal = Animal()\n",
    "animal.make_sound() # Output: The animal makes a sound\n",
    "\n",
    "dog = Dog()\n",
    "dog.make_sound() # Output: The dog barks"
   ]
  },
  {
   "cell_type": "code",
   "execution_count": null,
   "id": "14530e02-879e-42c8-80a5-9e9d299d5ad0",
   "metadata": {},
   "outputs": [],
   "source": []
  }
 ],
 "metadata": {
  "kernelspec": {
   "display_name": "Python 3 (ipykernel)",
   "language": "python",
   "name": "python3"
  },
  "language_info": {
   "codemirror_mode": {
    "name": "ipython",
    "version": 3
   },
   "file_extension": ".py",
   "mimetype": "text/x-python",
   "name": "python",
   "nbconvert_exporter": "python",
   "pygments_lexer": "ipython3",
   "version": "3.10.8"
  }
 },
 "nbformat": 4,
 "nbformat_minor": 5
}
