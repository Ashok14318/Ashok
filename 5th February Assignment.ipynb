{
 "cells": [
  {
   "cell_type": "markdown",
   "id": "c1d9c76c-c11c-4548-b774-554ce0bd49b5",
   "metadata": {},
   "source": [
    "Q1. Explain Class and Object with respect to Object-Oriented Programming. Give a suitable example. \n",
    "\n",
    "soln:\n",
    "\n"
   ]
  },
  {
   "cell_type": "markdown",
   "id": "65c073c8-43f8-47ae-b44d-f4b43a622856",
   "metadata": {},
   "source": [
    "Classes and objects are fundamental concepts in Object-Oriented Programming (OOP).\n",
    "\n",
    "A class is a blueprint for creating objects. It defines a set of attributes (data) and behaviors (methods) that objects of that class possess. Classes allow us to encapsulate data and behavior and define a new data type.\n",
    "\n",
    "An object is an instance of a class. It has its own set of attributes and behaviors, which are defined by the class. Each object is unique and has its own values for its attributes.\n",
    "\n",
    "For example, we can define a class Person that has the attributes name, age, and gender, and methods greet and get_details.\n"
   ]
  },
  {
   "cell_type": "code",
   "execution_count": 1,
   "id": "64a9237b-4929-4e06-a6de-95a4e572bdbe",
   "metadata": {},
   "outputs": [
    {
     "name": "stdout",
     "output_type": "stream",
     "text": [
      "Hello, my name is John\n",
      "Hello, my name is Jane\n",
      "Name: John\n",
      "Age: 32\n",
      "Gender: Male\n",
      "Name: Jane\n",
      "Age: 28\n",
      "Gender: Female\n"
     ]
    }
   ],
   "source": [
    "class Person:\n",
    "    def __init__(self, name, age, gender):\n",
    "        self.name = name\n",
    "        self.age = age\n",
    "        self.gender = gender\n",
    "\n",
    "    def greet(self):\n",
    "        print(\"Hello, my name is\", self.name)\n",
    "\n",
    "    def get_details(self):\n",
    "        print(\"Name:\", self.name)\n",
    "        print(\"Age:\", self.age)\n",
    "        print(\"Gender:\", self.gender)\n",
    "\n",
    "# Create objects of the Person class\n",
    "person1 = Person(\"John\", 32, \"Male\")\n",
    "person2 = Person(\"Jane\", 28, \"Female\")\n",
    "\n",
    "# Call the greet method of each object\n",
    "person1.greet()\n",
    "person2.greet()\n",
    "\n",
    "# Call the get_details method of each object\n",
    "person1.get_details()\n",
    "person2.get_details()"
   ]
  },
  {
   "cell_type": "markdown",
   "id": "a85a13f5-7a2f-45cf-9dbe-56233f93c477",
   "metadata": {},
   "source": [
    "Q2. Name the four pillars of OOPs. \n",
    "\n",
    "soln:\n",
    "\n",
    "The four pillars of OOPs are:\n",
    "\n",
    "Abstraction: Hiding the implementation details and exposing only the necessary information to the user.\n",
    "\n",
    "Encapsulation: Wrapping data and behavior within a class, thereby preventing external access to the internal workings of the object.\n",
    "\n",
    "Inheritance: Reusing and extending existing classes to create new ones.\n",
    "\n",
    "Polymorphism: Allowing objects of different classes to be treated as objects of the same class, based on their shared behavior.\n",
    "\n",
    "\n"
   ]
  },
  {
   "cell_type": "markdown",
   "id": "73b91c45-036a-4bae-9161-48e4e08c75ee",
   "metadata": {},
   "source": [
    "Q3. Explain why the __init__() function is used. Give a suitable example.\n",
    "\n",
    "soln:\n",
    "\n",
    " __init__() function, also known as the constructor, is used in Python to initialize an object's state when it is created. It is called automatically when an object is instantiated, i.e., when a new instance of a class is created. The __init__() function takes the newly created object as its first argument and can take additional arguments as well.\n",
    "\n",
    "The main purpose of the __init__() function is to set the initial state of an object by defining its attributes and performing any necessary setup. For example, if a class represents a bank account, the __init__() function might be used to set the account balance, account number, and other attributes when a new account is created.\n",
    "\n",
    "Here's an example that demonstrates the use of the __init__() function in defining a class for a bank account:"
   ]
  },
  {
   "cell_type": "code",
   "execution_count": 2,
   "id": "3ad0ccb1-510f-4229-9e83-f7a545525626",
   "metadata": {},
   "outputs": [
    {
     "name": "stdout",
     "output_type": "stream",
     "text": [
      "Account Number: 12345\n",
      "Balance: 1000\n"
     ]
    }
   ],
   "source": [
    "class BankAccount:\n",
    "    def __init__(self, account_number, balance):\n",
    "        self.account_number = account_number\n",
    "        self.balance = balance\n",
    "        \n",
    "    def deposit(self, amount):\n",
    "        self.balance += amount\n",
    "        \n",
    "    def withdraw(self, amount):\n",
    "        self.balance -= amount\n",
    "        \n",
    "# Creating an object of the BankAccount class\n",
    "account = BankAccount(12345, 1000)\n",
    "print(\"Account Number:\", account.account_number)\n",
    "print(\"Balance:\", account.balance)\n"
   ]
  },
  {
   "cell_type": "markdown",
   "id": "8a9dc2b5-c703-4b96-a19b-1fadd0565fb6",
   "metadata": {},
   "source": [
    "Q4. Why self is used in OOPs? \n",
    "\n",
    "soln:\n",
    "\n",
    "object-oriented programming, self is a special parameter that is used to refer to the instance of the object that is being created or manipulated. The self parameter is automatically passed to any method that is called on an object and provides a way for the method to access and modify the instance-specific data stored in the object's attributes.\n",
    "\n"
   ]
  },
  {
   "cell_type": "markdown",
   "id": "e661d64f-0bfb-4221-a497-492e134a88f8",
   "metadata": {},
   "source": [
    "Q5. What is inheritance? Give an example for each type of inheritance. \n",
    "\n",
    "soln:\n",
    "\n",
    "Inheritance is a key feature of object-oriented programming that allows new classes to be created based on existing classes. The new class inherits all of the properties and methods of the existing class, and can also add new properties and methods or override the existing ones to customize the behavior of the new class.\n",
    "\n",
    "There are 5 types of inheritance in object-oriented programming:\n",
    "\n",
    "Single inheritance: A class derives properties and behaviors from a single parent class.\n",
    "\n",
    "Multiple inheritance: A class derives properties and behaviors from multiple parent classes.\n",
    "\n",
    "Multi-level inheritance: A class derives properties and behaviors from a parent class, which in turn derives from a grandparent class.\n",
    "\n",
    "Hierarchical inheritance: A class can have multiple child classes inheriting its properties and behaviors.\n",
    "\n",
    "Hybrid inheritance: A combination of any two or more types of inheritance."
   ]
  },
  {
   "cell_type": "markdown",
   "id": "cc2167b5-6dad-4b41-a7fa-fb3ce5900bf1",
   "metadata": {},
   "source": [
    "1)Single Inheritance: This is the simplest form of inheritance, where a single class inherits properties and methods from a single parent class. For example:"
   ]
  },
  {
   "cell_type": "code",
   "execution_count": 3,
   "id": "28c3812b-585c-4635-a841-cb3908ced392",
   "metadata": {},
   "outputs": [
    {
     "name": "stdout",
     "output_type": "stream",
     "text": [
      "Bark\n"
     ]
    }
   ],
   "source": [
    "class Animal:\n",
    "    def __init__(self, name):\n",
    "        self.name = name\n",
    "        \n",
    "    def make_sound(self):\n",
    "        print(\"Animal Sound\")\n",
    "        \n",
    "class Dog(Animal):\n",
    "    def make_sound(self):\n",
    "        print(\"Bark\")\n",
    "        \n",
    "dog = Dog(\"Max\")\n",
    "dog.make_sound()"
   ]
  },
  {
   "cell_type": "markdown",
   "id": "f00b9d04-816d-4c82-8927-698accc71fd5",
   "metadata": {},
   "source": [
    "2)Multiple Inheritance: This is a form of inheritance where a single class inherits properties and methods from multiple parent classes. For example:"
   ]
  },
  {
   "cell_type": "code",
   "execution_count": 6,
   "id": "39f5b9f7-d35f-4ded-80a4-66bc62168d2b",
   "metadata": {},
   "outputs": [
    {
     "name": "stdout",
     "output_type": "stream",
     "text": [
      "In Class2\n"
     ]
    }
   ],
   "source": [
    "class Class1:\n",
    "    def m(self):\n",
    "        print(\"In Class1\")\n",
    "       \n",
    "class Class2(Class1):\n",
    "    def m(self):\n",
    "        print(\"In Class2\")\n",
    " \n",
    "class Class3(Class1):\n",
    "    def m(self):\n",
    "        print(\"In Class3\") \n",
    "        \n",
    "class Class4(Class2, Class3):\n",
    "    pass  \n",
    "     \n",
    "obj = Class4()\n",
    "obj.m()"
   ]
  },
  {
   "cell_type": "markdown",
   "id": "c20df429-aae4-478b-9b1e-818470f591d3",
   "metadata": {},
   "source": [
    "3)Multi-level Inheritance: This is a form of inheritance where a class inherits properties and methods from its parent class, which in turn inherits from its parent class, and so on. For example:\n"
   ]
  },
  {
   "cell_type": "code",
   "execution_count": 7,
   "id": "3b59b090-d20e-4b62-a342-2aae241245b6",
   "metadata": {},
   "outputs": [
    {
     "name": "stdout",
     "output_type": "stream",
     "text": [
      "Jane\n"
     ]
    }
   ],
   "source": [
    "class GrandParent:\n",
    "    def __init__(self, name):\n",
    "        self.name = name\n",
    "        \n",
    "    def get_name(self):\n",
    "        return self.name\n",
    "        \n",
    "class Parent(GrandParent):\n",
    "    pass\n",
    "\n",
    "class Child(Parent):\n",
    "    pass\n",
    "\n",
    "child = Child(\"Jane\")\n",
    "print(child.get_name()) # Output: Jane"
   ]
  },
  {
   "cell_type": "code",
   "execution_count": null,
   "id": "f1aa1385-ca5c-40a1-9024-4d8d5c09498f",
   "metadata": {},
   "outputs": [],
   "source": []
  }
 ],
 "metadata": {
  "kernelspec": {
   "display_name": "Python 3 (ipykernel)",
   "language": "python",
   "name": "python3"
  },
  "language_info": {
   "codemirror_mode": {
    "name": "ipython",
    "version": 3
   },
   "file_extension": ".py",
   "mimetype": "text/x-python",
   "name": "python",
   "nbconvert_exporter": "python",
   "pygments_lexer": "ipython3",
   "version": "3.10.8"
  }
 },
 "nbformat": 4,
 "nbformat_minor": 5
}
